{
 "cells": [
  {
   "cell_type": "markdown",
   "id": "1be7e407",
   "metadata": {},
   "source": [
    "<H1>ANALISIS DEL COMPORTAMIENTO DE LA DEMANDA DE OCUPACIÓN HOTELERA.<H1/>"
   ]
  },
  {
   "cell_type": "markdown",
   "id": "a53b4bf2",
   "metadata": {},
   "source": [
    "Con este analisis se busca mejorar las estrategias para garantizar la ocupación a partir de la toma decisiones acertada en cuanto a \n",
    "* Politica de precios \n",
    "* Gestión de cancelaciones \n",
    "* Anticipación de las reservas"
   ]
  },
  {
   "cell_type": "markdown",
   "id": "14dff722",
   "metadata": {},
   "source": [
    "### Etapa 1 : Entendimiento de los datos\n"
   ]
  },
  {
   "cell_type": "code",
   "execution_count": 1,
   "id": "1920666e",
   "metadata": {},
   "outputs": [],
   "source": [
    "import pandas as pd\n",
    "import numpy as np\n",
    "import matplotlib.pyplot as plt\n",
    "import seaborn as sns\n",
    "\n",
    "\n",
    "\n",
    "pd.set_option('display.max_rows', 100)\n",
    "pd.set_option('display.max_columns', 100)"
   ]
  },
  {
   "cell_type": "code",
   "execution_count": 2,
   "id": "7a07e7b2",
   "metadata": {},
   "outputs": [
    {
     "name": "stderr",
     "output_type": "stream",
     "text": [
      "C:\\Users\\jarat\\AppData\\Local\\Temp\\ipykernel_4968\\1894450639.py:2: DtypeWarning: Columns (24) have mixed types. Specify dtype option on import or set low_memory=False.\n",
      "  df = pd.read_csv('./data/hotel_bookings_modified.csv')\n"
     ]
    },
    {
     "data": {
      "text/html": [
       "<div>\n",
       "<style scoped>\n",
       "    .dataframe tbody tr th:only-of-type {\n",
       "        vertical-align: middle;\n",
       "    }\n",
       "\n",
       "    .dataframe tbody tr th {\n",
       "        vertical-align: top;\n",
       "    }\n",
       "\n",
       "    .dataframe thead th {\n",
       "        text-align: right;\n",
       "    }\n",
       "</style>\n",
       "<table border=\"1\" class=\"dataframe\">\n",
       "  <thead>\n",
       "    <tr style=\"text-align: right;\">\n",
       "      <th></th>\n",
       "      <th>hotel</th>\n",
       "      <th>is_canceled</th>\n",
       "      <th>lead_time</th>\n",
       "      <th>arrival_date_year</th>\n",
       "      <th>arrival_date_month</th>\n",
       "      <th>arrival_date_week_number</th>\n",
       "      <th>arrival_date_day_of_month</th>\n",
       "      <th>stays_in_weekend_nights</th>\n",
       "      <th>stays_in_week_nights</th>\n",
       "      <th>adults</th>\n",
       "      <th>children</th>\n",
       "      <th>babies</th>\n",
       "      <th>meal</th>\n",
       "      <th>country</th>\n",
       "      <th>market_segment</th>\n",
       "      <th>distribution_channel</th>\n",
       "      <th>is_repeated_guest</th>\n",
       "      <th>previous_cancellations</th>\n",
       "      <th>previous_bookings_not_canceled</th>\n",
       "      <th>reserved_room_type</th>\n",
       "      <th>assigned_room_type</th>\n",
       "      <th>booking_changes</th>\n",
       "      <th>deposit_type</th>\n",
       "      <th>agent</th>\n",
       "      <th>company</th>\n",
       "      <th>days_in_waiting_list</th>\n",
       "      <th>customer_type</th>\n",
       "      <th>adr</th>\n",
       "      <th>required_car_parking_spaces</th>\n",
       "      <th>total_of_special_requests</th>\n",
       "      <th>reservation_status</th>\n",
       "      <th>reservation_status_date</th>\n",
       "      <th>kids</th>\n",
       "    </tr>\n",
       "  </thead>\n",
       "  <tbody>\n",
       "    <tr>\n",
       "      <th>0</th>\n",
       "      <td>Resort Hotel</td>\n",
       "      <td>0</td>\n",
       "      <td>342</td>\n",
       "      <td>2015.0</td>\n",
       "      <td>July</td>\n",
       "      <td>27</td>\n",
       "      <td>1</td>\n",
       "      <td>0</td>\n",
       "      <td>0</td>\n",
       "      <td>2</td>\n",
       "      <td>0.0</td>\n",
       "      <td>0</td>\n",
       "      <td>BB</td>\n",
       "      <td>PRT</td>\n",
       "      <td>Direct</td>\n",
       "      <td>Direct</td>\n",
       "      <td>0</td>\n",
       "      <td>0</td>\n",
       "      <td>0</td>\n",
       "      <td>C</td>\n",
       "      <td>C</td>\n",
       "      <td>3</td>\n",
       "      <td>No Deposit</td>\n",
       "      <td>NaN</td>\n",
       "      <td>NaN</td>\n",
       "      <td>0.0</td>\n",
       "      <td>Transient</td>\n",
       "      <td>0.0</td>\n",
       "      <td>0.0</td>\n",
       "      <td>0.0</td>\n",
       "      <td>Check-Out</td>\n",
       "      <td>2015-07-01</td>\n",
       "      <td>NaN</td>\n",
       "    </tr>\n",
       "    <tr>\n",
       "      <th>1</th>\n",
       "      <td>Resort Hotel</td>\n",
       "      <td>0</td>\n",
       "      <td>737</td>\n",
       "      <td>2015.0</td>\n",
       "      <td>July</td>\n",
       "      <td>27</td>\n",
       "      <td>1</td>\n",
       "      <td>0</td>\n",
       "      <td>0</td>\n",
       "      <td>2</td>\n",
       "      <td>0.0</td>\n",
       "      <td>0</td>\n",
       "      <td>BB</td>\n",
       "      <td>PRT</td>\n",
       "      <td>Direct</td>\n",
       "      <td>Direct</td>\n",
       "      <td>0</td>\n",
       "      <td>0</td>\n",
       "      <td>0</td>\n",
       "      <td>C</td>\n",
       "      <td>C</td>\n",
       "      <td>4</td>\n",
       "      <td>No Deposit</td>\n",
       "      <td>NaN</td>\n",
       "      <td>NaN</td>\n",
       "      <td>0.0</td>\n",
       "      <td>Transient</td>\n",
       "      <td>0.0</td>\n",
       "      <td>0.0</td>\n",
       "      <td>0.0</td>\n",
       "      <td>Check-Out</td>\n",
       "      <td>2015-07-01</td>\n",
       "      <td>NaN</td>\n",
       "    </tr>\n",
       "    <tr>\n",
       "      <th>2</th>\n",
       "      <td>Resort Hotel</td>\n",
       "      <td>0</td>\n",
       "      <td>7</td>\n",
       "      <td>2015.0</td>\n",
       "      <td>July</td>\n",
       "      <td>27</td>\n",
       "      <td>1</td>\n",
       "      <td>0</td>\n",
       "      <td>1</td>\n",
       "      <td>1</td>\n",
       "      <td>0.0</td>\n",
       "      <td>0</td>\n",
       "      <td>BB</td>\n",
       "      <td>GBR</td>\n",
       "      <td>Direct</td>\n",
       "      <td>Direct</td>\n",
       "      <td>0</td>\n",
       "      <td>0</td>\n",
       "      <td>0</td>\n",
       "      <td>A</td>\n",
       "      <td>C</td>\n",
       "      <td>0</td>\n",
       "      <td>No Deposit</td>\n",
       "      <td>NaN</td>\n",
       "      <td>NaN</td>\n",
       "      <td>0.0</td>\n",
       "      <td>Transient</td>\n",
       "      <td>75.0</td>\n",
       "      <td>0.0</td>\n",
       "      <td>0.0</td>\n",
       "      <td>Check-Out</td>\n",
       "      <td>2015-07-02</td>\n",
       "      <td>NaN</td>\n",
       "    </tr>\n",
       "    <tr>\n",
       "      <th>3</th>\n",
       "      <td>Resort Hotel</td>\n",
       "      <td>0</td>\n",
       "      <td>13</td>\n",
       "      <td>2015.0</td>\n",
       "      <td>July</td>\n",
       "      <td>27</td>\n",
       "      <td>1</td>\n",
       "      <td>0</td>\n",
       "      <td>1</td>\n",
       "      <td>1</td>\n",
       "      <td>0.0</td>\n",
       "      <td>0</td>\n",
       "      <td>BB</td>\n",
       "      <td>GBR</td>\n",
       "      <td>Corporate</td>\n",
       "      <td>Corporate</td>\n",
       "      <td>0</td>\n",
       "      <td>0</td>\n",
       "      <td>0</td>\n",
       "      <td>A</td>\n",
       "      <td>A</td>\n",
       "      <td>0</td>\n",
       "      <td>No Deposit</td>\n",
       "      <td>304.0</td>\n",
       "      <td>NaN</td>\n",
       "      <td>0.0</td>\n",
       "      <td>Transient</td>\n",
       "      <td>75.0</td>\n",
       "      <td>0.0</td>\n",
       "      <td>0.0</td>\n",
       "      <td>Check-Out</td>\n",
       "      <td>2015-07-02</td>\n",
       "      <td>NaN</td>\n",
       "    </tr>\n",
       "    <tr>\n",
       "      <th>4</th>\n",
       "      <td>Resort Hotel</td>\n",
       "      <td>0</td>\n",
       "      <td>14</td>\n",
       "      <td>2015.0</td>\n",
       "      <td>July</td>\n",
       "      <td>27</td>\n",
       "      <td>1</td>\n",
       "      <td>0</td>\n",
       "      <td>2</td>\n",
       "      <td>2</td>\n",
       "      <td>0.0</td>\n",
       "      <td>0</td>\n",
       "      <td>BB</td>\n",
       "      <td>GBR</td>\n",
       "      <td>Online TA</td>\n",
       "      <td>TA/TO</td>\n",
       "      <td>0</td>\n",
       "      <td>0</td>\n",
       "      <td>0</td>\n",
       "      <td>A</td>\n",
       "      <td>A</td>\n",
       "      <td>0</td>\n",
       "      <td>No Deposit</td>\n",
       "      <td>240.0</td>\n",
       "      <td>NaN</td>\n",
       "      <td>0.0</td>\n",
       "      <td>Transient</td>\n",
       "      <td>98.0</td>\n",
       "      <td>0.0</td>\n",
       "      <td>1.0</td>\n",
       "      <td>Check-Out</td>\n",
       "      <td>2015-07-03</td>\n",
       "      <td>NaN</td>\n",
       "    </tr>\n",
       "    <tr>\n",
       "      <th>5</th>\n",
       "      <td>Resort Hotel</td>\n",
       "      <td>0</td>\n",
       "      <td>14</td>\n",
       "      <td>2015.0</td>\n",
       "      <td>July</td>\n",
       "      <td>27</td>\n",
       "      <td>1</td>\n",
       "      <td>0</td>\n",
       "      <td>2</td>\n",
       "      <td>2</td>\n",
       "      <td>0.0</td>\n",
       "      <td>0</td>\n",
       "      <td>BB</td>\n",
       "      <td>GBR</td>\n",
       "      <td>Online TA</td>\n",
       "      <td>TA/TO</td>\n",
       "      <td>0</td>\n",
       "      <td>0</td>\n",
       "      <td>0</td>\n",
       "      <td>A</td>\n",
       "      <td>A</td>\n",
       "      <td>0</td>\n",
       "      <td>No Deposit</td>\n",
       "      <td>240.0</td>\n",
       "      <td>NaN</td>\n",
       "      <td>0.0</td>\n",
       "      <td>Transient</td>\n",
       "      <td>98.0</td>\n",
       "      <td>0.0</td>\n",
       "      <td>1.0</td>\n",
       "      <td>Check-Out</td>\n",
       "      <td>2015-07-03</td>\n",
       "      <td>NaN</td>\n",
       "    </tr>\n",
       "    <tr>\n",
       "      <th>6</th>\n",
       "      <td>Resort Hotel</td>\n",
       "      <td>0</td>\n",
       "      <td>0</td>\n",
       "      <td>2015.0</td>\n",
       "      <td>July</td>\n",
       "      <td>27</td>\n",
       "      <td>1</td>\n",
       "      <td>0</td>\n",
       "      <td>2</td>\n",
       "      <td>2</td>\n",
       "      <td>0.0</td>\n",
       "      <td>0</td>\n",
       "      <td>BB</td>\n",
       "      <td>PRT</td>\n",
       "      <td>Direct</td>\n",
       "      <td>Direct</td>\n",
       "      <td>0</td>\n",
       "      <td>0</td>\n",
       "      <td>0</td>\n",
       "      <td>C</td>\n",
       "      <td>C</td>\n",
       "      <td>0</td>\n",
       "      <td>No Deposit</td>\n",
       "      <td>NaN</td>\n",
       "      <td>NaN</td>\n",
       "      <td>0.0</td>\n",
       "      <td>Transient</td>\n",
       "      <td>107.0</td>\n",
       "      <td>0.0</td>\n",
       "      <td>0.0</td>\n",
       "      <td>Check-Out</td>\n",
       "      <td>2015-07-03</td>\n",
       "      <td>NaN</td>\n",
       "    </tr>\n",
       "    <tr>\n",
       "      <th>7</th>\n",
       "      <td>Resort Hotel</td>\n",
       "      <td>0</td>\n",
       "      <td>9</td>\n",
       "      <td>2015.0</td>\n",
       "      <td>July</td>\n",
       "      <td>27</td>\n",
       "      <td>1</td>\n",
       "      <td>0</td>\n",
       "      <td>2</td>\n",
       "      <td>2</td>\n",
       "      <td>0.0</td>\n",
       "      <td>0</td>\n",
       "      <td>FB</td>\n",
       "      <td>PRT</td>\n",
       "      <td>Direct</td>\n",
       "      <td>Direct</td>\n",
       "      <td>0</td>\n",
       "      <td>0</td>\n",
       "      <td>0</td>\n",
       "      <td>C</td>\n",
       "      <td>C</td>\n",
       "      <td>0</td>\n",
       "      <td>No Deposit</td>\n",
       "      <td>303.0</td>\n",
       "      <td>NaN</td>\n",
       "      <td>0.0</td>\n",
       "      <td>Transient</td>\n",
       "      <td>103.0</td>\n",
       "      <td>0.0</td>\n",
       "      <td>1.0</td>\n",
       "      <td>Check-Out</td>\n",
       "      <td>2015-07-03</td>\n",
       "      <td>NaN</td>\n",
       "    </tr>\n",
       "    <tr>\n",
       "      <th>8</th>\n",
       "      <td>Resort Hotel</td>\n",
       "      <td>1</td>\n",
       "      <td>85</td>\n",
       "      <td>2015.0</td>\n",
       "      <td>July</td>\n",
       "      <td>27</td>\n",
       "      <td>1</td>\n",
       "      <td>0</td>\n",
       "      <td>3</td>\n",
       "      <td>2</td>\n",
       "      <td>0.0</td>\n",
       "      <td>0</td>\n",
       "      <td>BB</td>\n",
       "      <td>PRT</td>\n",
       "      <td>Online TA</td>\n",
       "      <td>TA/TO</td>\n",
       "      <td>0</td>\n",
       "      <td>0</td>\n",
       "      <td>0</td>\n",
       "      <td>A</td>\n",
       "      <td>A</td>\n",
       "      <td>0</td>\n",
       "      <td>No Deposit</td>\n",
       "      <td>240.0</td>\n",
       "      <td>NaN</td>\n",
       "      <td>0.0</td>\n",
       "      <td>Transient</td>\n",
       "      <td>82.0</td>\n",
       "      <td>0.0</td>\n",
       "      <td>1.0</td>\n",
       "      <td>Canceled</td>\n",
       "      <td>2015-05-06</td>\n",
       "      <td>NaN</td>\n",
       "    </tr>\n",
       "    <tr>\n",
       "      <th>9</th>\n",
       "      <td>Resort Hotel</td>\n",
       "      <td>1</td>\n",
       "      <td>75</td>\n",
       "      <td>2015.0</td>\n",
       "      <td>July</td>\n",
       "      <td>27</td>\n",
       "      <td>1</td>\n",
       "      <td>0</td>\n",
       "      <td>3</td>\n",
       "      <td>2</td>\n",
       "      <td>0.0</td>\n",
       "      <td>0</td>\n",
       "      <td>HB</td>\n",
       "      <td>PRT</td>\n",
       "      <td>Offline TA/TO</td>\n",
       "      <td>TA/TO</td>\n",
       "      <td>0</td>\n",
       "      <td>0</td>\n",
       "      <td>0</td>\n",
       "      <td>D</td>\n",
       "      <td>D</td>\n",
       "      <td>0</td>\n",
       "      <td>No Deposit</td>\n",
       "      <td>15.0</td>\n",
       "      <td>NaN</td>\n",
       "      <td>0.0</td>\n",
       "      <td>Transient</td>\n",
       "      <td>105.5</td>\n",
       "      <td>0.0</td>\n",
       "      <td>0.0</td>\n",
       "      <td>Canceled</td>\n",
       "      <td>2015-04-22</td>\n",
       "      <td>NaN</td>\n",
       "    </tr>\n",
       "  </tbody>\n",
       "</table>\n",
       "</div>"
      ],
      "text/plain": [
       "          hotel  is_canceled  lead_time  arrival_date_year arrival_date_month  \\\n",
       "0  Resort Hotel            0        342             2015.0               July   \n",
       "1  Resort Hotel            0        737             2015.0               July   \n",
       "2  Resort Hotel            0          7             2015.0               July   \n",
       "3  Resort Hotel            0         13             2015.0               July   \n",
       "4  Resort Hotel            0         14             2015.0               July   \n",
       "5  Resort Hotel            0         14             2015.0               July   \n",
       "6  Resort Hotel            0          0             2015.0               July   \n",
       "7  Resort Hotel            0          9             2015.0               July   \n",
       "8  Resort Hotel            1         85             2015.0               July   \n",
       "9  Resort Hotel            1         75             2015.0               July   \n",
       "\n",
       "   arrival_date_week_number  arrival_date_day_of_month  \\\n",
       "0                        27                          1   \n",
       "1                        27                          1   \n",
       "2                        27                          1   \n",
       "3                        27                          1   \n",
       "4                        27                          1   \n",
       "5                        27                          1   \n",
       "6                        27                          1   \n",
       "7                        27                          1   \n",
       "8                        27                          1   \n",
       "9                        27                          1   \n",
       "\n",
       "   stays_in_weekend_nights  stays_in_week_nights  adults  children  babies  \\\n",
       "0                        0                     0       2       0.0       0   \n",
       "1                        0                     0       2       0.0       0   \n",
       "2                        0                     1       1       0.0       0   \n",
       "3                        0                     1       1       0.0       0   \n",
       "4                        0                     2       2       0.0       0   \n",
       "5                        0                     2       2       0.0       0   \n",
       "6                        0                     2       2       0.0       0   \n",
       "7                        0                     2       2       0.0       0   \n",
       "8                        0                     3       2       0.0       0   \n",
       "9                        0                     3       2       0.0       0   \n",
       "\n",
       "  meal country market_segment distribution_channel  is_repeated_guest  \\\n",
       "0   BB     PRT         Direct               Direct                  0   \n",
       "1   BB     PRT         Direct               Direct                  0   \n",
       "2   BB     GBR         Direct               Direct                  0   \n",
       "3   BB     GBR      Corporate            Corporate                  0   \n",
       "4   BB     GBR      Online TA                TA/TO                  0   \n",
       "5   BB     GBR      Online TA                TA/TO                  0   \n",
       "6   BB     PRT         Direct               Direct                  0   \n",
       "7   FB     PRT         Direct               Direct                  0   \n",
       "8   BB     PRT      Online TA                TA/TO                  0   \n",
       "9   HB     PRT  Offline TA/TO                TA/TO                  0   \n",
       "\n",
       "   previous_cancellations  previous_bookings_not_canceled reserved_room_type  \\\n",
       "0                       0                               0                  C   \n",
       "1                       0                               0                  C   \n",
       "2                       0                               0                  A   \n",
       "3                       0                               0                  A   \n",
       "4                       0                               0                  A   \n",
       "5                       0                               0                  A   \n",
       "6                       0                               0                  C   \n",
       "7                       0                               0                  C   \n",
       "8                       0                               0                  A   \n",
       "9                       0                               0                  D   \n",
       "\n",
       "  assigned_room_type  booking_changes deposit_type  agent company  \\\n",
       "0                  C                3   No Deposit    NaN     NaN   \n",
       "1                  C                4   No Deposit    NaN     NaN   \n",
       "2                  C                0   No Deposit    NaN     NaN   \n",
       "3                  A                0   No Deposit  304.0     NaN   \n",
       "4                  A                0   No Deposit  240.0     NaN   \n",
       "5                  A                0   No Deposit  240.0     NaN   \n",
       "6                  C                0   No Deposit    NaN     NaN   \n",
       "7                  C                0   No Deposit  303.0     NaN   \n",
       "8                  A                0   No Deposit  240.0     NaN   \n",
       "9                  D                0   No Deposit   15.0     NaN   \n",
       "\n",
       "   days_in_waiting_list customer_type    adr  required_car_parking_spaces  \\\n",
       "0                   0.0     Transient    0.0                          0.0   \n",
       "1                   0.0     Transient    0.0                          0.0   \n",
       "2                   0.0     Transient   75.0                          0.0   \n",
       "3                   0.0     Transient   75.0                          0.0   \n",
       "4                   0.0     Transient   98.0                          0.0   \n",
       "5                   0.0     Transient   98.0                          0.0   \n",
       "6                   0.0     Transient  107.0                          0.0   \n",
       "7                   0.0     Transient  103.0                          0.0   \n",
       "8                   0.0     Transient   82.0                          0.0   \n",
       "9                   0.0     Transient  105.5                          0.0   \n",
       "\n",
       "   total_of_special_requests reservation_status reservation_status_date  kids  \n",
       "0                        0.0          Check-Out              2015-07-01   NaN  \n",
       "1                        0.0          Check-Out              2015-07-01   NaN  \n",
       "2                        0.0          Check-Out              2015-07-02   NaN  \n",
       "3                        0.0          Check-Out              2015-07-02   NaN  \n",
       "4                        1.0          Check-Out              2015-07-03   NaN  \n",
       "5                        1.0          Check-Out              2015-07-03   NaN  \n",
       "6                        0.0          Check-Out              2015-07-03   NaN  \n",
       "7                        1.0          Check-Out              2015-07-03   NaN  \n",
       "8                        1.0           Canceled              2015-05-06   NaN  \n",
       "9                        0.0           Canceled              2015-04-22   NaN  "
      ]
     },
     "execution_count": 2,
     "metadata": {},
     "output_type": "execute_result"
    }
   ],
   "source": [
    "# Cargar CSV\n",
    "df = pd.read_csv('./data/hotel_bookings_modified.csv')\n",
    "\n",
    "df.head(10)\n"
   ]
  },
  {
   "cell_type": "markdown",
   "id": "5fc6eb75",
   "metadata": {},
   "source": [
    "En esta primera visualización podemos entender la unidad minima de analisis la cual es la reserva, no es el cliente ni el hotel, lo cual nos da un contexto del dataset. \n",
    "También nos permite revisar la estructura de las columnas y plantear algunas preguntas que permitiran limpiar los datos o avanzar con el entendimiento del problema.\n",
    "\n",
    "En este punto surgen preguntas como:\n",
    "* Los valores promedio por noche estan asociados a cancelaciones?\n",
    "* Las reservas canceladas tienen mes de llegada?\n",
    "* La variable kids puede resumir a las variables children y babys?\n",
    "* Existe algun comportamiento de mayor llegada de huespedes en verano? \n",
    "* Las personas reservan con mucho tiempo de anterioridad?\n",
    "* Las personas Prefieren un hoter Resort o un hotel en la ciudad? \n",
    "* Los viajes son de negocios y por eso son en la ciudad ? o los viajes son de ocio y por eso son en verano y en hoteles Resort?"
   ]
  },
  {
   "cell_type": "markdown",
   "id": "8f2f5f60",
   "metadata": {},
   "source": [
    "1.1. Tamaño del dataframe"
   ]
  },
  {
   "cell_type": "code",
   "execution_count": 3,
   "id": "c187c56b",
   "metadata": {},
   "outputs": [
    {
     "name": "stdout",
     "output_type": "stream",
     "text": [
      "El dataframe tiene 58895 filas y 33 columnas.\n"
     ]
    }
   ],
   "source": [
    "# Inspección básica\n",
    "df.shape              # Filas y columnas\n",
    "\n",
    "print(\"El dataframe tiene {} filas y {} columnas.\".format(df.shape[0], df.shape[1]))"
   ]
  },
  {
   "cell_type": "markdown",
   "id": "270fa381",
   "metadata": {},
   "source": [
    "1.2. Inspección de tipos de datos "
   ]
  },
  {
   "cell_type": "code",
   "execution_count": 53,
   "id": "acd82415",
   "metadata": {},
   "outputs": [
    {
     "name": "stdout",
     "output_type": "stream",
     "text": [
      "<class 'pandas.core.frame.DataFrame'>\n",
      "Index: 57941 entries, 2 to 58894\n",
      "Data columns (total 34 columns):\n",
      " #   Column                          Non-Null Count  Dtype   \n",
      "---  ------                          --------------  -----   \n",
      " 0   hotel                           57941 non-null  object  \n",
      " 1   is_canceled                     57941 non-null  bool    \n",
      " 2   lead_time                       57941 non-null  int64   \n",
      " 3   arrival_date_year               57363 non-null  float64 \n",
      " 4   arrival_date_month              57941 non-null  category\n",
      " 5   arrival_date_week_number        57941 non-null  int64   \n",
      " 6   arrival_date_day_of_month       57941 non-null  int64   \n",
      " 7   stays_in_weekend_nights         57941 non-null  int64   \n",
      " 8   stays_in_week_nights            57941 non-null  int64   \n",
      " 9   adults                          57941 non-null  int64   \n",
      " 10  children                        57937 non-null  float64 \n",
      " 11  babies                          57941 non-null  int64   \n",
      " 12  meal                            57941 non-null  object  \n",
      " 13  country                         57476 non-null  object  \n",
      " 14  market_segment                  57941 non-null  object  \n",
      " 15  distribution_channel            57941 non-null  object  \n",
      " 16  is_repeated_guest               57941 non-null  bool    \n",
      " 17  previous_cancellations          57941 non-null  int64   \n",
      " 18  previous_bookings_not_canceled  57941 non-null  int64   \n",
      " 19  reserved_room_type              57941 non-null  object  \n",
      " 20  assigned_room_type              57941 non-null  object  \n",
      " 21  booking_changes                 57941 non-null  int64   \n",
      " 22  deposit_type                    57941 non-null  object  \n",
      " 23  agent                           49229 non-null  float64 \n",
      " 24  company                         3345 non-null   object  \n",
      " 25  days_in_waiting_list            57940 non-null  float64 \n",
      " 26  customer_type                   57360 non-null  object  \n",
      " 27  adr                             57940 non-null  float64 \n",
      " 28  required_car_parking_spaces     57357 non-null  float64 \n",
      " 29  total_of_special_requests       57940 non-null  float64 \n",
      " 30  reservation_status              57366 non-null  object  \n",
      " 31  reservation_status_date         57940 non-null  object  \n",
      " 32  kids                            197 non-null    float64 \n",
      " 33  tipo_reserva                    57941 non-null  category\n",
      "dtypes: bool(2), category(2), float64(8), int64(10), object(12)\n",
      "memory usage: 13.9+ MB\n"
     ]
    }
   ],
   "source": [
    "df.info()           # Tipos de datos y nulos\n"
   ]
  },
  {
   "cell_type": "markdown",
   "id": "3416a01a",
   "metadata": {},
   "source": [
    "Esta inspección nos permite identificar datos con muchos nulos como kids y company, que si bien pueden ser variables utiles para analisis particulares, no son relevante para entender el comportamiento de la generalidad de las reservas.\n",
    "\n",
    "Adicionalmente nos permite identificar la necesidad de algunos ajustes que deben realizarse en la etapa de limpieza y enriquecimiento. Entre ellos:\n",
    "\n",
    "* is_canceled es una variable de tipo entero que puede transformarse a bool para facilitar la lectura e interpretación.\n",
    "* lead_time es una variable cuantitativa discreta que puede enriquecerse como cualitativa ordinal que permite darle una lectura propia del negocio hotelero.\n",
    "* arrival_date_month es una variable categorica que puede enriquecerse dandole un caracter de categorica ordinal\n",
    "\n",
    "Adicionalmente adjuntamos un diccionario enriquecido con los tipos de variable estadistica, resaltando a priori las variables que consideramos relevantes sin embargo no todas se usarán en el analisis:\n",
    "\n",
    "![Texto alternativo](tabla_tipos_datos.jpg)\n",
    "\n",
    "\n"
   ]
  },
  {
   "cell_type": "markdown",
   "id": "37815661",
   "metadata": {},
   "source": [
    "### Etapa 2: Limpieza y enriquecimiento del dataset."
   ]
  },
  {
   "cell_type": "markdown",
   "id": "fc03de09",
   "metadata": {},
   "source": [
    "** Revision de variables categoricas **"
   ]
  },
  {
   "cell_type": "code",
   "execution_count": 5,
   "id": "0f6c088e",
   "metadata": {},
   "outputs": [
    {
     "name": "stderr",
     "output_type": "stream",
     "text": [
      "C:\\Users\\jarat\\AppData\\Local\\Temp\\ipykernel_4968\\1482396133.py:2: FutureWarning: Downcasting behavior in `replace` is deprecated and will be removed in a future version. To retain the old behavior, explicitly call `result.infer_objects(copy=False)`. To opt-in to the future behavior, set `pd.set_option('future.no_silent_downcasting', True)`\n",
      "  df['is_canceled'] = df['is_canceled'].replace({0: False, 1: True})\n",
      "C:\\Users\\jarat\\AppData\\Local\\Temp\\ipykernel_4968\\1482396133.py:8: FutureWarning: Downcasting behavior in `replace` is deprecated and will be removed in a future version. To retain the old behavior, explicitly call `result.infer_objects(copy=False)`. To opt-in to the future behavior, set `pd.set_option('future.no_silent_downcasting', True)`\n",
      "  df['is_repeated_guest'] = df['is_repeated_guest'].replace({0: False, 1: True})\n"
     ]
    },
    {
     "data": {
      "image/png": "[encoded data removed]",
      "text/plain": [
       "<Figure size 1000x500 with 1 Axes>"
      ]
     },
     "metadata": {},
     "output_type": "display_data"
    }
   ],
   "source": [
    "# Se convertirá la columna de cancelación a valores booleanos\n",
    "df['is_canceled'] = df['is_canceled'].replace({0: False, 1: True})\n",
    "\n",
    "# Se corrigen valores atípicos en la fecha de llegada\n",
    "df['arrival_date_year'] = df['arrival_date_year'].replace({20016.: 2016.})\n",
    "\n",
    "# Se convertirá la columna si el husped ya se había alojado previamente\n",
    "df['is_repeated_guest'] = df['is_repeated_guest'].replace({0: False, 1: True})\n",
    "\n",
    "# Inspeccionar valores unicos de arrival_date_month\n",
    "df['arrival_date_month'].unique()\n",
    "\n",
    "# Convertir la columna a categórica ordinal\n",
    "df['arrival_date_month'] = pd.Categorical(\n",
    "    df['arrival_date_month'],\n",
    "    categories=[\"January\", \"February\", \"March\", \"April\", \"May\", \"June\",\"July\", \"August\", \"September\", \"October\", \"November\", \"December\"],\n",
    "    ordered=True\n",
    ")\n",
    "\n",
    "# Ahora podemos graficar la variable arrival_date_month de forma ordenada\n",
    "plt.figure(figsize=(10,5))\n",
    "sns.countplot(data=df, x='arrival_date_month', order=df['arrival_date_month'].cat.categories)\n",
    "plt.xticks(rotation=45)\n",
    "plt.title(\"Número de reservas por mes\")\n",
    "plt.show()"
   ]
  },
  {
   "cell_type": "code",
   "execution_count": null,
   "id": "d7aea351",
   "metadata": {},
   "outputs": [
    {
     "name": "stdout",
     "output_type": "stream",
     "text": [
      "Index(['hotel', 'arrival_date_month', 'meal', 'country', 'market_segment',\n",
      "       'distribution_channel', 'reserved_room_type', 'assigned_room_type',\n",
      "       'deposit_type', 'company', 'customer_type', 'reservation_status',\n",
      "       'reservation_status_date', 'tipo_reserva'],\n",
      "      dtype='object')\n",
      "['Resort Hotel' 'City Hotel']\n",
      "['July', 'August', 'September', 'October', 'November', ..., 'February', 'March', 'April', 'May', 'June']\n",
      "Length: 12\n",
      "Categories (12, object): ['January' < 'February' < 'March' < 'April' ... 'September' < 'October' < 'November' < 'December']\n",
      "['BB' 'FB' 'HB' 'SC' 'Undefined']\n",
      "['Transient' nan 'Contract' 'Transient-Party' 'Group']\n",
      "['C' 'A' 'D' 'E' 'G' 'F' 'I' 'B' 'H' 'L' 'K']\n",
      "['No Deposit' 'Refundable' 'Non Refund' 'No Refund']\n"
     ]
    }
   ],
   "source": [
    "# revision de valores unicos par variables cualitativas\n",
    "print(df.select_dtypes(include=['object', 'category']).columns)\n",
    "\n",
    "print(df['hotel'].unique())\n",
    "\n",
    "print(df['arrival_date_month'].unique())  \n",
    "\n",
    "print(df['meal'].unique()) \n",
    "\n",
    "print(df['customer_type'].unique())  \n",
    "\n",
    "print(df['assigned_room_type'].unique())  \n",
    "\n",
    "print(df['deposit_type'].unique())  "
   ]
  },
  {
   "cell_type": "markdown",
   "id": "3fe3edc5",
   "metadata": {},
   "source": [
    "Podemos evidenciar que las variables categoricas son consistentes y podemos avanzar si realizar actividades de limpieza para ellas. Es llamativo que para la variable customer type existen valores en nan, los cuales tendriamos que entrar a validar y trabajar de forma especial si decidimos trabajar con esta varaible."
   ]
  },
  {
   "cell_type": "markdown",
   "id": "984f6444",
   "metadata": {},
   "source": [
    "** Revision de variables cuantitativas ** "
   ]
  },
  {
   "cell_type": "markdown",
   "id": "943dd9b8",
   "metadata": {},
   "source": [
    "* ADR"
   ]
  },
  {
   "cell_type": "code",
   "execution_count": 6,
   "id": "c81a0dd6",
   "metadata": {},
   "outputs": [
    {
     "data": {
      "text/plain": [
       "count    58894.000000\n",
       "mean        96.250426\n",
       "std         58.555599\n",
       "min         -6.380000\n",
       "25%         60.000000\n",
       "50%         84.000000\n",
       "75%        120.000000\n",
       "max       5400.000000\n",
       "Name: adr, dtype: float64"
      ]
     },
     "execution_count": 6,
     "metadata": {},
     "output_type": "execute_result"
    }
   ],
   "source": [
    "#Estadisticas descriptivas de la variable adr para evidenciar posibles valores atipicos\n",
    "df['adr'].describe()"
   ]
  },
  {
   "cell_type": "code",
   "execution_count": 7,
   "id": "b292a77a",
   "metadata": {},
   "outputs": [],
   "source": [
    "# Remplazo de valor negativo\n",
    "df['adr'] = df['adr'].replace({-6.38: 6.38})"
   ]
  },
  {
   "cell_type": "markdown",
   "id": "17076636",
   "metadata": {},
   "source": [
    "Podemos evidenciar que la variable adr presenta una mediana cercana a su media a pesar del valor maximo de 5400, esto nos puede dar indicios de que se trata de un valor maximo atipico y podria tratarse de un hotel de lujo o un dato mal digitado. \n",
    "\n",
    "También optamos por remplazar el valor negativo teniendo en cuenta que no deberian existir valores promedio por noche en negativo.\n"
   ]
  },
  {
   "cell_type": "code",
   "execution_count": 8,
   "id": "14b4995c",
   "metadata": {},
   "outputs": [
    {
     "data": {
      "text/plain": [
       "is_canceled\n",
       "False    0.865828\n",
       "True     0.134172\n",
       "Name: proportion, dtype: float64"
      ]
     },
     "execution_count": 8,
     "metadata": {},
     "output_type": "execute_result"
    }
   ],
   "source": [
    "#Revisión de valores en cero en relación con las cancelaciones\n",
    "df.loc[df['adr'] ==0]['is_canceled'].value_counts(normalize=True)"
   ]
  },
  {
   "cell_type": "code",
   "execution_count": 9,
   "id": "b00c2814",
   "metadata": {},
   "outputs": [
    {
     "data": {
      "text/plain": [
       "0.01619831904236353"
      ]
     },
     "execution_count": 9,
     "metadata": {},
     "output_type": "execute_result"
    }
   ],
   "source": [
    "df.loc[df['adr'] ==0].shape[0] / df.shape[0]  # Porcentaje de datos con adr en 0"
   ]
  },
  {
   "cell_type": "markdown",
   "id": "31162d35",
   "metadata": {},
   "source": [
    "Realizando esta agrupación podemos ver que los valores de 0 no necesariamente estan asociados a cancelaciones, lo que puede mostrarnos que estos datos son valores erroneos o que se trata de promociones otorgadas en la reserva dado que también coincide con un 13% de cancelaciones que nos da indicios de que los clientes no cancelan un beneficio otorgado. Para este caso vamos a ignorar estos datos dado que no es fruto del analisis considerar promociones brindadas y teniendo en cuenta que la cantidad de datos nulos es baja 954 datos  -> 1% de los datos"
   ]
  },
  {
   "cell_type": "code",
   "execution_count": 10,
   "id": "c242dde0",
   "metadata": {},
   "outputs": [
    {
     "name": "stdout",
     "output_type": "stream",
     "text": [
      "El dataframe tiene ahora 57941 filas y 33 columnas.\n"
     ]
    }
   ],
   "source": [
    "df = df[df['adr'] != 0]  # Filtrar filas donde adr no es 0\n",
    "df.shape\n",
    "print(\"El dataframe tiene ahora {} filas y {} columnas.\".format(df.shape[0], df.shape[1]))"
   ]
  },
  {
   "cell_type": "markdown",
   "id": "68a7d892",
   "metadata": {},
   "source": [
    "* lead_time"
   ]
  },
  {
   "cell_type": "code",
   "execution_count": 11,
   "id": "7c756f3b",
   "metadata": {},
   "outputs": [
    {
     "data": {
      "text/html": [
       "<div>\n",
       "<style scoped>\n",
       "    .dataframe tbody tr th:only-of-type {\n",
       "        vertical-align: middle;\n",
       "    }\n",
       "\n",
       "    .dataframe tbody tr th {\n",
       "        vertical-align: top;\n",
       "    }\n",
       "\n",
       "    .dataframe thead th {\n",
       "        text-align: right;\n",
       "    }\n",
       "</style>\n",
       "<table border=\"1\" class=\"dataframe\">\n",
       "  <thead>\n",
       "    <tr style=\"text-align: right;\">\n",
       "      <th></th>\n",
       "      <th>lead_time</th>\n",
       "    </tr>\n",
       "  </thead>\n",
       "  <tbody>\n",
       "    <tr>\n",
       "      <th>count</th>\n",
       "      <td>57941.000000</td>\n",
       "    </tr>\n",
       "    <tr>\n",
       "      <th>mean</th>\n",
       "      <td>100.858218</td>\n",
       "    </tr>\n",
       "    <tr>\n",
       "      <th>std</th>\n",
       "      <td>101.174362</td>\n",
       "    </tr>\n",
       "    <tr>\n",
       "      <th>min</th>\n",
       "      <td>0.000000</td>\n",
       "    </tr>\n",
       "    <tr>\n",
       "      <th>25%</th>\n",
       "      <td>17.000000</td>\n",
       "    </tr>\n",
       "    <tr>\n",
       "      <th>50%</th>\n",
       "      <td>70.000000</td>\n",
       "    </tr>\n",
       "    <tr>\n",
       "      <th>75%</th>\n",
       "      <td>158.000000</td>\n",
       "    </tr>\n",
       "    <tr>\n",
       "      <th>max</th>\n",
       "      <td>709.000000</td>\n",
       "    </tr>\n",
       "  </tbody>\n",
       "</table>\n",
       "</div>"
      ],
      "text/plain": [
       "          lead_time\n",
       "count  57941.000000\n",
       "mean     100.858218\n",
       "std      101.174362\n",
       "min        0.000000\n",
       "25%       17.000000\n",
       "50%       70.000000\n",
       "75%      158.000000\n",
       "max      709.000000"
      ]
     },
     "execution_count": 11,
     "metadata": {},
     "output_type": "execute_result"
    }
   ],
   "source": [
    "# Estadisticas descriptivas para lead_time y evidenciar necesidad de limpieza\n",
    "df[[\"lead_time\"]].describe()\n"
   ]
  },
  {
   "cell_type": "markdown",
   "id": "603e65ff",
   "metadata": {},
   "source": [
    "La variable **lead_time** muestra un promedio de 100 dias, valor que se encuentra a la derecha de la mediana lo que muestra una distribución asimetrica a la derecha lo que quiere decir que hay valores altos jalando la media pero el 75% de datos se encuentran en valores por debajo de 157 dias.\n",
    "\n",
    "Para enriquecer el dataframe y permitir analisis entre variables cualittivas vamos a calcular una variable categorica a partir de lead_time. Esto lo podemos realizar a partir de premisas del negocio o apartir de comportamiento estadistico.\n",
    "\n",
    "Queremos determinar 4 grupos\n",
    "* Reserva de ultimo minuto (0 a 7 dias)\n",
    "* Reserva de corto plazo ( 8 a 30 dias )\n",
    "* Reserva de mediano plazo (31 a 90 dias)\n",
    "* Reserva de largo plazo ( mas de 90 dias ) \n",
    "\n"
   ]
  },
  {
   "cell_type": "code",
   "execution_count": 12,
   "id": "68488d14",
   "metadata": {},
   "outputs": [],
   "source": [
    "# Definimos los intervalos (bins) y las etiquetas\n",
    "bins = [0, 7, 30, 90, float(\"inf\")]\n",
    "labels = [\"Ultimo Minuto\", \"Corto Plazo\", \"Mediano Plazo\", \"Largo Plazo\"]\n",
    "\n",
    "# Creamos la nueva columna categórica\n",
    "df[\"tipo_reserva\"] = pd.cut(df[\"lead_time\"], bins=bins, labels=labels, include_lowest=True)"
   ]
  },
  {
   "cell_type": "code",
   "execution_count": 13,
   "id": "5a1c372e",
   "metadata": {},
   "outputs": [
    {
     "data": {
      "image/png": "[encoded data removed]",
      "text/plain": [
       "<Figure size 1000x500 with 1 Axes>"
      ]
     },
     "metadata": {},
     "output_type": "display_data"
    }
   ],
   "source": [
    "# Ahora podemos graficar la variable arrival_date_month de forma ordenada\n",
    "plt.figure(figsize=(10,5))\n",
    "sns.countplot(data=df, x='tipo_reserva', order=labels)\n",
    "plt.xticks(rotation=45)\n",
    "plt.title(\"Tipo de reserva según lead_time\")\n",
    "plt.show()"
   ]
  },
  {
   "cell_type": "markdown",
   "id": "2d6e9124",
   "metadata": {},
   "source": [
    "### Etapa 3 y Etapa 4\n",
    "\n",
    "En estas etapas buscamos direccionar el entendimiento del negocio a partir de la resolución de preguntas mediante analisis univariado y bivariado sobre las variables priorizadas:\n",
    "\n",
    "- **hotel**: indica si el hotel es rural o urbano\n",
    "- **is_canceled**: indica si la reserva fue cancelada\n",
    "- **lead_time**: cuántos días han pasado entre que se crea la reserva y la fecha de llegada\n",
    "- **adr**: tarifa promedio por día\n",
    "- **arrival_date_month**: mes de llegada"
   ]
  },
  {
   "cell_type": "markdown",
   "id": "46cca8c2",
   "metadata": {},
   "source": [
    "### Variable: Hotel"
   ]
  },
  {
   "cell_type": "code",
   "execution_count": 14,
   "id": "80c19c1c",
   "metadata": {},
   "outputs": [
    {
     "data": {
      "text/plain": [
       "hotel\n",
       "Resort Hotel    0.678483\n",
       "City Hotel      0.321517\n",
       "Name: proportion, dtype: float64"
      ]
     },
     "execution_count": 14,
     "metadata": {},
     "output_type": "execute_result"
    }
   ],
   "source": [
    "df['hotel'].value_counts(normalize=True)\n",
    "# El 67 por ciento de las reservas son para hotel tipo resort"
   ]
  },
  {
   "cell_type": "code",
   "execution_count": 15,
   "id": "b69ddd3c",
   "metadata": {},
   "outputs": [
    {
     "data": {
      "text/plain": [
       "<Axes: ylabel='proportion'>"
      ]
     },
     "execution_count": 15,
     "metadata": {},
     "output_type": "execute_result"
    },
    {
     "data": {
      "image/png": "[encoded data removed]",
      "text/plain": [
       "<Figure size 640x480 with 1 Axes>"
      ]
     },
     "metadata": {},
     "output_type": "display_data"
    }
   ],
   "source": [
    "df['hotel'].value_counts(normalize=True).plot.pie(autopct='%1.1f%%')"
   ]
  },
  {
   "cell_type": "markdown",
   "id": "9479e09f",
   "metadata": {},
   "source": [
    "### Variable is_canceled"
   ]
  },
  {
   "cell_type": "code",
   "execution_count": 16,
   "id": "f9f02b90",
   "metadata": {},
   "outputs": [
    {
     "data": {
      "text/plain": [
       "is_canceled\n",
       "False    0.584042\n",
       "True     0.415958\n",
       "Name: proportion, dtype: float64"
      ]
     },
     "execution_count": 16,
     "metadata": {},
     "output_type": "execute_result"
    }
   ],
   "source": [
    "df['is_canceled'].value_counts(normalize=True)  # Para categóricas\n"
   ]
  },
  {
   "cell_type": "code",
   "execution_count": 17,
   "id": "65df3a64",
   "metadata": {},
   "outputs": [
    {
     "data": {
      "text/html": [
       "<div>\n",
       "<style scoped>\n",
       "    .dataframe tbody tr th:only-of-type {\n",
       "        vertical-align: middle;\n",
       "    }\n",
       "\n",
       "    .dataframe tbody tr th {\n",
       "        vertical-align: top;\n",
       "    }\n",
       "\n",
       "    .dataframe thead th {\n",
       "        text-align: right;\n",
       "    }\n",
       "</style>\n",
       "<table border=\"1\" class=\"dataframe\">\n",
       "  <thead>\n",
       "    <tr style=\"text-align: right;\">\n",
       "      <th>is_canceled</th>\n",
       "      <th>False</th>\n",
       "      <th>True</th>\n",
       "    </tr>\n",
       "    <tr>\n",
       "      <th>hotel</th>\n",
       "      <th></th>\n",
       "      <th></th>\n",
       "    </tr>\n",
       "  </thead>\n",
       "  <tbody>\n",
       "    <tr>\n",
       "      <th>City Hotel</th>\n",
       "      <td>0.298889</td>\n",
       "      <td>0.701111</td>\n",
       "    </tr>\n",
       "    <tr>\n",
       "      <th>Resort Hotel</th>\n",
       "      <td>0.719170</td>\n",
       "      <td>0.280830</td>\n",
       "    </tr>\n",
       "  </tbody>\n",
       "</table>\n",
       "</div>"
      ],
      "text/plain": [
       "is_canceled      False     True \n",
       "hotel                           \n",
       "City Hotel    0.298889  0.701111\n",
       "Resort Hotel  0.719170  0.280830"
      ]
     },
     "execution_count": 17,
     "metadata": {},
     "output_type": "execute_result"
    }
   ],
   "source": [
    "# Proporcion de cancelaciones por tipo de hotel \n",
    "pd.crosstab(df['hotel'], df['is_canceled'],normalize='index')"
   ]
  },
  {
   "cell_type": "code",
   "execution_count": 18,
   "id": "59875641",
   "metadata": {},
   "outputs": [
    {
     "data": {
      "image/png": "[encoded data removed]",
      "text/plain": [
       "<Figure size 800x500 with 1 Axes>"
      ]
     },
     "metadata": {},
     "output_type": "display_data"
    }
   ],
   "source": [
    "\n",
    "ct = pd.crosstab(df['hotel'], df['is_canceled'], normalize='index')\n",
    "\n",
    "ct.plot(kind='bar', stacked=True, figsize=(8,5), color=['skyblue', 'salmon'])\n",
    "plt.ylabel(\"Proporción\")\n",
    "plt.xlabel(\"Tipo de hotel\")\n",
    "plt.legend([\"No cancelada\", \"Cancelada\"], loc=\"upper right\")\n",
    "plt.title(\"Tipo de reserva según lead_time\")\n",
    "plt.show()\n"
   ]
  },
  {
   "cell_type": "markdown",
   "id": "4b5c36cd",
   "metadata": {},
   "source": [
    "Se puede evidenciar que la muestra contiene un 58% reservas efectivas y un restante de 41% canceladas. Esto se puede interpretar cono una muestra balanceada, sin embargo, al momento de validar que tipo de hotel presenta mayor porcentaje de cancelaciones esto si se hace evidente obteniendo para los hoteles de ciudad un porcentaje de cancelacion del 70 %. Es posible que estas cancelaciones se presenten en un meses del año especificos?"
   ]
  },
  {
   "cell_type": "markdown",
   "id": "8803a7b7",
   "metadata": {},
   "source": [
    "### Variable lead_time"
   ]
  },
  {
   "cell_type": "code",
   "execution_count": 19,
   "id": "231a722c",
   "metadata": {},
   "outputs": [
    {
     "data": {
      "text/plain": [
       "count    57941.000000\n",
       "mean       100.858218\n",
       "std        101.174362\n",
       "min          0.000000\n",
       "25%         17.000000\n",
       "50%         70.000000\n",
       "75%        158.000000\n",
       "max        709.000000\n",
       "Name: lead_time, dtype: float64"
      ]
     },
     "execution_count": 19,
     "metadata": {},
     "output_type": "execute_result"
    }
   ],
   "source": [
    "df[\"lead_time\"].describe()  # Para numéricas"
   ]
  },
  {
   "cell_type": "markdown",
   "id": "cb1e9a74",
   "metadata": {},
   "source": [
    "La variable **lead_time** muestra un promedio de 100 dias, valor que se encuentra a la derecha de la mediana lo que muestra una distribución asimetrica a la derecha lo que quiere decir que hay valores altos jalando la media pero el 75% de datos se encuentran en valores por debajo de 157 dias."
   ]
  },
  {
   "cell_type": "code",
   "execution_count": 20,
   "id": "213cca2a",
   "metadata": {},
   "outputs": [
    {
     "data": {
      "text/plain": [
       "0    0\n",
       "Name: lead_time, dtype: int64"
      ]
     },
     "execution_count": 20,
     "metadata": {},
     "output_type": "execute_result"
    }
   ],
   "source": [
    "df[\"lead_time\"].mode()  # Para numéricas"
   ]
  },
  {
   "cell_type": "markdown",
   "id": "b21dbacf",
   "metadata": {},
   "source": [
    "Podemos ver que a pesar de en el diagrama de barras realizado previamente en donde se veian las reservas de largo plazo predominando sobre las demas, aqui evidenciamos que el valor que mas se repite para lead_time es el 0 lo que evidencia que tambien existe un numero considerable de personas acceden al hotel el dia que lo visitan."
   ]
  },
  {
   "cell_type": "code",
   "execution_count": 21,
   "id": "bf4f9410",
   "metadata": {},
   "outputs": [
    {
     "data": {
      "text/plain": [
       "Text(0.5, 1.0, 'Distribución de lead_time')"
      ]
     },
     "execution_count": 21,
     "metadata": {},
     "output_type": "execute_result"
    },
    {
     "data": {
      "image/png": "[encoded data removed]",
      "text/plain": [
       "<Figure size 1000x500 with 1 Axes>"
      ]
     },
     "metadata": {},
     "output_type": "display_data"
    }
   ],
   "source": [
    "# Para determinar los mejores intervalos para lead_time, se puede usar un histograma\n",
    "plt.figure(figsize=(10,5))\n",
    "sns.histplot(data=df, x='lead_time', bins=30, kde=True)\n",
    "plt.title(\"Distribución de lead_time\")\n",
    "\n",
    "\n"
   ]
  },
  {
   "cell_type": "markdown",
   "id": "143d01f7",
   "metadata": {},
   "source": [
    "El histograma nos permite evidenciar que el comportamiento que predomina es el de los clientes que reservan con poca anticipacion, sin embargo hay un 50% de reservas que evidencian un comportamiento de  planeacion de mediano y largo plazo, es decir mayor 70 dias de antelacion."
   ]
  },
  {
   "cell_type": "code",
   "execution_count": 22,
   "id": "1bd4acfb",
   "metadata": {},
   "outputs": [
    {
     "data": {
      "image/png": "[encoded data removed]",
      "text/plain": [
       "<Figure size 700x700 with 1 Axes>"
      ]
     },
     "metadata": {},
     "output_type": "display_data"
    }
   ],
   "source": [
    "# Plotting Wage by club\n",
    "plt.figure(figsize=(7, 7))\n",
    "sns.boxplot(\n",
    "    data=df,\n",
    "    y='lead_time',\n",
    "    showmeans=True\n",
    ")\n",
    "plt.show()"
   ]
  },
  {
   "cell_type": "markdown",
   "id": "9a64e9db",
   "metadata": {},
   "source": [
    "Al realizar el box plot evidenciamos que se presentan como atipicos los datos de las reservas realizadas con mayor anticipacion sin embargo estos datos pueden estar mostrando la realidad del negocio."
   ]
  },
  {
   "cell_type": "code",
   "execution_count": 23,
   "id": "59dfe13e",
   "metadata": {},
   "outputs": [
    {
     "data": {
      "text/plain": [
       "count    56722.000000\n",
       "mean        94.063044\n",
       "std         90.725953\n",
       "min          0.000000\n",
       "25%         17.000000\n",
       "50%         68.000000\n",
       "75%        151.000000\n",
       "max        371.000000\n",
       "Name: lead_time, dtype: float64"
      ]
     },
     "execution_count": 23,
     "metadata": {},
     "output_type": "execute_result"
    }
   ],
   "source": [
    "# Realizamos un filtro para eliminar los atipicos a partir de la regla de IQR \n",
    "# para evidenciar si existen cambios significativos en las estadisticas descriptivas\n",
    "df.loc[df['lead_time']<= (155+1.5*(155-11))]['lead_time'].describe()"
   ]
  },
  {
   "cell_type": "code",
   "execution_count": 24,
   "id": "b76bb600",
   "metadata": {},
   "outputs": [
    {
     "data": {
      "image/png": "[encoded data removed]",
      "text/plain": [
       "<Figure size 700x700 with 1 Axes>"
      ]
     },
     "metadata": {},
     "output_type": "display_data"
    }
   ],
   "source": [
    "# Plotting Wage by club\n",
    "plt.figure(figsize=(7, 7))\n",
    "sns.boxplot(\n",
    "    data=df.loc[df['lead_time']<= (155+1.5*(155-11))],\n",
    "    y='lead_time',\n",
    "    showmeans=True\n",
    ")\n",
    "plt.show()"
   ]
  },
  {
   "cell_type": "markdown",
   "id": "c9182bc2",
   "metadata": {},
   "source": [
    "Despues de quitar atipicos a partir de la regla de IQR vemos que la distribucion sigue sesgada a la derecha, mostrando que el comportamiento de los clientes si es realizar su reserva en el corto plazo y mediado plazo, es decir a menos de dos meses de su estadia. Esto sugiere que el mercado natural del hotel son reservas de corto plazo, pero el segmento de largo plazo puede ser estratégico.\n",
    "\n",
    "Estadisticas se mantienen similares"
   ]
  },
  {
   "cell_type": "code",
   "execution_count": 25,
   "id": "01752dd8",
   "metadata": {},
   "outputs": [
    {
     "data": {
      "text/html": [
       "<div>\n",
       "<style scoped>\n",
       "    .dataframe tbody tr th:only-of-type {\n",
       "        vertical-align: middle;\n",
       "    }\n",
       "\n",
       "    .dataframe tbody tr th {\n",
       "        vertical-align: top;\n",
       "    }\n",
       "\n",
       "    .dataframe thead th {\n",
       "        text-align: right;\n",
       "    }\n",
       "</style>\n",
       "<table border=\"1\" class=\"dataframe\">\n",
       "  <thead>\n",
       "    <tr style=\"text-align: right;\">\n",
       "      <th></th>\n",
       "      <th>mean</th>\n",
       "      <th>max</th>\n",
       "      <th>min</th>\n",
       "      <th>std</th>\n",
       "      <th>median</th>\n",
       "      <th>count</th>\n",
       "    </tr>\n",
       "    <tr>\n",
       "      <th>is_canceled</th>\n",
       "      <th></th>\n",
       "      <th></th>\n",
       "      <th></th>\n",
       "      <th></th>\n",
       "      <th></th>\n",
       "      <th></th>\n",
       "    </tr>\n",
       "  </thead>\n",
       "  <tbody>\n",
       "    <tr>\n",
       "      <th>False</th>\n",
       "      <td>80.202453</td>\n",
       "      <td>709</td>\n",
       "      <td>0</td>\n",
       "      <td>91.541124</td>\n",
       "      <td>44.0</td>\n",
       "      <td>33840</td>\n",
       "    </tr>\n",
       "    <tr>\n",
       "      <th>True</th>\n",
       "      <td>129.860794</td>\n",
       "      <td>605</td>\n",
       "      <td>0</td>\n",
       "      <td>106.785235</td>\n",
       "      <td>102.0</td>\n",
       "      <td>24101</td>\n",
       "    </tr>\n",
       "  </tbody>\n",
       "</table>\n",
       "</div>"
      ],
      "text/plain": [
       "                   mean  max  min         std  median  count\n",
       "is_canceled                                                 \n",
       "False         80.202453  709    0   91.541124    44.0  33840\n",
       "True         129.860794  605    0  106.785235   102.0  24101"
      ]
     },
     "execution_count": 25,
     "metadata": {},
     "output_type": "execute_result"
    }
   ],
   "source": [
    "df.groupby('is_canceled')['lead_time'].agg(['mean', 'max', 'min', 'std', 'median', 'count'])\n"
   ]
  },
  {
   "cell_type": "code",
   "execution_count": 26,
   "id": "48a533ce",
   "metadata": {},
   "outputs": [
    {
     "data": {
      "image/png": "[encoded data removed]",
      "text/plain": [
       "<Figure size 700x700 with 1 Axes>"
      ]
     },
     "metadata": {},
     "output_type": "display_data"
    }
   ],
   "source": [
    "# Plotting Wage by club\n",
    "plt.figure(figsize=(7, 7))\n",
    "sns.boxplot(\n",
    "    data=df,\n",
    "    x='hotel',\n",
    "    y='lead_time',\n",
    "    showmeans=True\n",
    ")\n",
    "plt.show()"
   ]
  },
  {
   "cell_type": "markdown",
   "id": "241e1cd4",
   "metadata": {},
   "source": [
    "Se evidencia que las reservas a corto y mediano plazo son predominantes en los dos hotele"
   ]
  },
  {
   "cell_type": "code",
   "execution_count": 27,
   "id": "96bf60a5",
   "metadata": {},
   "outputs": [
    {
     "data": {
      "image/png": "[encoded data removed]",
      "text/plain": [
       "<Figure size 700x700 with 1 Axes>"
      ]
     },
     "metadata": {},
     "output_type": "display_data"
    }
   ],
   "source": [
    "# Plotting Wage by club\n",
    "plt.figure(figsize=(7, 7))\n",
    "sns.boxplot(\n",
    "    data=df,\n",
    "    x='is_canceled',\n",
    "    y='lead_time',\n",
    "    showmeans=True\n",
    ")\n",
    "plt.show()\n",
    "\n",
    "\n",
    "# la t parece que no daria significativa porque se solapan mucho \n",
    "# podria suponer que las reservas con lead time muy alto tienen mas probabilidad de ser canceladas  \n",
    "# pero el box plot no lo evidencia claramente\n"
   ]
  },
  {
   "cell_type": "code",
   "execution_count": 28,
   "id": "7ee8fc2a",
   "metadata": {},
   "outputs": [
    {
     "data": {
      "text/plain": [
       "<Axes: xlabel='lead_time', ylabel='Count'>"
      ]
     },
     "execution_count": 28,
     "metadata": {},
     "output_type": "execute_result"
    },
    {
     "data": {
      "image/png": "[encoded data removed]",
      "text/plain": [
       "<Figure size 640x480 with 1 Axes>"
      ]
     },
     "metadata": {},
     "output_type": "display_data"
    }
   ],
   "source": [
    "sns.histplot(data=df, x='lead_time', hue='is_canceled', multiple='stack')"
   ]
  },
  {
   "cell_type": "code",
   "execution_count": 29,
   "id": "a3609a6b",
   "metadata": {},
   "outputs": [
    {
     "data": {
      "text/plain": [
       "<Axes: xlabel='is_canceled', ylabel='adr'>"
      ]
     },
     "execution_count": 29,
     "metadata": {},
     "output_type": "execute_result"
    },
    {
     "data": {
      "image/png": "[encoded data removed]",
      "text/plain": [
       "<Figure size 640x480 with 1 Axes>"
      ]
     },
     "metadata": {},
     "output_type": "display_data"
    }
   ],
   "source": [
    "sns.boxplot(x='is_canceled', y='adr', data=df.loc[df['adr'] < 500])"
   ]
  },
  {
   "cell_type": "code",
   "execution_count": 30,
   "id": "a0e0808e",
   "metadata": {},
   "outputs": [
    {
     "data": {
      "text/plain": [
       "<Axes: xlabel='arrival_date_month', ylabel='adr'>"
      ]
     },
     "execution_count": 30,
     "metadata": {},
     "output_type": "execute_result"
    },
    {
     "data": {
      "image/png": "[encoded data removed]",
      "text/plain": [
       "<Figure size 640x480 with 1 Axes>"
      ]
     },
     "metadata": {},
     "output_type": "display_data"
    }
   ],
   "source": [
    "sns.boxplot(x='arrival_date_month', y='adr', data=df.loc[df['adr'] < 500])"
   ]
  },
  {
   "cell_type": "markdown",
   "id": "edb4d117",
   "metadata": {},
   "source": [
    "las reservas grandes tienen relacion con precios altos?\n"
   ]
  },
  {
   "cell_type": "code",
   "execution_count": 31,
   "id": "b287bad2",
   "metadata": {},
   "outputs": [
    {
     "data": {
      "text/plain": [
       "count    1230.000000\n",
       "mean       65.509244\n",
       "std        19.050835\n",
       "min         4.000000\n",
       "25%        62.000000\n",
       "50%        62.000000\n",
       "75%        68.000000\n",
       "max       450.000000\n",
       "Name: adr, dtype: float64"
      ]
     },
     "execution_count": 31,
     "metadata": {},
     "output_type": "execute_result"
    }
   ],
   "source": [
    "df.loc[df['lead_time']>365]['adr'].describe()"
   ]
  },
  {
   "cell_type": "code",
   "execution_count": 32,
   "id": "4d800e8e",
   "metadata": {},
   "outputs": [
    {
     "data": {
      "image/png": "[encoded data removed]",
      "text/plain": [
       "<Figure size 1200x600 with 1 Axes>"
      ]
     },
     "metadata": {},
     "output_type": "display_data"
    }
   ],
   "source": [
    "plt.figure(figsize=(12,6))\n",
    "sns.countplot(\n",
    "    data=df,\n",
    "    x='arrival_date_month',\n",
    "    hue='is_canceled',   # barras paralelas por cancelada / no cancelada\n",
    "    order=df['arrival_date_month'].cat.categories\n",
    "    )\n",
    "\n",
    "plt.xticks(rotation=45)\n",
    "plt.title(\"Reservas y Cancelaciones por Mes\")\n",
    "plt.xlabel(\"Mes de llegada\")\n",
    "plt.ylabel(\"Número de reservas\")\n",
    "plt.legend(title=\"Cancelada\", labels=[\"No\", \"Sí\"])\n",
    "plt.show()\n"
   ]
  },
  {
   "cell_type": "markdown",
   "id": "641ca71d",
   "metadata": {},
   "source": [
    "de pronto podemos hablar de proporciones "
   ]
  },
  {
   "cell_type": "code",
   "execution_count": 33,
   "id": "b97295d7",
   "metadata": {},
   "outputs": [
    {
     "data": {
      "text/plain": [
       "array([  0.,  50.,  47.,  65., 122.,  75., 101., 150., 125.,  14.,  60.,\n",
       "        34., 100.,  22., 121.,  61.,  39.,   5.,   1.,   8., 107.,  43.,\n",
       "        52.,  11., 142.,   2., 116.,  13.,  44.,  97.,  83.,   4., 113.,\n",
       "        18.,  20., 185.,  93., 109.,   6.,  37., 105., 154.,  64.,  99.,\n",
       "        38.,  48.,  33.,  77.,  21.,  80.,  59.,  40.,  58.,  89.,  53.,\n",
       "        49.,  69.,  87.,  91.,  57., 111.,  79.,  98.,  85.,  63.,  15.,\n",
       "         3.,  41., 224.,  31.,  56., 187., 176.,  71.,  55.,  96., 236.,\n",
       "       259., 207., 215., 160., 120.,  30.,  32.,  27.,  62.,  24., 108.,\n",
       "       147., 379.,  70.,  35., 178., 330., 223., 174., 162., 391.,  68.,\n",
       "        nan])"
      ]
     },
     "execution_count": 33,
     "metadata": {},
     "output_type": "execute_result"
    }
   ],
   "source": [
    "# # Estadísticas básicas (numéricas)\n",
    "df.select_dtypes(include=float).describe()         \n",
    "\n",
    "\n",
    "#arreglar chilren porque deberia ser entero\n",
    "#agent tampoco es float es id\n",
    "\n",
    "\n",
    "\n",
    "df['required_car_parking_spaces'].unique()\n",
    "\n",
    "df['days_in_waiting_list'].unique()\n",
    "\n",
    "\n"
   ]
  },
  {
   "cell_type": "code",
   "execution_count": 34,
   "id": "532f71dc",
   "metadata": {},
   "outputs": [
    {
     "data": {
      "text/html": [
       "<div>\n",
       "<style scoped>\n",
       "    .dataframe tbody tr th:only-of-type {\n",
       "        vertical-align: middle;\n",
       "    }\n",
       "\n",
       "    .dataframe tbody tr th {\n",
       "        vertical-align: top;\n",
       "    }\n",
       "\n",
       "    .dataframe thead th {\n",
       "        text-align: right;\n",
       "    }\n",
       "</style>\n",
       "<table border=\"1\" class=\"dataframe\">\n",
       "  <thead>\n",
       "    <tr style=\"text-align: right;\">\n",
       "      <th></th>\n",
       "      <th>hotel</th>\n",
       "      <th>meal</th>\n",
       "      <th>country</th>\n",
       "      <th>market_segment</th>\n",
       "      <th>distribution_channel</th>\n",
       "      <th>reserved_room_type</th>\n",
       "      <th>assigned_room_type</th>\n",
       "      <th>deposit_type</th>\n",
       "      <th>company</th>\n",
       "      <th>customer_type</th>\n",
       "      <th>reservation_status</th>\n",
       "      <th>reservation_status_date</th>\n",
       "    </tr>\n",
       "  </thead>\n",
       "  <tbody>\n",
       "    <tr>\n",
       "      <th>count</th>\n",
       "      <td>57941</td>\n",
       "      <td>57941</td>\n",
       "      <td>57476</td>\n",
       "      <td>57941</td>\n",
       "      <td>57941</td>\n",
       "      <td>57941</td>\n",
       "      <td>57941</td>\n",
       "      <td>57941</td>\n",
       "      <td>3345.0</td>\n",
       "      <td>57360</td>\n",
       "      <td>57366</td>\n",
       "      <td>57940</td>\n",
       "    </tr>\n",
       "    <tr>\n",
       "      <th>unique</th>\n",
       "      <td>2</td>\n",
       "      <td>5</td>\n",
       "      <td>141</td>\n",
       "      <td>8</td>\n",
       "      <td>5</td>\n",
       "      <td>9</td>\n",
       "      <td>11</td>\n",
       "      <td>4</td>\n",
       "      <td>271.0</td>\n",
       "      <td>4</td>\n",
       "      <td>3</td>\n",
       "      <td>919</td>\n",
       "    </tr>\n",
       "    <tr>\n",
       "      <th>top</th>\n",
       "      <td>Resort Hotel</td>\n",
       "      <td>BB</td>\n",
       "      <td>PRT</td>\n",
       "      <td>Online TA</td>\n",
       "      <td>TA/TO</td>\n",
       "      <td>A</td>\n",
       "      <td>A</td>\n",
       "      <td>No Deposit</td>\n",
       "      <td>223.0</td>\n",
       "      <td>Transient</td>\n",
       "      <td>Check-Out</td>\n",
       "      <td>2015-10-21</td>\n",
       "    </tr>\n",
       "    <tr>\n",
       "      <th>freq</th>\n",
       "      <td>39312</td>\n",
       "      <td>44342</td>\n",
       "      <td>26840</td>\n",
       "      <td>25527</td>\n",
       "      <td>45843</td>\n",
       "      <td>38471</td>\n",
       "      <td>31054</td>\n",
       "      <td>51379</td>\n",
       "      <td>771.0</td>\n",
       "      <td>41776</td>\n",
       "      <td>33477</td>\n",
       "      <td>965</td>\n",
       "    </tr>\n",
       "  </tbody>\n",
       "</table>\n",
       "</div>"
      ],
      "text/plain": [
       "               hotel   meal country market_segment distribution_channel  \\\n",
       "count          57941  57941   57476          57941                57941   \n",
       "unique             2      5     141              8                    5   \n",
       "top     Resort Hotel     BB     PRT      Online TA                TA/TO   \n",
       "freq           39312  44342   26840          25527                45843   \n",
       "\n",
       "       reserved_room_type assigned_room_type deposit_type  company  \\\n",
       "count               57941              57941        57941   3345.0   \n",
       "unique                  9                 11            4    271.0   \n",
       "top                     A                  A   No Deposit    223.0   \n",
       "freq                38471              31054        51379    771.0   \n",
       "\n",
       "       customer_type reservation_status reservation_status_date  \n",
       "count          57360              57366                   57940  \n",
       "unique             4                  3                     919  \n",
       "top        Transient          Check-Out              2015-10-21  \n",
       "freq           41776              33477                     965  "
      ]
     },
     "execution_count": 34,
     "metadata": {},
     "output_type": "execute_result"
    }
   ],
   "source": [
    "\n",
    "\n",
    "\n",
    "\n",
    "df.describe(include='object')  # Para categóricas\n"
   ]
  },
  {
   "cell_type": "code",
   "execution_count": 35,
   "id": "eac340f6",
   "metadata": {},
   "outputs": [
    {
     "data": {
      "text/plain": [
       "<Axes: >"
      ]
     },
     "execution_count": 35,
     "metadata": {},
     "output_type": "execute_result"
    },
    {
     "data": {
      "image/png": "[encoded data removed]",
      "text/plain": [
       "<Figure size 640x480 with 1 Axes>"
      ]
     },
     "metadata": {},
     "output_type": "display_data"
    }
   ],
   "source": [
    "df.loc[(df['hotel'] == 'Resort Hotel') & (df['is_canceled'] == 1)]['adr'].hist(bins=20)\n"
   ]
  },
  {
   "cell_type": "code",
   "execution_count": 36,
   "id": "99ecc576",
   "metadata": {},
   "outputs": [
    {
     "data": {
      "text/plain": [
       "<Axes: >"
      ]
     },
     "execution_count": 36,
     "metadata": {},
     "output_type": "execute_result"
    },
    {
     "data": {
      "image/png": "[encoded data removed]",
      "text/plain": [
       "<Figure size 640x480 with 1 Axes>"
      ]
     },
     "metadata": {},
     "output_type": "display_data"
    }
   ],
   "source": [
    "df.loc[(df['hotel'] == 'Resort Hotel') & (df['is_canceled'] == 0)]['adr'].hist(bins=20)\n"
   ]
  },
  {
   "cell_type": "code",
   "execution_count": 37,
   "id": "6e457076",
   "metadata": {},
   "outputs": [
    {
     "data": {
      "text/plain": [
       "<Axes: >"
      ]
     },
     "execution_count": 37,
     "metadata": {},
     "output_type": "execute_result"
    },
    {
     "data": {
      "image/png": "[encoded data removed]",
      "text/plain": [
       "<Figure size 640x480 with 1 Axes>"
      ]
     },
     "metadata": {},
     "output_type": "display_data"
    }
   ],
   "source": [
    "df.loc[(df['hotel'] == 'City Hotel') & (df['is_canceled'] == 0)]['adr'].hist(bins=20)\n",
    "\n"
   ]
  },
  {
   "cell_type": "code",
   "execution_count": 38,
   "id": "3f5e61e5",
   "metadata": {},
   "outputs": [
    {
     "data": {
      "text/html": [
       "<div>\n",
       "<style scoped>\n",
       "    .dataframe tbody tr th:only-of-type {\n",
       "        vertical-align: middle;\n",
       "    }\n",
       "\n",
       "    .dataframe tbody tr th {\n",
       "        vertical-align: top;\n",
       "    }\n",
       "\n",
       "    .dataframe thead th {\n",
       "        text-align: right;\n",
       "    }\n",
       "</style>\n",
       "<table border=\"1\" class=\"dataframe\">\n",
       "  <thead>\n",
       "    <tr style=\"text-align: right;\">\n",
       "      <th></th>\n",
       "      <th>hotel</th>\n",
       "      <th>is_canceled</th>\n",
       "      <th>lead_time</th>\n",
       "      <th>arrival_date_year</th>\n",
       "      <th>arrival_date_month</th>\n",
       "      <th>arrival_date_week_number</th>\n",
       "      <th>arrival_date_day_of_month</th>\n",
       "      <th>stays_in_weekend_nights</th>\n",
       "      <th>stays_in_week_nights</th>\n",
       "      <th>adults</th>\n",
       "      <th>children</th>\n",
       "      <th>babies</th>\n",
       "      <th>meal</th>\n",
       "      <th>country</th>\n",
       "      <th>market_segment</th>\n",
       "      <th>distribution_channel</th>\n",
       "      <th>is_repeated_guest</th>\n",
       "      <th>previous_cancellations</th>\n",
       "      <th>previous_bookings_not_canceled</th>\n",
       "      <th>reserved_room_type</th>\n",
       "      <th>assigned_room_type</th>\n",
       "      <th>booking_changes</th>\n",
       "      <th>deposit_type</th>\n",
       "      <th>agent</th>\n",
       "      <th>company</th>\n",
       "      <th>days_in_waiting_list</th>\n",
       "      <th>customer_type</th>\n",
       "      <th>adr</th>\n",
       "      <th>required_car_parking_spaces</th>\n",
       "      <th>total_of_special_requests</th>\n",
       "      <th>reservation_status</th>\n",
       "      <th>reservation_status_date</th>\n",
       "      <th>kids</th>\n",
       "      <th>tipo_reserva</th>\n",
       "    </tr>\n",
       "  </thead>\n",
       "  <tbody>\n",
       "    <tr>\n",
       "      <th>48515</th>\n",
       "      <td>City Hotel</td>\n",
       "      <td>True</td>\n",
       "      <td>35</td>\n",
       "      <td>2016.0</td>\n",
       "      <td>March</td>\n",
       "      <td>13</td>\n",
       "      <td>25</td>\n",
       "      <td>0</td>\n",
       "      <td>1</td>\n",
       "      <td>2</td>\n",
       "      <td>0.0</td>\n",
       "      <td>0</td>\n",
       "      <td>BB</td>\n",
       "      <td>PRT</td>\n",
       "      <td>Offline TA/TO</td>\n",
       "      <td>TA/TO</td>\n",
       "      <td>False</td>\n",
       "      <td>0</td>\n",
       "      <td>0</td>\n",
       "      <td>A</td>\n",
       "      <td>A</td>\n",
       "      <td>1</td>\n",
       "      <td>Non Refund</td>\n",
       "      <td>12.0</td>\n",
       "      <td>NaN</td>\n",
       "      <td>0.0</td>\n",
       "      <td>Transient</td>\n",
       "      <td>5400.00</td>\n",
       "      <td>0.0</td>\n",
       "      <td>0.0</td>\n",
       "      <td>Canceled</td>\n",
       "      <td>2016-02-19</td>\n",
       "      <td>NaN</td>\n",
       "      <td>Mediano Plazo</td>\n",
       "    </tr>\n",
       "    <tr>\n",
       "      <th>57007</th>\n",
       "      <td>City Hotel</td>\n",
       "      <td>True</td>\n",
       "      <td>11</td>\n",
       "      <td>2016.0</td>\n",
       "      <td>September</td>\n",
       "      <td>38</td>\n",
       "      <td>16</td>\n",
       "      <td>1</td>\n",
       "      <td>2</td>\n",
       "      <td>2</td>\n",
       "      <td>2.0</td>\n",
       "      <td>0</td>\n",
       "      <td>HB</td>\n",
       "      <td>FRA</td>\n",
       "      <td>Online TA</td>\n",
       "      <td>TA/TO</td>\n",
       "      <td>False</td>\n",
       "      <td>0</td>\n",
       "      <td>0</td>\n",
       "      <td>F</td>\n",
       "      <td>F</td>\n",
       "      <td>0</td>\n",
       "      <td>No Deposit</td>\n",
       "      <td>9.0</td>\n",
       "      <td>NaN</td>\n",
       "      <td>0.0</td>\n",
       "      <td>Transient</td>\n",
       "      <td>306.00</td>\n",
       "      <td>0.0</td>\n",
       "      <td>0.0</td>\n",
       "      <td>Canceled</td>\n",
       "      <td>2016-09-08</td>\n",
       "      <td>NaN</td>\n",
       "      <td>Corto Plazo</td>\n",
       "    </tr>\n",
       "    <tr>\n",
       "      <th>54479</th>\n",
       "      <td>City Hotel</td>\n",
       "      <td>True</td>\n",
       "      <td>21</td>\n",
       "      <td>2016.0</td>\n",
       "      <td>July</td>\n",
       "      <td>30</td>\n",
       "      <td>17</td>\n",
       "      <td>2</td>\n",
       "      <td>1</td>\n",
       "      <td>4</td>\n",
       "      <td>0.0</td>\n",
       "      <td>0</td>\n",
       "      <td>BB</td>\n",
       "      <td>PRT</td>\n",
       "      <td>Online TA</td>\n",
       "      <td>TA/TO</td>\n",
       "      <td>False</td>\n",
       "      <td>0</td>\n",
       "      <td>0</td>\n",
       "      <td>G</td>\n",
       "      <td>G</td>\n",
       "      <td>0</td>\n",
       "      <td>No Deposit</td>\n",
       "      <td>8.0</td>\n",
       "      <td>NaN</td>\n",
       "      <td>0.0</td>\n",
       "      <td>Transient</td>\n",
       "      <td>299.33</td>\n",
       "      <td>0.0</td>\n",
       "      <td>0.0</td>\n",
       "      <td>Canceled</td>\n",
       "      <td>2016-07-07</td>\n",
       "      <td>NaN</td>\n",
       "      <td>Corto Plazo</td>\n",
       "    </tr>\n",
       "    <tr>\n",
       "      <th>57856</th>\n",
       "      <td>City Hotel</td>\n",
       "      <td>True</td>\n",
       "      <td>26</td>\n",
       "      <td>2016.0</td>\n",
       "      <td>October</td>\n",
       "      <td>40</td>\n",
       "      <td>1</td>\n",
       "      <td>2</td>\n",
       "      <td>2</td>\n",
       "      <td>2</td>\n",
       "      <td>2.0</td>\n",
       "      <td>0</td>\n",
       "      <td>HB</td>\n",
       "      <td>BEL</td>\n",
       "      <td>Online TA</td>\n",
       "      <td>TA/TO</td>\n",
       "      <td>False</td>\n",
       "      <td>0</td>\n",
       "      <td>0</td>\n",
       "      <td>F</td>\n",
       "      <td>F</td>\n",
       "      <td>0</td>\n",
       "      <td>No Deposit</td>\n",
       "      <td>9.0</td>\n",
       "      <td>NaN</td>\n",
       "      <td>0.0</td>\n",
       "      <td>Transient</td>\n",
       "      <td>294.00</td>\n",
       "      <td>0.0</td>\n",
       "      <td>2.0</td>\n",
       "      <td>Canceled</td>\n",
       "      <td>2016-09-16</td>\n",
       "      <td>NaN</td>\n",
       "      <td>Corto Plazo</td>\n",
       "    </tr>\n",
       "    <tr>\n",
       "      <th>55694</th>\n",
       "      <td>City Hotel</td>\n",
       "      <td>True</td>\n",
       "      <td>22</td>\n",
       "      <td>2016.0</td>\n",
       "      <td>August</td>\n",
       "      <td>34</td>\n",
       "      <td>19</td>\n",
       "      <td>0</td>\n",
       "      <td>2</td>\n",
       "      <td>2</td>\n",
       "      <td>2.0</td>\n",
       "      <td>0</td>\n",
       "      <td>HB</td>\n",
       "      <td>ESP</td>\n",
       "      <td>Online TA</td>\n",
       "      <td>TA/TO</td>\n",
       "      <td>False</td>\n",
       "      <td>0</td>\n",
       "      <td>0</td>\n",
       "      <td>F</td>\n",
       "      <td>F</td>\n",
       "      <td>0</td>\n",
       "      <td>No Deposit</td>\n",
       "      <td>9.0</td>\n",
       "      <td>NaN</td>\n",
       "      <td>0.0</td>\n",
       "      <td>Transient</td>\n",
       "      <td>288.00</td>\n",
       "      <td>0.0</td>\n",
       "      <td>2.0</td>\n",
       "      <td>Canceled</td>\n",
       "      <td>2016-08-02</td>\n",
       "      <td>NaN</td>\n",
       "      <td>Corto Plazo</td>\n",
       "    </tr>\n",
       "    <tr>\n",
       "      <th>...</th>\n",
       "      <td>...</td>\n",
       "      <td>...</td>\n",
       "      <td>...</td>\n",
       "      <td>...</td>\n",
       "      <td>...</td>\n",
       "      <td>...</td>\n",
       "      <td>...</td>\n",
       "      <td>...</td>\n",
       "      <td>...</td>\n",
       "      <td>...</td>\n",
       "      <td>...</td>\n",
       "      <td>...</td>\n",
       "      <td>...</td>\n",
       "      <td>...</td>\n",
       "      <td>...</td>\n",
       "      <td>...</td>\n",
       "      <td>...</td>\n",
       "      <td>...</td>\n",
       "      <td>...</td>\n",
       "      <td>...</td>\n",
       "      <td>...</td>\n",
       "      <td>...</td>\n",
       "      <td>...</td>\n",
       "      <td>...</td>\n",
       "      <td>...</td>\n",
       "      <td>...</td>\n",
       "      <td>...</td>\n",
       "      <td>...</td>\n",
       "      <td>...</td>\n",
       "      <td>...</td>\n",
       "      <td>...</td>\n",
       "      <td>...</td>\n",
       "      <td>...</td>\n",
       "      <td>...</td>\n",
       "    </tr>\n",
       "    <tr>\n",
       "      <th>47642</th>\n",
       "      <td>City Hotel</td>\n",
       "      <td>True</td>\n",
       "      <td>116</td>\n",
       "      <td>2016.0</td>\n",
       "      <td>February</td>\n",
       "      <td>10</td>\n",
       "      <td>28</td>\n",
       "      <td>2</td>\n",
       "      <td>1</td>\n",
       "      <td>1</td>\n",
       "      <td>0.0</td>\n",
       "      <td>0</td>\n",
       "      <td>BB</td>\n",
       "      <td>PRT</td>\n",
       "      <td>Offline TA/TO</td>\n",
       "      <td>TA/TO</td>\n",
       "      <td>False</td>\n",
       "      <td>0</td>\n",
       "      <td>0</td>\n",
       "      <td>A</td>\n",
       "      <td>A</td>\n",
       "      <td>0</td>\n",
       "      <td>No Deposit</td>\n",
       "      <td>134.0</td>\n",
       "      <td>NaN</td>\n",
       "      <td>0.0</td>\n",
       "      <td>Transient-Party</td>\n",
       "      <td>1.00</td>\n",
       "      <td>0.0</td>\n",
       "      <td>0.0</td>\n",
       "      <td>No-Show</td>\n",
       "      <td>2016-02-28</td>\n",
       "      <td>NaN</td>\n",
       "      <td>Largo Plazo</td>\n",
       "    </tr>\n",
       "    <tr>\n",
       "      <th>47466</th>\n",
       "      <td>City Hotel</td>\n",
       "      <td>True</td>\n",
       "      <td>4</td>\n",
       "      <td>2016.0</td>\n",
       "      <td>February</td>\n",
       "      <td>9</td>\n",
       "      <td>23</td>\n",
       "      <td>0</td>\n",
       "      <td>2</td>\n",
       "      <td>1</td>\n",
       "      <td>0.0</td>\n",
       "      <td>0</td>\n",
       "      <td>BB</td>\n",
       "      <td>PRT</td>\n",
       "      <td>Offline TA/TO</td>\n",
       "      <td>TA/TO</td>\n",
       "      <td>False</td>\n",
       "      <td>0</td>\n",
       "      <td>0</td>\n",
       "      <td>A</td>\n",
       "      <td>A</td>\n",
       "      <td>0</td>\n",
       "      <td>No Deposit</td>\n",
       "      <td>6.0</td>\n",
       "      <td>NaN</td>\n",
       "      <td>0.0</td>\n",
       "      <td>Transient</td>\n",
       "      <td>1.00</td>\n",
       "      <td>0.0</td>\n",
       "      <td>0.0</td>\n",
       "      <td>Canceled</td>\n",
       "      <td>2016-02-23</td>\n",
       "      <td>NaN</td>\n",
       "      <td>Ultimo Minuto</td>\n",
       "    </tr>\n",
       "    <tr>\n",
       "      <th>47661</th>\n",
       "      <td>City Hotel</td>\n",
       "      <td>True</td>\n",
       "      <td>116</td>\n",
       "      <td>2016.0</td>\n",
       "      <td>February</td>\n",
       "      <td>10</td>\n",
       "      <td>28</td>\n",
       "      <td>2</td>\n",
       "      <td>1</td>\n",
       "      <td>1</td>\n",
       "      <td>0.0</td>\n",
       "      <td>0</td>\n",
       "      <td>BB</td>\n",
       "      <td>PRT</td>\n",
       "      <td>Offline TA/TO</td>\n",
       "      <td>TA/TO</td>\n",
       "      <td>False</td>\n",
       "      <td>0</td>\n",
       "      <td>0</td>\n",
       "      <td>A</td>\n",
       "      <td>A</td>\n",
       "      <td>0</td>\n",
       "      <td>No Deposit</td>\n",
       "      <td>134.0</td>\n",
       "      <td>NaN</td>\n",
       "      <td>0.0</td>\n",
       "      <td>Transient-Party</td>\n",
       "      <td>1.00</td>\n",
       "      <td>0.0</td>\n",
       "      <td>0.0</td>\n",
       "      <td>No-Show</td>\n",
       "      <td>2016-02-28</td>\n",
       "      <td>NaN</td>\n",
       "      <td>Largo Plazo</td>\n",
       "    </tr>\n",
       "    <tr>\n",
       "      <th>47427</th>\n",
       "      <td>City Hotel</td>\n",
       "      <td>True</td>\n",
       "      <td>37</td>\n",
       "      <td>2016.0</td>\n",
       "      <td>February</td>\n",
       "      <td>8</td>\n",
       "      <td>20</td>\n",
       "      <td>4</td>\n",
       "      <td>8</td>\n",
       "      <td>1</td>\n",
       "      <td>0.0</td>\n",
       "      <td>0</td>\n",
       "      <td>BB</td>\n",
       "      <td>AGO</td>\n",
       "      <td>Online TA</td>\n",
       "      <td>TA/TO</td>\n",
       "      <td>False</td>\n",
       "      <td>0</td>\n",
       "      <td>0</td>\n",
       "      <td>A</td>\n",
       "      <td>A</td>\n",
       "      <td>1</td>\n",
       "      <td>No Deposit</td>\n",
       "      <td>9.0</td>\n",
       "      <td>NaN</td>\n",
       "      <td>0.0</td>\n",
       "      <td>Transient</td>\n",
       "      <td>0.50</td>\n",
       "      <td>0.0</td>\n",
       "      <td>0.0</td>\n",
       "      <td>Canceled</td>\n",
       "      <td>2016-01-18</td>\n",
       "      <td>NaN</td>\n",
       "      <td>Mediano Plazo</td>\n",
       "    </tr>\n",
       "    <tr>\n",
       "      <th>58889</th>\n",
       "      <td>City Hotel</td>\n",
       "      <td>True</td>\n",
       "      <td>605</td>\n",
       "      <td>2016.0</td>\n",
       "      <td>October</td>\n",
       "      <td>43</td>\n",
       "      <td>17</td>\n",
       "      <td>1</td>\n",
       "      <td>2</td>\n",
       "      <td>2</td>\n",
       "      <td>0.0</td>\n",
       "      <td>0</td>\n",
       "      <td>BB</td>\n",
       "      <td>PRT</td>\n",
       "      <td>Groups</td>\n",
       "      <td>TA/TO</td>\n",
       "      <td>False</td>\n",
       "      <td>0</td>\n",
       "      <td>0</td>\n",
       "      <td>A</td>\n",
       "      <td>A</td>\n",
       "      <td>0</td>\n",
       "      <td>No Refund</td>\n",
       "      <td>1.0</td>\n",
       "      <td>NU</td>\n",
       "      <td>NaN</td>\n",
       "      <td>NaN</td>\n",
       "      <td>NaN</td>\n",
       "      <td>NaN</td>\n",
       "      <td>NaN</td>\n",
       "      <td>NaN</td>\n",
       "      <td>NaN</td>\n",
       "      <td>NaN</td>\n",
       "      <td>Largo Plazo</td>\n",
       "    </tr>\n",
       "  </tbody>\n",
       "</table>\n",
       "<p>18629 rows × 34 columns</p>\n",
       "</div>"
      ],
      "text/plain": [
       "            hotel  is_canceled  lead_time  arrival_date_year  \\\n",
       "48515  City Hotel         True         35             2016.0   \n",
       "57007  City Hotel         True         11             2016.0   \n",
       "54479  City Hotel         True         21             2016.0   \n",
       "57856  City Hotel         True         26             2016.0   \n",
       "55694  City Hotel         True         22             2016.0   \n",
       "...           ...          ...        ...                ...   \n",
       "47642  City Hotel         True        116             2016.0   \n",
       "47466  City Hotel         True          4             2016.0   \n",
       "47661  City Hotel         True        116             2016.0   \n",
       "47427  City Hotel         True         37             2016.0   \n",
       "58889  City Hotel         True        605             2016.0   \n",
       "\n",
       "      arrival_date_month  arrival_date_week_number  arrival_date_day_of_month  \\\n",
       "48515              March                        13                         25   \n",
       "57007          September                        38                         16   \n",
       "54479               July                        30                         17   \n",
       "57856            October                        40                          1   \n",
       "55694             August                        34                         19   \n",
       "...                  ...                       ...                        ...   \n",
       "47642           February                        10                         28   \n",
       "47466           February                         9                         23   \n",
       "47661           February                        10                         28   \n",
       "47427           February                         8                         20   \n",
       "58889            October                        43                         17   \n",
       "\n",
       "       stays_in_weekend_nights  stays_in_week_nights  adults  children  \\\n",
       "48515                        0                     1       2       0.0   \n",
       "57007                        1                     2       2       2.0   \n",
       "54479                        2                     1       4       0.0   \n",
       "57856                        2                     2       2       2.0   \n",
       "55694                        0                     2       2       2.0   \n",
       "...                        ...                   ...     ...       ...   \n",
       "47642                        2                     1       1       0.0   \n",
       "47466                        0                     2       1       0.0   \n",
       "47661                        2                     1       1       0.0   \n",
       "47427                        4                     8       1       0.0   \n",
       "58889                        1                     2       2       0.0   \n",
       "\n",
       "       babies meal country market_segment distribution_channel  \\\n",
       "48515       0   BB     PRT  Offline TA/TO                TA/TO   \n",
       "57007       0   HB     FRA      Online TA                TA/TO   \n",
       "54479       0   BB     PRT      Online TA                TA/TO   \n",
       "57856       0   HB     BEL      Online TA                TA/TO   \n",
       "55694       0   HB     ESP      Online TA                TA/TO   \n",
       "...       ...  ...     ...            ...                  ...   \n",
       "47642       0   BB     PRT  Offline TA/TO                TA/TO   \n",
       "47466       0   BB     PRT  Offline TA/TO                TA/TO   \n",
       "47661       0   BB     PRT  Offline TA/TO                TA/TO   \n",
       "47427       0   BB     AGO      Online TA                TA/TO   \n",
       "58889       0   BB     PRT         Groups                TA/TO   \n",
       "\n",
       "       is_repeated_guest  previous_cancellations  \\\n",
       "48515              False                       0   \n",
       "57007              False                       0   \n",
       "54479              False                       0   \n",
       "57856              False                       0   \n",
       "55694              False                       0   \n",
       "...                  ...                     ...   \n",
       "47642              False                       0   \n",
       "47466              False                       0   \n",
       "47661              False                       0   \n",
       "47427              False                       0   \n",
       "58889              False                       0   \n",
       "\n",
       "       previous_bookings_not_canceled reserved_room_type assigned_room_type  \\\n",
       "48515                               0                  A                  A   \n",
       "57007                               0                  F                  F   \n",
       "54479                               0                  G                  G   \n",
       "57856                               0                  F                  F   \n",
       "55694                               0                  F                  F   \n",
       "...                               ...                ...                ...   \n",
       "47642                               0                  A                  A   \n",
       "47466                               0                  A                  A   \n",
       "47661                               0                  A                  A   \n",
       "47427                               0                  A                  A   \n",
       "58889                               0                  A                  A   \n",
       "\n",
       "       booking_changes deposit_type  agent company  days_in_waiting_list  \\\n",
       "48515                1   Non Refund   12.0     NaN                   0.0   \n",
       "57007                0   No Deposit    9.0     NaN                   0.0   \n",
       "54479                0   No Deposit    8.0     NaN                   0.0   \n",
       "57856                0   No Deposit    9.0     NaN                   0.0   \n",
       "55694                0   No Deposit    9.0     NaN                   0.0   \n",
       "...                ...          ...    ...     ...                   ...   \n",
       "47642                0   No Deposit  134.0     NaN                   0.0   \n",
       "47466                0   No Deposit    6.0     NaN                   0.0   \n",
       "47661                0   No Deposit  134.0     NaN                   0.0   \n",
       "47427                1   No Deposit    9.0     NaN                   0.0   \n",
       "58889                0    No Refund    1.0      NU                   NaN   \n",
       "\n",
       "         customer_type      adr  required_car_parking_spaces  \\\n",
       "48515        Transient  5400.00                          0.0   \n",
       "57007        Transient   306.00                          0.0   \n",
       "54479        Transient   299.33                          0.0   \n",
       "57856        Transient   294.00                          0.0   \n",
       "55694        Transient   288.00                          0.0   \n",
       "...                ...      ...                          ...   \n",
       "47642  Transient-Party     1.00                          0.0   \n",
       "47466        Transient     1.00                          0.0   \n",
       "47661  Transient-Party     1.00                          0.0   \n",
       "47427        Transient     0.50                          0.0   \n",
       "58889              NaN      NaN                          NaN   \n",
       "\n",
       "       total_of_special_requests reservation_status reservation_status_date  \\\n",
       "48515                        0.0           Canceled              2016-02-19   \n",
       "57007                        0.0           Canceled              2016-09-08   \n",
       "54479                        0.0           Canceled              2016-07-07   \n",
       "57856                        2.0           Canceled              2016-09-16   \n",
       "55694                        2.0           Canceled              2016-08-02   \n",
       "...                          ...                ...                     ...   \n",
       "47642                        0.0            No-Show              2016-02-28   \n",
       "47466                        0.0           Canceled              2016-02-23   \n",
       "47661                        0.0            No-Show              2016-02-28   \n",
       "47427                        0.0           Canceled              2016-01-18   \n",
       "58889                        NaN                NaN                     NaN   \n",
       "\n",
       "       kids   tipo_reserva  \n",
       "48515   NaN  Mediano Plazo  \n",
       "57007   NaN    Corto Plazo  \n",
       "54479   NaN    Corto Plazo  \n",
       "57856   NaN    Corto Plazo  \n",
       "55694   NaN    Corto Plazo  \n",
       "...     ...            ...  \n",
       "47642   NaN    Largo Plazo  \n",
       "47466   NaN  Ultimo Minuto  \n",
       "47661   NaN    Largo Plazo  \n",
       "47427   NaN  Mediano Plazo  \n",
       "58889   NaN    Largo Plazo  \n",
       "\n",
       "[18629 rows x 34 columns]"
      ]
     },
     "execution_count": 38,
     "metadata": {},
     "output_type": "execute_result"
    }
   ],
   "source": [
    "df.loc[df['hotel'].isin(['City Hotel'])]['adr'].sort_values(ascending=False)\n",
    "\n",
    "df.loc[df['hotel'].isin(['City Hotel'])].sort_values('adr',ascending=False)# volaria ese dato\n"
   ]
  },
  {
   "cell_type": "code",
   "execution_count": 39,
   "id": "9f6aa58d",
   "metadata": {},
   "outputs": [
    {
     "data": {
      "image/png": "[encoded data removed]",
      "text/plain": [
       "<Figure size 1000x600 with 1 Axes>"
      ]
     },
     "metadata": {},
     "output_type": "display_data"
    }
   ],
   "source": [
    "import matplotlib.pyplot as plt\n",
    "\n",
    "# Filtrar los datos\n",
    "city_adr = df.loc[(df['hotel'] == 'City Hotel') & (df['is_canceled'] == 0), 'adr']\n",
    "resort_adr = df.loc[(df['hotel'] == 'Resort Hotel') & (df['is_canceled'] == 0), 'adr']\n",
    "\n",
    "# Crear el histograma solapado\n",
    "plt.figure(figsize=(10,6))\n",
    "plt.hist(city_adr, bins=20, alpha=0.6, label='City Hotel', color='coral', edgecolor='black')\n",
    "plt.hist(resort_adr, bins=20, alpha=0.6, label='Resort Hotel', color='steelblue', edgecolor='black')\n",
    "\n",
    "# Personalizar el gráfico\n",
    "plt.title('Distribución de ADR - Reservas no canceladas')\n",
    "plt.xlabel('ADR')\n",
    "plt.ylabel('Frecuencia')\n",
    "plt.legend()\n",
    "plt.grid(False)\n",
    "plt.tight_layout()\n",
    "plt.show()\n",
    "## hacer esta misma grafica pero con cancelado y no cancelado"
   ]
  }
 ],
 "metadata": {
  "kernelspec": {
   "display_name": "Python (venv_ciencia_datos)",
   "language": "python",
   "name": "ciencia_datos"
  },
  "language_info": {
   "codemirror_mode": {
    "name": "ipython",
    "version": 3
   },
   "file_extension": ".py",
   "mimetype": "text/x-python",
   "name": "python",
   "nbconvert_exporter": "python",
   "pygments_lexer": "ipython3",
   "version": "3.12.1"
  }
 },
 "nbformat": 4,
 "nbformat_minor": 5
}
