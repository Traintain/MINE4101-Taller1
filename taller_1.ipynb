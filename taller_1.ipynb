{
 "cells": [
  {
   "cell_type": "markdown",
   "id": "1be7e407",
   "metadata": {},
   "source": [
    "<H1>ANALISIS DEL COMPORTAMIENTO DE LA DEMANDA DE OCUPACIÓN HOTELERA.<H1/>\n",
    "\n",
    "Presentado por:\n",
    "- Juan Manuel Rivera  - 201534131\n",
    "- Johana Alejandra Rátiva - 202513844"
   ]
  },
  {
   "cell_type": "markdown",
   "id": "a53b4bf2",
   "metadata": {},
   "source": [
    "Con este analisis se busca mejorar las estrategias para garantizar la ocupación a partir de la toma decisiones acertada en cuanto a \n",
    "* Politica de precios \n",
    "* Gestión de cancelaciones \n",
    "* Anticipación de las reservas"
   ]
  },
  {
   "cell_type": "markdown",
   "id": "14dff722",
   "metadata": {},
   "source": [
    "## Etapa 1 : Entendimiento de los datos\n",
    "\n",
    "En esta primera visualización podemos entender la unidad minima de analisis la cual es la reserva, no es el cliente ni el hotel, lo cual nos da un contexto del dataset. \n",
    "También nos permite revisar la estructura de las columnas y plantear algunas preguntas que permitiran limpiar los datos o avanzar con el entendimiento del problema.\n",
    "\n",
    "En este punto surgen preguntas como:\n",
    "* Las reservas canceladas tienen mes de llegada? : No, la variable es consistente\n",
    "* La variable kids puede resumir a las variables children y babys? : No, es una variable con muchos nulos\n",
    "* Que tamaño tiene el dataset :  58895 filas y 33 columnas\n",
    "* Con qué tipo de datos contamos?\n",
    "* Existen errores de tipeo?\n"
   ]
  },
  {
   "cell_type": "code",
   "execution_count": 2,
   "id": "1920666e",
   "metadata": {},
   "outputs": [],
   "source": [
    "import pandas as pd\n",
    "import numpy as np\n",
    "import matplotlib.pyplot as plt\n",
    "import seaborn as sns\n",
    "\n",
    "\n",
    "\n",
    "pd.set_option('display.max_rows', 100)\n",
    "pd.set_option('display.max_columns', 100)"
   ]
  },
  {
   "cell_type": "code",
   "execution_count": 3,
   "id": "7a07e7b2",
   "metadata": {},
   "outputs": [
    {
     "name": "stderr",
     "output_type": "stream",
     "text": [
      "C:\\Users\\jarat\\AppData\\Local\\Temp\\ipykernel_2132\\1894450639.py:2: DtypeWarning: Columns (24) have mixed types. Specify dtype option on import or set low_memory=False.\n",
      "  df = pd.read_csv('./data/hotel_bookings_modified.csv')\n"
     ]
    },
    {
     "data": {
      "text/html": [
       "<div>\n",
       "<style scoped>\n",
       "    .dataframe tbody tr th:only-of-type {\n",
       "        vertical-align: middle;\n",
       "    }\n",
       "\n",
       "    .dataframe tbody tr th {\n",
       "        vertical-align: top;\n",
       "    }\n",
       "\n",
       "    .dataframe thead th {\n",
       "        text-align: right;\n",
       "    }\n",
       "</style>\n",
       "<table border=\"1\" class=\"dataframe\">\n",
       "  <thead>\n",
       "    <tr style=\"text-align: right;\">\n",
       "      <th></th>\n",
       "      <th>hotel</th>\n",
       "      <th>is_canceled</th>\n",
       "      <th>lead_time</th>\n",
       "      <th>arrival_date_year</th>\n",
       "      <th>arrival_date_month</th>\n",
       "      <th>arrival_date_week_number</th>\n",
       "      <th>arrival_date_day_of_month</th>\n",
       "      <th>stays_in_weekend_nights</th>\n",
       "      <th>stays_in_week_nights</th>\n",
       "      <th>adults</th>\n",
       "      <th>children</th>\n",
       "      <th>babies</th>\n",
       "      <th>meal</th>\n",
       "      <th>country</th>\n",
       "      <th>market_segment</th>\n",
       "      <th>distribution_channel</th>\n",
       "      <th>is_repeated_guest</th>\n",
       "      <th>previous_cancellations</th>\n",
       "      <th>previous_bookings_not_canceled</th>\n",
       "      <th>reserved_room_type</th>\n",
       "      <th>assigned_room_type</th>\n",
       "      <th>booking_changes</th>\n",
       "      <th>deposit_type</th>\n",
       "      <th>agent</th>\n",
       "      <th>company</th>\n",
       "      <th>days_in_waiting_list</th>\n",
       "      <th>customer_type</th>\n",
       "      <th>adr</th>\n",
       "      <th>required_car_parking_spaces</th>\n",
       "      <th>total_of_special_requests</th>\n",
       "      <th>reservation_status</th>\n",
       "      <th>reservation_status_date</th>\n",
       "      <th>kids</th>\n",
       "    </tr>\n",
       "  </thead>\n",
       "  <tbody>\n",
       "    <tr>\n",
       "      <th>0</th>\n",
       "      <td>Resort Hotel</td>\n",
       "      <td>0</td>\n",
       "      <td>342</td>\n",
       "      <td>2015.0</td>\n",
       "      <td>July</td>\n",
       "      <td>27</td>\n",
       "      <td>1</td>\n",
       "      <td>0</td>\n",
       "      <td>0</td>\n",
       "      <td>2</td>\n",
       "      <td>0.0</td>\n",
       "      <td>0</td>\n",
       "      <td>BB</td>\n",
       "      <td>PRT</td>\n",
       "      <td>Direct</td>\n",
       "      <td>Direct</td>\n",
       "      <td>0</td>\n",
       "      <td>0</td>\n",
       "      <td>0</td>\n",
       "      <td>C</td>\n",
       "      <td>C</td>\n",
       "      <td>3</td>\n",
       "      <td>No Deposit</td>\n",
       "      <td>NaN</td>\n",
       "      <td>NaN</td>\n",
       "      <td>0.0</td>\n",
       "      <td>Transient</td>\n",
       "      <td>0.0</td>\n",
       "      <td>0.0</td>\n",
       "      <td>0.0</td>\n",
       "      <td>Check-Out</td>\n",
       "      <td>2015-07-01</td>\n",
       "      <td>NaN</td>\n",
       "    </tr>\n",
       "    <tr>\n",
       "      <th>1</th>\n",
       "      <td>Resort Hotel</td>\n",
       "      <td>0</td>\n",
       "      <td>737</td>\n",
       "      <td>2015.0</td>\n",
       "      <td>July</td>\n",
       "      <td>27</td>\n",
       "      <td>1</td>\n",
       "      <td>0</td>\n",
       "      <td>0</td>\n",
       "      <td>2</td>\n",
       "      <td>0.0</td>\n",
       "      <td>0</td>\n",
       "      <td>BB</td>\n",
       "      <td>PRT</td>\n",
       "      <td>Direct</td>\n",
       "      <td>Direct</td>\n",
       "      <td>0</td>\n",
       "      <td>0</td>\n",
       "      <td>0</td>\n",
       "      <td>C</td>\n",
       "      <td>C</td>\n",
       "      <td>4</td>\n",
       "      <td>No Deposit</td>\n",
       "      <td>NaN</td>\n",
       "      <td>NaN</td>\n",
       "      <td>0.0</td>\n",
       "      <td>Transient</td>\n",
       "      <td>0.0</td>\n",
       "      <td>0.0</td>\n",
       "      <td>0.0</td>\n",
       "      <td>Check-Out</td>\n",
       "      <td>2015-07-01</td>\n",
       "      <td>NaN</td>\n",
       "    </tr>\n",
       "    <tr>\n",
       "      <th>2</th>\n",
       "      <td>Resort Hotel</td>\n",
       "      <td>0</td>\n",
       "      <td>7</td>\n",
       "      <td>2015.0</td>\n",
       "      <td>July</td>\n",
       "      <td>27</td>\n",
       "      <td>1</td>\n",
       "      <td>0</td>\n",
       "      <td>1</td>\n",
       "      <td>1</td>\n",
       "      <td>0.0</td>\n",
       "      <td>0</td>\n",
       "      <td>BB</td>\n",
       "      <td>GBR</td>\n",
       "      <td>Direct</td>\n",
       "      <td>Direct</td>\n",
       "      <td>0</td>\n",
       "      <td>0</td>\n",
       "      <td>0</td>\n",
       "      <td>A</td>\n",
       "      <td>C</td>\n",
       "      <td>0</td>\n",
       "      <td>No Deposit</td>\n",
       "      <td>NaN</td>\n",
       "      <td>NaN</td>\n",
       "      <td>0.0</td>\n",
       "      <td>Transient</td>\n",
       "      <td>75.0</td>\n",
       "      <td>0.0</td>\n",
       "      <td>0.0</td>\n",
       "      <td>Check-Out</td>\n",
       "      <td>2015-07-02</td>\n",
       "      <td>NaN</td>\n",
       "    </tr>\n",
       "    <tr>\n",
       "      <th>3</th>\n",
       "      <td>Resort Hotel</td>\n",
       "      <td>0</td>\n",
       "      <td>13</td>\n",
       "      <td>2015.0</td>\n",
       "      <td>July</td>\n",
       "      <td>27</td>\n",
       "      <td>1</td>\n",
       "      <td>0</td>\n",
       "      <td>1</td>\n",
       "      <td>1</td>\n",
       "      <td>0.0</td>\n",
       "      <td>0</td>\n",
       "      <td>BB</td>\n",
       "      <td>GBR</td>\n",
       "      <td>Corporate</td>\n",
       "      <td>Corporate</td>\n",
       "      <td>0</td>\n",
       "      <td>0</td>\n",
       "      <td>0</td>\n",
       "      <td>A</td>\n",
       "      <td>A</td>\n",
       "      <td>0</td>\n",
       "      <td>No Deposit</td>\n",
       "      <td>304.0</td>\n",
       "      <td>NaN</td>\n",
       "      <td>0.0</td>\n",
       "      <td>Transient</td>\n",
       "      <td>75.0</td>\n",
       "      <td>0.0</td>\n",
       "      <td>0.0</td>\n",
       "      <td>Check-Out</td>\n",
       "      <td>2015-07-02</td>\n",
       "      <td>NaN</td>\n",
       "    </tr>\n",
       "    <tr>\n",
       "      <th>4</th>\n",
       "      <td>Resort Hotel</td>\n",
       "      <td>0</td>\n",
       "      <td>14</td>\n",
       "      <td>2015.0</td>\n",
       "      <td>July</td>\n",
       "      <td>27</td>\n",
       "      <td>1</td>\n",
       "      <td>0</td>\n",
       "      <td>2</td>\n",
       "      <td>2</td>\n",
       "      <td>0.0</td>\n",
       "      <td>0</td>\n",
       "      <td>BB</td>\n",
       "      <td>GBR</td>\n",
       "      <td>Online TA</td>\n",
       "      <td>TA/TO</td>\n",
       "      <td>0</td>\n",
       "      <td>0</td>\n",
       "      <td>0</td>\n",
       "      <td>A</td>\n",
       "      <td>A</td>\n",
       "      <td>0</td>\n",
       "      <td>No Deposit</td>\n",
       "      <td>240.0</td>\n",
       "      <td>NaN</td>\n",
       "      <td>0.0</td>\n",
       "      <td>Transient</td>\n",
       "      <td>98.0</td>\n",
       "      <td>0.0</td>\n",
       "      <td>1.0</td>\n",
       "      <td>Check-Out</td>\n",
       "      <td>2015-07-03</td>\n",
       "      <td>NaN</td>\n",
       "    </tr>\n",
       "    <tr>\n",
       "      <th>5</th>\n",
       "      <td>Resort Hotel</td>\n",
       "      <td>0</td>\n",
       "      <td>14</td>\n",
       "      <td>2015.0</td>\n",
       "      <td>July</td>\n",
       "      <td>27</td>\n",
       "      <td>1</td>\n",
       "      <td>0</td>\n",
       "      <td>2</td>\n",
       "      <td>2</td>\n",
       "      <td>0.0</td>\n",
       "      <td>0</td>\n",
       "      <td>BB</td>\n",
       "      <td>GBR</td>\n",
       "      <td>Online TA</td>\n",
       "      <td>TA/TO</td>\n",
       "      <td>0</td>\n",
       "      <td>0</td>\n",
       "      <td>0</td>\n",
       "      <td>A</td>\n",
       "      <td>A</td>\n",
       "      <td>0</td>\n",
       "      <td>No Deposit</td>\n",
       "      <td>240.0</td>\n",
       "      <td>NaN</td>\n",
       "      <td>0.0</td>\n",
       "      <td>Transient</td>\n",
       "      <td>98.0</td>\n",
       "      <td>0.0</td>\n",
       "      <td>1.0</td>\n",
       "      <td>Check-Out</td>\n",
       "      <td>2015-07-03</td>\n",
       "      <td>NaN</td>\n",
       "    </tr>\n",
       "    <tr>\n",
       "      <th>6</th>\n",
       "      <td>Resort Hotel</td>\n",
       "      <td>0</td>\n",
       "      <td>0</td>\n",
       "      <td>2015.0</td>\n",
       "      <td>July</td>\n",
       "      <td>27</td>\n",
       "      <td>1</td>\n",
       "      <td>0</td>\n",
       "      <td>2</td>\n",
       "      <td>2</td>\n",
       "      <td>0.0</td>\n",
       "      <td>0</td>\n",
       "      <td>BB</td>\n",
       "      <td>PRT</td>\n",
       "      <td>Direct</td>\n",
       "      <td>Direct</td>\n",
       "      <td>0</td>\n",
       "      <td>0</td>\n",
       "      <td>0</td>\n",
       "      <td>C</td>\n",
       "      <td>C</td>\n",
       "      <td>0</td>\n",
       "      <td>No Deposit</td>\n",
       "      <td>NaN</td>\n",
       "      <td>NaN</td>\n",
       "      <td>0.0</td>\n",
       "      <td>Transient</td>\n",
       "      <td>107.0</td>\n",
       "      <td>0.0</td>\n",
       "      <td>0.0</td>\n",
       "      <td>Check-Out</td>\n",
       "      <td>2015-07-03</td>\n",
       "      <td>NaN</td>\n",
       "    </tr>\n",
       "    <tr>\n",
       "      <th>7</th>\n",
       "      <td>Resort Hotel</td>\n",
       "      <td>0</td>\n",
       "      <td>9</td>\n",
       "      <td>2015.0</td>\n",
       "      <td>July</td>\n",
       "      <td>27</td>\n",
       "      <td>1</td>\n",
       "      <td>0</td>\n",
       "      <td>2</td>\n",
       "      <td>2</td>\n",
       "      <td>0.0</td>\n",
       "      <td>0</td>\n",
       "      <td>FB</td>\n",
       "      <td>PRT</td>\n",
       "      <td>Direct</td>\n",
       "      <td>Direct</td>\n",
       "      <td>0</td>\n",
       "      <td>0</td>\n",
       "      <td>0</td>\n",
       "      <td>C</td>\n",
       "      <td>C</td>\n",
       "      <td>0</td>\n",
       "      <td>No Deposit</td>\n",
       "      <td>303.0</td>\n",
       "      <td>NaN</td>\n",
       "      <td>0.0</td>\n",
       "      <td>Transient</td>\n",
       "      <td>103.0</td>\n",
       "      <td>0.0</td>\n",
       "      <td>1.0</td>\n",
       "      <td>Check-Out</td>\n",
       "      <td>2015-07-03</td>\n",
       "      <td>NaN</td>\n",
       "    </tr>\n",
       "    <tr>\n",
       "      <th>8</th>\n",
       "      <td>Resort Hotel</td>\n",
       "      <td>1</td>\n",
       "      <td>85</td>\n",
       "      <td>2015.0</td>\n",
       "      <td>July</td>\n",
       "      <td>27</td>\n",
       "      <td>1</td>\n",
       "      <td>0</td>\n",
       "      <td>3</td>\n",
       "      <td>2</td>\n",
       "      <td>0.0</td>\n",
       "      <td>0</td>\n",
       "      <td>BB</td>\n",
       "      <td>PRT</td>\n",
       "      <td>Online TA</td>\n",
       "      <td>TA/TO</td>\n",
       "      <td>0</td>\n",
       "      <td>0</td>\n",
       "      <td>0</td>\n",
       "      <td>A</td>\n",
       "      <td>A</td>\n",
       "      <td>0</td>\n",
       "      <td>No Deposit</td>\n",
       "      <td>240.0</td>\n",
       "      <td>NaN</td>\n",
       "      <td>0.0</td>\n",
       "      <td>Transient</td>\n",
       "      <td>82.0</td>\n",
       "      <td>0.0</td>\n",
       "      <td>1.0</td>\n",
       "      <td>Canceled</td>\n",
       "      <td>2015-05-06</td>\n",
       "      <td>NaN</td>\n",
       "    </tr>\n",
       "    <tr>\n",
       "      <th>9</th>\n",
       "      <td>Resort Hotel</td>\n",
       "      <td>1</td>\n",
       "      <td>75</td>\n",
       "      <td>2015.0</td>\n",
       "      <td>July</td>\n",
       "      <td>27</td>\n",
       "      <td>1</td>\n",
       "      <td>0</td>\n",
       "      <td>3</td>\n",
       "      <td>2</td>\n",
       "      <td>0.0</td>\n",
       "      <td>0</td>\n",
       "      <td>HB</td>\n",
       "      <td>PRT</td>\n",
       "      <td>Offline TA/TO</td>\n",
       "      <td>TA/TO</td>\n",
       "      <td>0</td>\n",
       "      <td>0</td>\n",
       "      <td>0</td>\n",
       "      <td>D</td>\n",
       "      <td>D</td>\n",
       "      <td>0</td>\n",
       "      <td>No Deposit</td>\n",
       "      <td>15.0</td>\n",
       "      <td>NaN</td>\n",
       "      <td>0.0</td>\n",
       "      <td>Transient</td>\n",
       "      <td>105.5</td>\n",
       "      <td>0.0</td>\n",
       "      <td>0.0</td>\n",
       "      <td>Canceled</td>\n",
       "      <td>2015-04-22</td>\n",
       "      <td>NaN</td>\n",
       "    </tr>\n",
       "  </tbody>\n",
       "</table>\n",
       "</div>"
      ],
      "text/plain": [
       "          hotel  is_canceled  lead_time  arrival_date_year arrival_date_month  \\\n",
       "0  Resort Hotel            0        342             2015.0               July   \n",
       "1  Resort Hotel            0        737             2015.0               July   \n",
       "2  Resort Hotel            0          7             2015.0               July   \n",
       "3  Resort Hotel            0         13             2015.0               July   \n",
       "4  Resort Hotel            0         14             2015.0               July   \n",
       "5  Resort Hotel            0         14             2015.0               July   \n",
       "6  Resort Hotel            0          0             2015.0               July   \n",
       "7  Resort Hotel            0          9             2015.0               July   \n",
       "8  Resort Hotel            1         85             2015.0               July   \n",
       "9  Resort Hotel            1         75             2015.0               July   \n",
       "\n",
       "   arrival_date_week_number  arrival_date_day_of_month  \\\n",
       "0                        27                          1   \n",
       "1                        27                          1   \n",
       "2                        27                          1   \n",
       "3                        27                          1   \n",
       "4                        27                          1   \n",
       "5                        27                          1   \n",
       "6                        27                          1   \n",
       "7                        27                          1   \n",
       "8                        27                          1   \n",
       "9                        27                          1   \n",
       "\n",
       "   stays_in_weekend_nights  stays_in_week_nights  adults  children  babies  \\\n",
       "0                        0                     0       2       0.0       0   \n",
       "1                        0                     0       2       0.0       0   \n",
       "2                        0                     1       1       0.0       0   \n",
       "3                        0                     1       1       0.0       0   \n",
       "4                        0                     2       2       0.0       0   \n",
       "5                        0                     2       2       0.0       0   \n",
       "6                        0                     2       2       0.0       0   \n",
       "7                        0                     2       2       0.0       0   \n",
       "8                        0                     3       2       0.0       0   \n",
       "9                        0                     3       2       0.0       0   \n",
       "\n",
       "  meal country market_segment distribution_channel  is_repeated_guest  \\\n",
       "0   BB     PRT         Direct               Direct                  0   \n",
       "1   BB     PRT         Direct               Direct                  0   \n",
       "2   BB     GBR         Direct               Direct                  0   \n",
       "3   BB     GBR      Corporate            Corporate                  0   \n",
       "4   BB     GBR      Online TA                TA/TO                  0   \n",
       "5   BB     GBR      Online TA                TA/TO                  0   \n",
       "6   BB     PRT         Direct               Direct                  0   \n",
       "7   FB     PRT         Direct               Direct                  0   \n",
       "8   BB     PRT      Online TA                TA/TO                  0   \n",
       "9   HB     PRT  Offline TA/TO                TA/TO                  0   \n",
       "\n",
       "   previous_cancellations  previous_bookings_not_canceled reserved_room_type  \\\n",
       "0                       0                               0                  C   \n",
       "1                       0                               0                  C   \n",
       "2                       0                               0                  A   \n",
       "3                       0                               0                  A   \n",
       "4                       0                               0                  A   \n",
       "5                       0                               0                  A   \n",
       "6                       0                               0                  C   \n",
       "7                       0                               0                  C   \n",
       "8                       0                               0                  A   \n",
       "9                       0                               0                  D   \n",
       "\n",
       "  assigned_room_type  booking_changes deposit_type  agent company  \\\n",
       "0                  C                3   No Deposit    NaN     NaN   \n",
       "1                  C                4   No Deposit    NaN     NaN   \n",
       "2                  C                0   No Deposit    NaN     NaN   \n",
       "3                  A                0   No Deposit  304.0     NaN   \n",
       "4                  A                0   No Deposit  240.0     NaN   \n",
       "5                  A                0   No Deposit  240.0     NaN   \n",
       "6                  C                0   No Deposit    NaN     NaN   \n",
       "7                  C                0   No Deposit  303.0     NaN   \n",
       "8                  A                0   No Deposit  240.0     NaN   \n",
       "9                  D                0   No Deposit   15.0     NaN   \n",
       "\n",
       "   days_in_waiting_list customer_type    adr  required_car_parking_spaces  \\\n",
       "0                   0.0     Transient    0.0                          0.0   \n",
       "1                   0.0     Transient    0.0                          0.0   \n",
       "2                   0.0     Transient   75.0                          0.0   \n",
       "3                   0.0     Transient   75.0                          0.0   \n",
       "4                   0.0     Transient   98.0                          0.0   \n",
       "5                   0.0     Transient   98.0                          0.0   \n",
       "6                   0.0     Transient  107.0                          0.0   \n",
       "7                   0.0     Transient  103.0                          0.0   \n",
       "8                   0.0     Transient   82.0                          0.0   \n",
       "9                   0.0     Transient  105.5                          0.0   \n",
       "\n",
       "   total_of_special_requests reservation_status reservation_status_date  kids  \n",
       "0                        0.0          Check-Out              2015-07-01   NaN  \n",
       "1                        0.0          Check-Out              2015-07-01   NaN  \n",
       "2                        0.0          Check-Out              2015-07-02   NaN  \n",
       "3                        0.0          Check-Out              2015-07-02   NaN  \n",
       "4                        1.0          Check-Out              2015-07-03   NaN  \n",
       "5                        1.0          Check-Out              2015-07-03   NaN  \n",
       "6                        0.0          Check-Out              2015-07-03   NaN  \n",
       "7                        1.0          Check-Out              2015-07-03   NaN  \n",
       "8                        1.0           Canceled              2015-05-06   NaN  \n",
       "9                        0.0           Canceled              2015-04-22   NaN  "
      ]
     },
     "execution_count": 3,
     "metadata": {},
     "output_type": "execute_result"
    }
   ],
   "source": [
    "# Cargar CSV\n",
    "df = pd.read_csv('./data/hotel_bookings_modified.csv')\n",
    "\n",
    "df.head(10)\n"
   ]
  },
  {
   "cell_type": "markdown",
   "id": "8f2f5f60",
   "metadata": {},
   "source": [
    "1.1. Tamaño del dataframe"
   ]
  },
  {
   "cell_type": "code",
   "execution_count": 4,
   "id": "c187c56b",
   "metadata": {},
   "outputs": [
    {
     "name": "stdout",
     "output_type": "stream",
     "text": [
      "El dataframe tiene 58895 filas y 33 columnas.\n"
     ]
    }
   ],
   "source": [
    "# Inspección básica\n",
    "df.shape              # Filas y columnas\n",
    "\n",
    "print(\"El dataframe tiene {} filas y {} columnas.\".format(df.shape[0], df.shape[1]))"
   ]
  },
  {
   "cell_type": "markdown",
   "id": "270fa381",
   "metadata": {},
   "source": [
    "1.2. Inspección de tipos de datos "
   ]
  },
  {
   "cell_type": "code",
   "execution_count": 5,
   "id": "acd82415",
   "metadata": {},
   "outputs": [
    {
     "name": "stdout",
     "output_type": "stream",
     "text": [
      "<class 'pandas.core.frame.DataFrame'>\n",
      "RangeIndex: 58895 entries, 0 to 58894\n",
      "Data columns (total 33 columns):\n",
      " #   Column                          Non-Null Count  Dtype  \n",
      "---  ------                          --------------  -----  \n",
      " 0   hotel                           58895 non-null  object \n",
      " 1   is_canceled                     58895 non-null  int64  \n",
      " 2   lead_time                       58895 non-null  int64  \n",
      " 3   arrival_date_year               58307 non-null  float64\n",
      " 4   arrival_date_month              58895 non-null  object \n",
      " 5   arrival_date_week_number        58895 non-null  int64  \n",
      " 6   arrival_date_day_of_month       58895 non-null  int64  \n",
      " 7   stays_in_weekend_nights         58895 non-null  int64  \n",
      " 8   stays_in_week_nights            58895 non-null  int64  \n",
      " 9   adults                          58895 non-null  int64  \n",
      " 10  children                        58891 non-null  float64\n",
      " 11  babies                          58895 non-null  int64  \n",
      " 12  meal                            58895 non-null  object \n",
      " 13  country                         58417 non-null  object \n",
      " 14  market_segment                  58895 non-null  object \n",
      " 15  distribution_channel            58895 non-null  object \n",
      " 16  is_repeated_guest               58895 non-null  int64  \n",
      " 17  previous_cancellations          58895 non-null  int64  \n",
      " 18  previous_bookings_not_canceled  58895 non-null  int64  \n",
      " 19  reserved_room_type              58895 non-null  object \n",
      " 20  assigned_room_type              58895 non-null  object \n",
      " 21  booking_changes                 58895 non-null  int64  \n",
      " 22  deposit_type                    58895 non-null  object \n",
      " 23  agent                           49763 non-null  float64\n",
      " 24  company                         3479 non-null   object \n",
      " 25  days_in_waiting_list            58894 non-null  float64\n",
      " 26  customer_type                   58306 non-null  object \n",
      " 27  adr                             58894 non-null  float64\n",
      " 28  required_car_parking_spaces     58306 non-null  float64\n",
      " 29  total_of_special_requests       58894 non-null  float64\n",
      " 30  reservation_status              58306 non-null  object \n",
      " 31  reservation_status_date         58894 non-null  object \n",
      " 32  kids                            201 non-null    float64\n",
      "dtypes: float64(8), int64(12), object(13)\n",
      "memory usage: 14.8+ MB\n"
     ]
    }
   ],
   "source": [
    "df.info()           # Tipos de datos y nulos\n"
   ]
  },
  {
   "cell_type": "markdown",
   "id": "3416a01a",
   "metadata": {},
   "source": [
    "Esta inspección nos permite identificar datos con muchos nulos como kids y company, que si bien pueden ser variables utiles para analisis particulares, no son relevante para entender el comportamiento de la generalidad de las reservas debido precisamente a la ausencia de datos.\n",
    "\n",
    "Adicionalmente nos permite identificar la necesidad de algunos ajustes que deben realizarse en la etapa de limpieza y enriquecimiento. Entre ellos:\n",
    "\n",
    "* is_canceled es una variable de tipo entero que puede transformarse a bool para facilitar la lectura e interpretación.\n",
    "* lead_time es una variable cuantitativa discreta que puede enriquecerse como cualitativa ordinal que permite darle una lectura propia del negocio hotelero.\n",
    "* arrival_date_month es una variable categorica que puede enriquecerse dandole un caracter de categorica ordinal\n",
    "* reservation_status_date es una variable cuantitativa discrea y podemos transformarla a categorica ordinal para usarla en la busqueda de grupos de clientes\n",
    "\n",
    "Adicionalmente adjuntamos un diccionario enriquecido con los tipos de variable estadistica, resaltando a priori las variables que consideramos relevantes, sin embargo las variables mas importantes que elegimos son:\n",
    "\n",
    "- **hotel**: indica si el hotel es rural o urbano\n",
    "- **is_canceled**: indica si la reserva fue cancelada\n",
    "- **lead_time**: cuántos días han pasado entre que se crea la reserva y la fecha de llegada\n",
    "- **adr**: tarifa promedio por día\n",
    "- **arrival_date_month**: mes de llegada\n",
    "\n",
    "![Texto alternativo](tabla_tipos_datos.jpg)\n",
    "\n",
    "\n"
   ]
  },
  {
   "cell_type": "markdown",
   "id": "37815661",
   "metadata": {},
   "source": [
    "## Etapa 2: Limpieza y enriquecimiento del dataset.\n",
    "\n",
    "En esta etapa buscamos encontrar errores de consistencia y completitud que nos permitan garantizar que los datos elegidos son optimos para los analisis. Por otra parte damos el caracter al dato dado en el diccionario lo que facilita su lectura (Convertir a booleano y garantizar variables ordinales).\n",
    "\n",
    "Generamos variables adicionales como estacion_anio y tipo_reserva. "
   ]
  },
  {
   "cell_type": "markdown",
   "id": "fc03de09",
   "metadata": {},
   "source": [
    "* Revision y ajuste de variables categoricas"
   ]
  },
  {
   "cell_type": "code",
   "execution_count": 22,
   "id": "0f6c088e",
   "metadata": {},
   "outputs": [
    {
     "name": "stdout",
     "output_type": "stream",
     "text": [
      "La columna 'arrival_date_month' ha sido convertida a categórica ordinal.\n",
      "['July', 'August', 'September', 'October', 'November', ..., 'February', 'March', 'April', 'May', 'June']\n",
      "Length: 12\n",
      "Categories (12, object): ['January' < 'February' < 'March' < 'April' ... 'September' < 'October' < 'November' < 'December']\n"
     ]
    }
   ],
   "source": [
    "# Se convertirá la columna de cancelación a valores booleanos\n",
    "df['is_canceled'] = df['is_canceled'].replace({0: False, 1: True})\n",
    "\n",
    "# Se corrigen valores atípicos en la fecha de llegada\n",
    "df['arrival_date_year'] = df['arrival_date_year'].replace({20016.: 2016.})\n",
    "\n",
    "# Se convertirá la columna si el husped ya se había alojado previamente\n",
    "df['is_repeated_guest'] = df['is_repeated_guest'].replace({0: False, 1: True})\n",
    "\n",
    "# Inspeccionar valores unicos de arrival_date_month\n",
    "df['arrival_date_month'].unique()\n",
    "\n",
    "# Convertir la columna a categórica ordinal\n",
    "df['arrival_date_month'] = pd.Categorical(\n",
    "    df['arrival_date_month'],\n",
    "    categories=[\"January\", \"February\", \"March\", \"April\", \"May\", \"June\",\"July\", \"August\", \"September\", \"October\", \"November\", \"December\"],\n",
    "    ordered=True\n",
    ")\n",
    "\n",
    "print(\"La columna 'arrival_date_month' ha sido convertida a categórica ordinal.\")\n",
    "print(df['arrival_date_month'].unique())"
   ]
  },
  {
   "cell_type": "markdown",
   "id": "0aa4aecd",
   "metadata": {},
   "source": [
    "Como queremos analizar si existe alguna relación entre la temporada del año y las reservas es necesario darle un tratamiento a la varaible de mes de llegada para su uso posterior."
   ]
  },
  {
   "cell_type": "code",
   "execution_count": 27,
   "id": "2a3be19f",
   "metadata": {},
   "outputs": [
    {
     "name": "stdout",
     "output_type": "stream",
     "text": [
      "Se ha creado la columna 'estacion_anio' basada en 'arrival_date_month'.\n",
      "['Verano' 'Otoño' 'Invierno' 'Primavera']\n"
     ]
    }
   ],
   "source": [
    "# Diccionario que mapea cada mes a su estación en el hemisferio norte\n",
    "mes_a_estacion = {\n",
    "    \"December\": \"Otoño\", \"January\": \"Invierno\", \"February\": \"Invierno\",\n",
    "    \"March\": \"Invierno\", \"April\": \"Primavera\", \"May\": \"Primavera\",\n",
    "    \"June\": \"Primavera\", \"July\": \"Verano\", \"August\": \"Verano\",\n",
    "    \"September\": \"Verano\", \"October\": \"Otoño\", \"November\": \"Otoño\"\n",
    "}\n",
    "\n",
    "# Aplicamos el mapeo a la columna arrival_date_month\n",
    "df[\"estacion_anio\"] = df[\"arrival_date_month\"].map(mes_a_estacion)\n",
    "\n",
    "print(\"Se ha creado la columna 'estacion_anio' basada en 'arrival_date_month'.\")\n",
    "print (df['estacion_anio'].unique())\n"
   ]
  },
  {
   "cell_type": "markdown",
   "id": "0a499f30",
   "metadata": {},
   "source": [
    "* Revisión devalores unicos"
   ]
  },
  {
   "cell_type": "code",
   "execution_count": 9,
   "id": "d7aea351",
   "metadata": {},
   "outputs": [
    {
     "name": "stdout",
     "output_type": "stream",
     "text": [
      "Index(['hotel', 'arrival_date_month', 'meal', 'country', 'market_segment',\n",
      "       'distribution_channel', 'reserved_room_type', 'assigned_room_type',\n",
      "       'deposit_type', 'company', 'customer_type', 'reservation_status',\n",
      "       'reservation_status_date', 'estacion_anio'],\n",
      "      dtype='object')\n",
      "['Resort Hotel' 'City Hotel']\n",
      "['July', 'August', 'September', 'October', 'November', ..., 'February', 'March', 'April', 'May', 'June']\n",
      "Length: 12\n",
      "Categories (12, object): ['January' < 'February' < 'March' < 'April' ... 'September' < 'October' < 'November' < 'December']\n",
      "['BB' 'FB' 'HB' 'SC' 'Undefined']\n",
      "['Transient' nan 'Contract' 'Transient-Party' 'Group']\n",
      "['C' 'A' 'D' 'E' 'G' 'F' 'I' 'B' 'H' 'P' 'L' 'K']\n",
      "['No Deposit' 'Refundable' 'Non Refund' 'No Refund']\n"
     ]
    }
   ],
   "source": [
    "# revision de valores unicos par variables cualitativas\n",
    "print(df.select_dtypes(include=['object', 'category']).columns)\n",
    "\n",
    "print(df['hotel'].unique())\n",
    "\n",
    "print(df['arrival_date_month'].unique())  \n",
    "\n",
    "print(df['meal'].unique()) \n",
    "\n",
    "print(df['customer_type'].unique())  \n",
    "\n",
    "print(df['assigned_room_type'].unique())  \n",
    "\n",
    "print(df['deposit_type'].unique())  "
   ]
  },
  {
   "cell_type": "markdown",
   "id": "3fe3edc5",
   "metadata": {},
   "source": [
    "Podemos evidenciar que las variables categoricas son consistentes y podemos avanzar si realizar actividades de limpieza para ellas. Es llamativo que para la variable customer type existen valores en nan, los cuales tendriamos que entrar a validar y trabajar de forma especial si decidimos trabajar con esta varaible."
   ]
  },
  {
   "cell_type": "code",
   "execution_count": 24,
   "id": "74106be3",
   "metadata": {},
   "outputs": [
    {
     "data": {
      "text/html": [
       "<div>\n",
       "<style scoped>\n",
       "    .dataframe tbody tr th:only-of-type {\n",
       "        vertical-align: middle;\n",
       "    }\n",
       "\n",
       "    .dataframe tbody tr th {\n",
       "        vertical-align: top;\n",
       "    }\n",
       "\n",
       "    .dataframe thead th {\n",
       "        text-align: right;\n",
       "    }\n",
       "</style>\n",
       "<table border=\"1\" class=\"dataframe\">\n",
       "  <thead>\n",
       "    <tr style=\"text-align: right;\">\n",
       "      <th></th>\n",
       "      <th>hotel</th>\n",
       "      <th>is_canceled</th>\n",
       "      <th>lead_time</th>\n",
       "      <th>arrival_date_year</th>\n",
       "      <th>arrival_date_month</th>\n",
       "      <th>arrival_date_week_number</th>\n",
       "      <th>arrival_date_day_of_month</th>\n",
       "      <th>stays_in_weekend_nights</th>\n",
       "      <th>stays_in_week_nights</th>\n",
       "      <th>adults</th>\n",
       "      <th>children</th>\n",
       "      <th>babies</th>\n",
       "      <th>meal</th>\n",
       "      <th>country</th>\n",
       "      <th>market_segment</th>\n",
       "      <th>distribution_channel</th>\n",
       "      <th>is_repeated_guest</th>\n",
       "      <th>previous_cancellations</th>\n",
       "      <th>previous_bookings_not_canceled</th>\n",
       "      <th>reserved_room_type</th>\n",
       "      <th>assigned_room_type</th>\n",
       "      <th>booking_changes</th>\n",
       "      <th>deposit_type</th>\n",
       "      <th>agent</th>\n",
       "      <th>company</th>\n",
       "      <th>days_in_waiting_list</th>\n",
       "      <th>customer_type</th>\n",
       "      <th>adr</th>\n",
       "      <th>required_car_parking_spaces</th>\n",
       "      <th>total_of_special_requests</th>\n",
       "      <th>reservation_status</th>\n",
       "      <th>reservation_status_date</th>\n",
       "      <th>kids</th>\n",
       "      <th>estacion_anio</th>\n",
       "      <th>tipo_reserva</th>\n",
       "    </tr>\n",
       "  </thead>\n",
       "  <tbody>\n",
       "  </tbody>\n",
       "</table>\n",
       "</div>"
      ],
      "text/plain": [
       "Empty DataFrame\n",
       "Columns: [hotel, is_canceled, lead_time, arrival_date_year, arrival_date_month, arrival_date_week_number, arrival_date_day_of_month, stays_in_weekend_nights, stays_in_week_nights, adults, children, babies, meal, country, market_segment, distribution_channel, is_repeated_guest, previous_cancellations, previous_bookings_not_canceled, reserved_room_type, assigned_room_type, booking_changes, deposit_type, agent, company, days_in_waiting_list, customer_type, adr, required_car_parking_spaces, total_of_special_requests, reservation_status, reservation_status_date, kids, estacion_anio, tipo_reserva]\n",
       "Index: []"
      ]
     },
     "execution_count": 24,
     "metadata": {},
     "output_type": "execute_result"
    }
   ],
   "source": [
    "# Analisis de consistencia \n",
    "# las reservas canceladas tienen mes de llegada?\n",
    "df[(df['is_canceled'] == True) & (df['arrival_date_month'].isnull())]"
   ]
  },
  {
   "cell_type": "markdown",
   "id": "344c42f5",
   "metadata": {},
   "source": [
    "Se evidencia consistencia entre dos de las variables elgidas. Dado que una reserva cancelada no deberia tener mes de llegada, lo cual se comprobó en la caja anterior. Esto fortalece nuestro analisis y nos da paso a poder utilizarlas posteriormente. "
   ]
  },
  {
   "cell_type": "markdown",
   "id": "984f6444",
   "metadata": {},
   "source": [
    "\n",
    "* Revision de variables cuantitativas"
   ]
  },
  {
   "cell_type": "markdown",
   "id": "943dd9b8",
   "metadata": {},
   "source": [
    "* ADR"
   ]
  },
  {
   "cell_type": "code",
   "execution_count": 11,
   "id": "c81a0dd6",
   "metadata": {},
   "outputs": [
    {
     "data": {
      "text/plain": [
       "count    58894.000000\n",
       "mean        96.250426\n",
       "std         58.555599\n",
       "min         -6.380000\n",
       "25%         60.000000\n",
       "50%         84.000000\n",
       "75%        120.000000\n",
       "max       5400.000000\n",
       "Name: adr, dtype: float64"
      ]
     },
     "execution_count": 11,
     "metadata": {},
     "output_type": "execute_result"
    }
   ],
   "source": [
    "#Estadisticas descriptivas de la variable adr para evidenciar posibles valores atipicos\n",
    "df['adr'].describe()"
   ]
  },
  {
   "cell_type": "code",
   "execution_count": 12,
   "id": "b292a77a",
   "metadata": {},
   "outputs": [],
   "source": [
    "# Remplazo de valor negativo\n",
    "df['adr'] = df['adr'].replace({-6.38: 6.38})"
   ]
  },
  {
   "cell_type": "markdown",
   "id": "17076636",
   "metadata": {},
   "source": [
    "Podemos evidenciar que la variable adr presenta una mediana cercana a su media a pesar del valor maximo de 5400, esto nos puede dar indicios de que se trata de un valor maximo atipico y podria tratarse de un hotel de lujo o un dato mal digitado. \n",
    "\n",
    "También optamos por remplazar el valor negativo teniendo en cuenta que no deberian existir valores promedio por noche en negativo.\n"
   ]
  },
  {
   "cell_type": "markdown",
   "id": "96d88d9e",
   "metadata": {},
   "source": [
    "Revisión de valores en 0 para adr"
   ]
  },
  {
   "cell_type": "code",
   "execution_count": 13,
   "id": "14b4995c",
   "metadata": {},
   "outputs": [
    {
     "data": {
      "text/plain": [
       "is_canceled\n",
       "False    0.865828\n",
       "True     0.134172\n",
       "Name: proportion, dtype: float64"
      ]
     },
     "execution_count": 13,
     "metadata": {},
     "output_type": "execute_result"
    }
   ],
   "source": [
    "#Revisión de valores en cero en relación con las cancelaciones\n",
    "df.loc[df['adr'] ==0]['is_canceled'].value_counts(normalize=True)"
   ]
  },
  {
   "cell_type": "code",
   "execution_count": 14,
   "id": "b00c2814",
   "metadata": {},
   "outputs": [
    {
     "data": {
      "text/plain": [
       "0.01619831904236353"
      ]
     },
     "execution_count": 14,
     "metadata": {},
     "output_type": "execute_result"
    }
   ],
   "source": [
    "df.loc[df['adr'] ==0].shape[0] / df.shape[0]  # Porcentaje de datos con adr en 0"
   ]
  },
  {
   "cell_type": "markdown",
   "id": "31162d35",
   "metadata": {},
   "source": [
    "Realizando esta agrupación podemos ver que los valores de 0 no necesariamente estan asociados a cancelaciones, lo que puede mostrarnos que estos datos son valores erroneos o que se trata de promociones otorgadas en la reserva dado que también coincide con un 13% de cancelaciones que nos da indicios de que los clientes no cancelan un beneficio otorgado. Para este caso vamos a ignorar estos datos dado que no es fruto del analisis considerar promociones y teniendo en cuenta que la cantidad de datos nulos es baja -> 1% de los datos"
   ]
  },
  {
   "cell_type": "code",
   "execution_count": 15,
   "id": "c242dde0",
   "metadata": {},
   "outputs": [
    {
     "name": "stdout",
     "output_type": "stream",
     "text": [
      "El dataframe tiene ahora 57941 filas y 34 columnas.\n"
     ]
    }
   ],
   "source": [
    "df = df[df['adr'] != 0]  # Filtrar filas donde adr no es 0\n",
    "df.shape\n",
    "print(\"El dataframe tiene ahora {} filas y {} columnas.\".format(df.shape[0], df.shape[1]))"
   ]
  },
  {
   "cell_type": "markdown",
   "id": "68a7d892",
   "metadata": {},
   "source": [
    "* lead_time"
   ]
  },
  {
   "cell_type": "code",
   "execution_count": 16,
   "id": "7c756f3b",
   "metadata": {},
   "outputs": [
    {
     "data": {
      "text/html": [
       "<div>\n",
       "<style scoped>\n",
       "    .dataframe tbody tr th:only-of-type {\n",
       "        vertical-align: middle;\n",
       "    }\n",
       "\n",
       "    .dataframe tbody tr th {\n",
       "        vertical-align: top;\n",
       "    }\n",
       "\n",
       "    .dataframe thead th {\n",
       "        text-align: right;\n",
       "    }\n",
       "</style>\n",
       "<table border=\"1\" class=\"dataframe\">\n",
       "  <thead>\n",
       "    <tr style=\"text-align: right;\">\n",
       "      <th></th>\n",
       "      <th>lead_time</th>\n",
       "    </tr>\n",
       "  </thead>\n",
       "  <tbody>\n",
       "    <tr>\n",
       "      <th>count</th>\n",
       "      <td>57941.000000</td>\n",
       "    </tr>\n",
       "    <tr>\n",
       "      <th>mean</th>\n",
       "      <td>100.858218</td>\n",
       "    </tr>\n",
       "    <tr>\n",
       "      <th>std</th>\n",
       "      <td>101.174362</td>\n",
       "    </tr>\n",
       "    <tr>\n",
       "      <th>min</th>\n",
       "      <td>0.000000</td>\n",
       "    </tr>\n",
       "    <tr>\n",
       "      <th>25%</th>\n",
       "      <td>17.000000</td>\n",
       "    </tr>\n",
       "    <tr>\n",
       "      <th>50%</th>\n",
       "      <td>70.000000</td>\n",
       "    </tr>\n",
       "    <tr>\n",
       "      <th>75%</th>\n",
       "      <td>158.000000</td>\n",
       "    </tr>\n",
       "    <tr>\n",
       "      <th>max</th>\n",
       "      <td>709.000000</td>\n",
       "    </tr>\n",
       "  </tbody>\n",
       "</table>\n",
       "</div>"
      ],
      "text/plain": [
       "          lead_time\n",
       "count  57941.000000\n",
       "mean     100.858218\n",
       "std      101.174362\n",
       "min        0.000000\n",
       "25%       17.000000\n",
       "50%       70.000000\n",
       "75%      158.000000\n",
       "max      709.000000"
      ]
     },
     "execution_count": 16,
     "metadata": {},
     "output_type": "execute_result"
    }
   ],
   "source": [
    "# Estadisticas descriptivas para lead_time y evidenciar necesidad de limpieza\n",
    "df[[\"lead_time\"]].describe()\n"
   ]
  },
  {
   "cell_type": "markdown",
   "id": "603e65ff",
   "metadata": {},
   "source": [
    "La variable **lead_time** muestra un promedio de 100 dias, valor que se encuentra a la derecha de la mediana lo que muestra una distribución asimetrica a la derecha lo que quiere decir que hay valores altos jalando la media pero el 75% de datos se encuentran en valores por debajo de 157 dias.\n",
    "\n",
    "Para enriquecer el dataframe y permitir analisis entre variables cualitativas vamos a calcular una variable categorica a partir de lead_time. Esto lo podemos realizar a partir de premisas del negocio o apartir de comportamiento estadistico.\n",
    "\n",
    "Queremos determinar 4 grupos\n",
    "* Reserva de ultimo minuto (0 a 7 dias)\n",
    "* Reserva de corto plazo ( 8 a 30 dias )\n",
    "* Reserva de mediano plazo (31 a 90 dias)\n",
    "* Reserva de largo plazo ( mas de 90 dias ) \n",
    "\n"
   ]
  },
  {
   "cell_type": "code",
   "execution_count": 25,
   "id": "68488d14",
   "metadata": {},
   "outputs": [
    {
     "name": "stdout",
     "output_type": "stream",
     "text": [
      "Se ha creado la columna 'tipo_reserva' basada en 'lead_time'.\n",
      "['Ultimo Minuto', 'Corto Plazo', 'Mediano Plazo', 'Largo Plazo']\n",
      "Categories (4, object): ['Ultimo Minuto' < 'Corto Plazo' < 'Mediano Plazo' < 'Largo Plazo']\n"
     ]
    }
   ],
   "source": [
    "# Definimos los intervalos (bins) y las etiquetas\n",
    "bins = [0, 7, 30, 90, float(\"inf\")]\n",
    "labels = [\"Ultimo Minuto\", \"Corto Plazo\", \"Mediano Plazo\", \"Largo Plazo\"]\n",
    "\n",
    "# Creamos la nueva columna categórica\n",
    "df[\"tipo_reserva\"] = pd.cut(df[\"lead_time\"], bins=bins, labels=labels, include_lowest=True)\n",
    "\n",
    "print(\"Se ha creado la columna 'tipo_reserva' basada en 'lead_time'.\")\n",
    "print(df['tipo_reserva'].unique())"
   ]
  },
  {
   "cell_type": "markdown",
   "id": "2d6e9124",
   "metadata": {},
   "source": [
    "## Etapa 3 y Etapa 4: Planteamiento de preguntas y Analisis Exploratorio\n",
    "\n",
    "En estas etapas buscamos direccionar el entendimiento del negocio a partir de la resolución de preguntas mediante analisis univariado y bivariado sobre las variables priorizadas:\n",
    "\n",
    "- **hotel**: indica si el hotel es rural o urbano\n",
    "- **is_canceled**: indica si la reserva fue cancelada\n",
    "- **lead_time**: cuántos días han pasado entre que se crea la reserva y la fecha de llegada\n",
    "- **adr**: tarifa promedio por día\n",
    "- **arrival_date_month**: mes de llegada\n",
    "\n",
    "Algunas de las preguntas son:\n",
    "\n",
    "* Se evidencia preferencia sobre los hoteles tipo Resort o City?\n",
    "* Existe algun comportamiento de mayor llegada de huespedes en verano?\n",
    "* Las personas reservan con mucho tiempo de anterioridad?\n",
    "* Los viajes son de negocios y por eso son en la ciudad? o los viajes son de ocio y por eso son en verano y en hoteles Resort?"
   ]
  },
  {
   "cell_type": "markdown",
   "id": "46cca8c2",
   "metadata": {},
   "source": [
    "### Variable: Hotel"
   ]
  },
  {
   "cell_type": "code",
   "execution_count": 167,
   "id": "80c19c1c",
   "metadata": {},
   "outputs": [
    {
     "data": {
      "text/plain": [
       "hotel\n",
       "Resort Hotel    0.678483\n",
       "City Hotel      0.321517\n",
       "Name: proportion, dtype: float64"
      ]
     },
     "execution_count": 167,
     "metadata": {},
     "output_type": "execute_result"
    }
   ],
   "source": [
    "df['hotel'].value_counts(normalize=True)\n",
    "# El 67 por ciento de las reservas son para hotel tipo resort"
   ]
  },
  {
   "cell_type": "code",
   "execution_count": 168,
   "id": "b69ddd3c",
   "metadata": {},
   "outputs": [
    {
     "data": {
      "text/plain": [
       "<Axes: ylabel='proportion'>"
      ]
     },
     "execution_count": 168,
     "metadata": {},
     "output_type": "execute_result"
    },
    {
     "data": {
      "image/png": "[encoded data removed]",
      "text/plain": [
       "<Figure size 640x480 with 1 Axes>"
      ]
     },
     "metadata": {},
     "output_type": "display_data"
    }
   ],
   "source": [
    "df['hotel'].value_counts(normalize=True).plot.pie(autopct='%1.1f%%')"
   ]
  },
  {
   "cell_type": "markdown",
   "id": "13723af8",
   "metadata": {},
   "source": [
    "La distribución de reservas en los dos tipos de hotel nos muestra que en su mayoria se trata de reservas sobre Hoteles de tipo Resort, lo que da paso a preguntarnos si las reservas son mas de tipo vacacional que de trabajo y por ende puedan estar concentradas en temporadas del año como verano.  "
   ]
  },
  {
   "cell_type": "markdown",
   "id": "9479e09f",
   "metadata": {},
   "source": [
    "### Variable is_canceled"
   ]
  },
  {
   "cell_type": "code",
   "execution_count": 169,
   "id": "f9f02b90",
   "metadata": {},
   "outputs": [
    {
     "data": {
      "text/plain": [
       "is_canceled\n",
       "False    0.584042\n",
       "True     0.415958\n",
       "Name: proportion, dtype: float64"
      ]
     },
     "execution_count": 169,
     "metadata": {},
     "output_type": "execute_result"
    }
   ],
   "source": [
    "# calculo de frecuencia absoluta para la variable cancelaciones\n",
    "df['is_canceled'].value_counts(normalize=True)  # Para categóricas\n"
   ]
  },
  {
   "cell_type": "markdown",
   "id": "720066ac",
   "metadata": {},
   "source": [
    "Aqui podemos evideniar un universo de datos mas o menos balanceado en donde contamos con al menos 41 % de los datos sobre cancelaciones, de esta manera si podemos realizar analisis para buscar las razones y como contener cancelaciones. Si la proporción fuera baja, tendriamos que descartar la evaluación de cancelaciones por falta de datos, pero no es el caso."
   ]
  },
  {
   "cell_type": "markdown",
   "id": "02a26f05",
   "metadata": {},
   "source": [
    "### Variable derivada tipo_reserva"
   ]
  },
  {
   "cell_type": "code",
   "execution_count": 26,
   "id": "5a1c372e",
   "metadata": {},
   "outputs": [
    {
     "data": {
      "image/png": "[encoded data removed]",
      "text/plain": [
       "<Figure size 1000x500 with 1 Axes>"
      ]
     },
     "metadata": {},
     "output_type": "display_data"
    }
   ],
   "source": [
    "# tipo de reserva según lead_time\n",
    "plt.figure(figsize=(10,5))\n",
    "sns.countplot(data=df, x='tipo_reserva', order=labels)\n",
    "plt.xticks(rotation=45)\n",
    "plt.title(\"Tipo de reserva según lead_time\")\n",
    "plt.show()"
   ]
  },
  {
   "cell_type": "markdown",
   "id": "258734cd",
   "metadata": {},
   "source": [
    "Se puede evidenciar un comportamiento predominante en las reservas de largo plazo, las cuales corresponden a reservas realizadas con mas de 90 días de anticipación."
   ]
  },
  {
   "cell_type": "markdown",
   "id": "a906ae75",
   "metadata": {},
   "source": [
    "### Variable arival_date_month"
   ]
  },
  {
   "cell_type": "code",
   "execution_count": 20,
   "id": "3f54026f",
   "metadata": {},
   "outputs": [
    {
     "data": {
      "image/png": "[encoded data removed]",
      "text/plain": [
       "<Figure size 1000x500 with 1 Axes>"
      ]
     },
     "metadata": {},
     "output_type": "display_data"
    }
   ],
   "source": [
    "# Ahora podemos graficar la variable arrival_date_month de forma ordenada\n",
    "plt.figure(figsize=(10,5))\n",
    "sns.countplot(data=df, x='arrival_date_month', order=df['arrival_date_month'].cat.categories)\n",
    "plt.xticks(rotation=45)\n",
    "plt.title(\"Número de reservas por mes\")\n",
    "plt.show()"
   ]
  },
  {
   "cell_type": "markdown",
   "id": "ae96126d",
   "metadata": {},
   "source": [
    "Podemos evidenciar que los meses con mayor numero de llegadas son los meses correspondientes a la temporada de verano, lo cual se alinea con la predominancia de hoteles de tipo resort, con ello podemos concluir que los usuarios de esta muestra tienen un comportamiento predominante de elegir al hotel para viajes de ocio"
   ]
  },
  {
   "cell_type": "markdown",
   "id": "f48e78d3",
   "metadata": {},
   "source": [
    "### Variable derivada estacion_anio"
   ]
  },
  {
   "cell_type": "code",
   "execution_count": 28,
   "id": "6a1316f4",
   "metadata": {},
   "outputs": [
    {
     "data": {
      "image/png": "[encoded data removed]",
      "text/plain": [
       "<Figure size 1000x500 with 1 Axes>"
      ]
     },
     "metadata": {},
     "output_type": "display_data"
    }
   ],
   "source": [
    "plt.figure(figsize=(10,5))\n",
    "sns.countplot(data=df, x='estacion_anio', order=[\"Invierno\", \"Primavera\", \"Verano\", \"Otoño\"])\n",
    "plt.xticks(rotation=45)\n",
    "plt.title(\"Número de reservas por temporada\")\n",
    "plt.show()"
   ]
  },
  {
   "cell_type": "markdown",
   "id": "ad34fcb7",
   "metadata": {},
   "source": [
    "Nuevamente evidenciamos la predominancia de las reservas en verano y primavera, mientras que temporadas como otoño e invierno tienen un nivel de reserva inferior "
   ]
  },
  {
   "cell_type": "markdown",
   "id": "8803a7b7",
   "metadata": {},
   "source": [
    "### Variable lead_time"
   ]
  },
  {
   "cell_type": "code",
   "execution_count": 33,
   "id": "231a722c",
   "metadata": {},
   "outputs": [
    {
     "data": {
      "text/plain": [
       "count    57941.000000\n",
       "mean       100.858218\n",
       "std        101.174362\n",
       "min          0.000000\n",
       "25%         17.000000\n",
       "50%         70.000000\n",
       "75%        158.000000\n",
       "90%        252.000000\n",
       "95%        309.000000\n",
       "99%        412.000000\n",
       "max        709.000000\n",
       "Name: lead_time, dtype: float64"
      ]
     },
     "execution_count": 33,
     "metadata": {},
     "output_type": "execute_result"
    }
   ],
   "source": [
    "df[\"lead_time\"].describe(percentiles=[0.25,0.50,0.75,0.90, 0.95, 0.99])  # Para numéricas"
   ]
  },
  {
   "cell_type": "markdown",
   "id": "cb1e9a74",
   "metadata": {},
   "source": [
    "La variable **lead_time** muestra un promedio de 100 dias, valor que se encuentra a la derecha de la mediana lo que muestra una distribución asimetrica a la derecha lo que quiere decir que hay valores altos jalando la media pero el 95% de datos se encuentran en valores por debajo de 309 dias, es decir reservas con menos de un año de anticipación."
   ]
  },
  {
   "cell_type": "code",
   "execution_count": 30,
   "id": "213cca2a",
   "metadata": {},
   "outputs": [
    {
     "data": {
      "text/plain": [
       "0    0\n",
       "Name: lead_time, dtype: int64"
      ]
     },
     "execution_count": 30,
     "metadata": {},
     "output_type": "execute_result"
    }
   ],
   "source": [
    "df[\"lead_time\"].mode()  "
   ]
  },
  {
   "cell_type": "code",
   "execution_count": 174,
   "id": "bf4f9410",
   "metadata": {},
   "outputs": [
    {
     "data": {
      "text/plain": [
       "Text(0.5, 1.0, 'Distribución de lead_time')"
      ]
     },
     "execution_count": 174,
     "metadata": {},
     "output_type": "execute_result"
    },
    {
     "data": {
      "image/png": "[encoded data removed]",
      "text/plain": [
       "<Figure size 1000x500 with 1 Axes>"
      ]
     },
     "metadata": {},
     "output_type": "display_data"
    }
   ],
   "source": [
    "# Para determinar los mejores intervalos para lead_time, se puede usar un histograma\n",
    "plt.figure(figsize=(10,5))\n",
    "sns.histplot(data=df, x='lead_time', bins=30, kde=True)\n",
    "plt.title(\"Distribución de lead_time\")\n",
    "\n",
    "\n"
   ]
  },
  {
   "cell_type": "markdown",
   "id": "b21dbacf",
   "metadata": {},
   "source": [
    "Podemos ver que a pesar de en el diagrama de barras realizado previamente en donde se veian las reservas de largo plazo predominando sobre las demas, aqui evidenciamos que el valor que mas se repite para lead_time es el 0 lo que evidencia que es comun que las personas acceden al hotel el dia que lo visitan."
   ]
  },
  {
   "cell_type": "markdown",
   "id": "143d01f7",
   "metadata": {},
   "source": [
    "El histograma nos permite evidenciar que el comportamiento que predomina es el de los clientes que reservan con poca anticipacion, sin embargo hay un 50% de reservas que evidencian un comportamiento de  planeacion de mediano y largo plazo, es decir mayor 70 dias de antelacion."
   ]
  },
  {
   "cell_type": "code",
   "execution_count": null,
   "id": "1bd4acfb",
   "metadata": {},
   "outputs": [
    {
     "data": {
      "image/png": "[encoded data removed]",
      "text/plain": [
       "<Figure size 700x700 with 1 Axes>"
      ]
     },
     "metadata": {},
     "output_type": "display_data"
    }
   ],
   "source": [
    "# boxPlot lead_time\n",
    "plt.figure(figsize=(7, 7))\n",
    "sns.boxplot(\n",
    "    data=df,\n",
    "    y='lead_time',\n",
    "    showmeans=True\n",
    ")\n",
    "plt.show()"
   ]
  },
  {
   "cell_type": "markdown",
   "id": "9a64e9db",
   "metadata": {},
   "source": [
    "Al realizar el box plot evidenciamos que se presentan como atipicos los datos de las reservas realizadas con mayor anticipacion sin embargo estos datos pueden estar mostrando la realidad del negocio dado que existe un numero de reservas alto para la temporada de verano podemos asumir que las reservas son de tipo vacacional y pueden realizarse con un tiempo considerable de anticipación."
   ]
  },
  {
   "cell_type": "markdown",
   "id": "a2a8431e",
   "metadata": {},
   "source": [
    "### Variable adr"
   ]
  },
  {
   "cell_type": "code",
   "execution_count": 177,
   "id": "5ddcb58b",
   "metadata": {},
   "outputs": [
    {
     "data": {
      "text/plain": [
       "count    57940.000000\n",
       "mean        97.835440\n",
       "std         57.707195\n",
       "min          0.260000\n",
       "50%         85.000000\n",
       "90%        172.000000\n",
       "95%        208.432500\n",
       "99%        269.000000\n",
       "max       5400.000000\n",
       "Name: adr, dtype: float64"
      ]
     },
     "execution_count": 177,
     "metadata": {},
     "output_type": "execute_result"
    }
   ],
   "source": [
    "#Estadisticas adr\n",
    "df['adr'].describe(percentiles=[0.90, 0.95, 0.99])\n"
   ]
  },
  {
   "cell_type": "markdown",
   "id": "1dd4e013",
   "metadata": {},
   "source": [
    "Como evidenciamos en etapas previas, la variable adr tiene una media cercana a su mediana lo cual parece que presenta un comportamiento normal, sin embargo existe un atipico de 5400 unidaes monetarias que de incluirlo en los analisis posteriores nos haria perder detalle dado que la variable tiene su 99% con valores menores a 269."
   ]
  },
  {
   "cell_type": "code",
   "execution_count": 35,
   "id": "b323ca55",
   "metadata": {},
   "outputs": [
    {
     "name": "stdout",
     "output_type": "stream",
     "text": [
      "Antes de quitar el valor atipico de 5400\n",
      "57941\n"
     ]
    },
    {
     "data": {
      "text/plain": [
       "(57939, 35)"
      ]
     },
     "execution_count": 35,
     "metadata": {},
     "output_type": "execute_result"
    }
   ],
   "source": [
    "print(\"Antes de quitar el valor atipico de 5400\")\n",
    "print(str(df.shape[0]))\n",
    "df = df[df['adr'] < 5400]  \n",
    "df.shape"
   ]
  },
  {
   "cell_type": "code",
   "execution_count": 36,
   "id": "625606e5",
   "metadata": {},
   "outputs": [
    {
     "data": {
      "text/plain": [
       "count    57939.000000\n",
       "mean        97.743927\n",
       "std         53.338024\n",
       "min          0.260000\n",
       "50%         85.000000\n",
       "90%        172.000000\n",
       "95%        208.412000\n",
       "99%        269.000000\n",
       "max        508.000000\n",
       "Name: adr, dtype: float64"
      ]
     },
     "execution_count": 36,
     "metadata": {},
     "output_type": "execute_result"
    }
   ],
   "source": [
    "df['adr'].describe(percentiles=[0.90, 0.95, 0.99])\n"
   ]
  },
  {
   "cell_type": "code",
   "execution_count": 37,
   "id": "f5c76ccb",
   "metadata": {},
   "outputs": [
    {
     "data": {
      "image/png": "[encoded data removed]",
      "text/plain": [
       "<Figure size 1000x600 with 1 Axes>"
      ]
     },
     "metadata": {},
     "output_type": "display_data"
    }
   ],
   "source": [
    "import matplotlib.pyplot as plt\n",
    "\n",
    "# Filtrar los datos\n",
    "city_adr = df.loc[(df['hotel'] == 'City Hotel'), 'adr']\n",
    "resort_adr = df.loc[(df['hotel'] == 'Resort Hotel') , 'adr']\n",
    "\n",
    "# Crear el histograma solapado\n",
    "plt.figure(figsize=(10,6))\n",
    "plt.hist(city_adr, bins=20, alpha=0.6, label='City Hotel', color='coral', edgecolor='black')\n",
    "plt.hist(resort_adr, bins=20, alpha=0.6, label='Resort Hotel', color='steelblue', edgecolor='black')\n",
    "\n",
    "# Personalizar el gráfico\n",
    "plt.title('Distribución de ADR - Para City Hotel y Resort Hotel')\n",
    "plt.xlabel('ADR')\n",
    "plt.ylabel('Frecuencia')\n",
    "plt.legend()\n",
    "plt.grid(False)\n",
    "plt.tight_layout()\n",
    "plt.show()\n",
    "## hacer esta misma grafica pero con cancelado y no cancelado"
   ]
  },
  {
   "cell_type": "markdown",
   "id": "400b6f63",
   "metadata": {},
   "source": [
    "Con el histograma anterior podemos evidenciar que los precios promedio por noche comparten el intervalo para los dos tipos de hotel con una media de 97.7 mas o menos 53.33.\n",
    "De nuevo volvemos a notar que predominan las reservaciones asociadas a hoteles tipo Resort"
   ]
  },
  {
   "cell_type": "markdown",
   "id": "57c85b9a",
   "metadata": {},
   "source": [
    "### Analisis bivariado"
   ]
  },
  {
   "cell_type": "markdown",
   "id": "b242494e",
   "metadata": {},
   "source": [
    "* Proporción de cancelaciones por tipo de hotel"
   ]
  },
  {
   "cell_type": "code",
   "execution_count": 170,
   "id": "65df3a64",
   "metadata": {},
   "outputs": [
    {
     "data": {
      "text/html": [
       "<div>\n",
       "<style scoped>\n",
       "    .dataframe tbody tr th:only-of-type {\n",
       "        vertical-align: middle;\n",
       "    }\n",
       "\n",
       "    .dataframe tbody tr th {\n",
       "        vertical-align: top;\n",
       "    }\n",
       "\n",
       "    .dataframe thead th {\n",
       "        text-align: right;\n",
       "    }\n",
       "</style>\n",
       "<table border=\"1\" class=\"dataframe\">\n",
       "  <thead>\n",
       "    <tr style=\"text-align: right;\">\n",
       "      <th>is_canceled</th>\n",
       "      <th>False</th>\n",
       "      <th>True</th>\n",
       "    </tr>\n",
       "    <tr>\n",
       "      <th>hotel</th>\n",
       "      <th></th>\n",
       "      <th></th>\n",
       "    </tr>\n",
       "  </thead>\n",
       "  <tbody>\n",
       "    <tr>\n",
       "      <th>City Hotel</th>\n",
       "      <td>0.298889</td>\n",
       "      <td>0.701111</td>\n",
       "    </tr>\n",
       "    <tr>\n",
       "      <th>Resort Hotel</th>\n",
       "      <td>0.719170</td>\n",
       "      <td>0.280830</td>\n",
       "    </tr>\n",
       "  </tbody>\n",
       "</table>\n",
       "</div>"
      ],
      "text/plain": [
       "is_canceled      False     True \n",
       "hotel                           \n",
       "City Hotel    0.298889  0.701111\n",
       "Resort Hotel  0.719170  0.280830"
      ]
     },
     "execution_count": 170,
     "metadata": {},
     "output_type": "execute_result"
    }
   ],
   "source": [
    "# Proporcion de cancelaciones por tipo de hotel \n",
    "pd.crosstab(df['hotel'], df['is_canceled'],normalize='index')"
   ]
  },
  {
   "cell_type": "code",
   "execution_count": 39,
   "id": "59875641",
   "metadata": {},
   "outputs": [
    {
     "data": {
      "image/png": "[encoded data removed]",
      "text/plain": [
       "<Figure size 800x500 with 1 Axes>"
      ]
     },
     "metadata": {},
     "output_type": "display_data"
    }
   ],
   "source": [
    "\n",
    "ct = pd.crosstab(df['hotel'], df['is_canceled'], normalize='index')\n",
    "\n",
    "ct.plot(kind='bar', stacked=True, figsize=(8,5), color=['skyblue', 'salmon'])\n",
    "plt.ylabel(\"Proporción\")\n",
    "plt.xlabel(\"Tipo de hotel\")\n",
    "plt.legend([\"No cancelada\", \"Cancelada\"], loc=\"upper right\")\n",
    "plt.title(\"Cancelaciones por tipo de hotel\")\n",
    "plt.show()\n"
   ]
  },
  {
   "cell_type": "code",
   "execution_count": 45,
   "id": "bcd9b239",
   "metadata": {},
   "outputs": [
    {
     "data": {
      "text/html": [
       "<div>\n",
       "<style scoped>\n",
       "    .dataframe tbody tr th:only-of-type {\n",
       "        vertical-align: middle;\n",
       "    }\n",
       "\n",
       "    .dataframe tbody tr th {\n",
       "        vertical-align: top;\n",
       "    }\n",
       "\n",
       "    .dataframe thead th {\n",
       "        text-align: right;\n",
       "    }\n",
       "</style>\n",
       "<table border=\"1\" class=\"dataframe\">\n",
       "  <thead>\n",
       "    <tr style=\"text-align: right;\">\n",
       "      <th>is_canceled</th>\n",
       "      <th>False</th>\n",
       "      <th>True</th>\n",
       "    </tr>\n",
       "    <tr>\n",
       "      <th>estacion_anio</th>\n",
       "      <th></th>\n",
       "      <th></th>\n",
       "    </tr>\n",
       "  </thead>\n",
       "  <tbody>\n",
       "    <tr>\n",
       "      <th>Invierno</th>\n",
       "      <td>21.48</td>\n",
       "      <td>14.97</td>\n",
       "    </tr>\n",
       "    <tr>\n",
       "      <th>Otoño</th>\n",
       "      <td>22.92</td>\n",
       "      <td>16.54</td>\n",
       "    </tr>\n",
       "    <tr>\n",
       "      <th>Primavera</th>\n",
       "      <td>22.51</td>\n",
       "      <td>30.66</td>\n",
       "    </tr>\n",
       "    <tr>\n",
       "      <th>Verano</th>\n",
       "      <td>33.08</td>\n",
       "      <td>37.84</td>\n",
       "    </tr>\n",
       "  </tbody>\n",
       "</table>\n",
       "</div>"
      ],
      "text/plain": [
       "is_canceled    False  True \n",
       "estacion_anio              \n",
       "Invierno       21.48  14.97\n",
       "Otoño          22.92  16.54\n",
       "Primavera      22.51  30.66\n",
       "Verano         33.08  37.84"
      ]
     },
     "execution_count": 45,
     "metadata": {},
     "output_type": "execute_result"
    }
   ],
   "source": [
    "# Porcentaje de cancelaciones por estacion del año\n",
    "(pd.crosstab(df[\"estacion_anio\"], df[\"is_canceled\"], normalize='columns') * 100).round(2)"
   ]
  },
  {
   "cell_type": "code",
   "execution_count": 44,
   "id": "c4e1e51b",
   "metadata": {},
   "outputs": [
    {
     "data": {
      "text/html": [
       "<div>\n",
       "<style scoped>\n",
       "    .dataframe tbody tr th:only-of-type {\n",
       "        vertical-align: middle;\n",
       "    }\n",
       "\n",
       "    .dataframe tbody tr th {\n",
       "        vertical-align: top;\n",
       "    }\n",
       "\n",
       "    .dataframe thead th {\n",
       "        text-align: right;\n",
       "    }\n",
       "</style>\n",
       "<table border=\"1\" class=\"dataframe\">\n",
       "  <thead>\n",
       "    <tr style=\"text-align: right;\">\n",
       "      <th>is_canceled</th>\n",
       "      <th>False</th>\n",
       "      <th>True</th>\n",
       "    </tr>\n",
       "    <tr>\n",
       "      <th>tipo_reserva</th>\n",
       "      <th></th>\n",
       "      <th></th>\n",
       "    </tr>\n",
       "  </thead>\n",
       "  <tbody>\n",
       "    <tr>\n",
       "      <th>Ultimo Minuto</th>\n",
       "      <td>26.33</td>\n",
       "      <td>5.17</td>\n",
       "    </tr>\n",
       "    <tr>\n",
       "      <th>Corto Plazo</th>\n",
       "      <td>16.76</td>\n",
       "      <td>12.55</td>\n",
       "    </tr>\n",
       "    <tr>\n",
       "      <th>Mediano Plazo</th>\n",
       "      <td>23.11</td>\n",
       "      <td>27.50</td>\n",
       "    </tr>\n",
       "    <tr>\n",
       "      <th>Largo Plazo</th>\n",
       "      <td>33.80</td>\n",
       "      <td>54.77</td>\n",
       "    </tr>\n",
       "  </tbody>\n",
       "</table>\n",
       "</div>"
      ],
      "text/plain": [
       "is_canceled    False  True \n",
       "tipo_reserva               \n",
       "Ultimo Minuto  26.33   5.17\n",
       "Corto Plazo    16.76  12.55\n",
       "Mediano Plazo  23.11  27.50\n",
       "Largo Plazo    33.80  54.77"
      ]
     },
     "execution_count": 44,
     "metadata": {},
     "output_type": "execute_result"
    }
   ],
   "source": [
    "# Porcentaje de cancelaciones por tipo de reserva\n",
    "(pd.crosstab(df[\"tipo_reserva\"], df[\"is_canceled\"], normalize='columns') * 100).round(2)"
   ]
  },
  {
   "cell_type": "markdown",
   "id": "ba723846",
   "metadata": {},
   "source": [
    "Al revisar el comportamiento de la variable cancelación versus el tipo de hotel podemos identificar que existe mayor porcentaje de cancelaciones en los hoteles de ciudad.   <span style=\"color:red\"> *Ademas La mayoría de cancelaciones están concentradas en reservas planeadas para llegar en verano que fueron hechas a largo plazo. *</span>\n",
    " \n"
   ]
  },
  {
   "cell_type": "markdown",
   "id": "0c71c12d",
   "metadata": {},
   "source": [
    "* Las cancelaciones estan relacionadas con el precio por noche?"
   ]
  },
  {
   "cell_type": "code",
   "execution_count": 101,
   "id": "a3609a6b",
   "metadata": {},
   "outputs": [
    {
     "data": {
      "text/plain": [
       "<Axes: xlabel='is_canceled', ylabel='adr'>"
      ]
     },
     "execution_count": 101,
     "metadata": {},
     "output_type": "execute_result"
    },
    {
     "data": {
      "image/png": "[encoded data removed]",
      "text/plain": [
       "<Figure size 640x480 with 1 Axes>"
      ]
     },
     "metadata": {},
     "output_type": "display_data"
    }
   ],
   "source": [
    "sns.boxplot(x='is_canceled', y='adr', data=df.loc[df['adr'] < 500])"
   ]
  },
  {
   "cell_type": "code",
   "execution_count": 100,
   "id": "15ff0ba5",
   "metadata": {},
   "outputs": [
    {
     "data": {
      "text/plain": [
       "count    24099.000000\n",
       "mean       105.456479\n",
       "std         50.799219\n",
       "min          0.500000\n",
       "25%         68.000000\n",
       "50%         96.000000\n",
       "75%        130.000000\n",
       "max        450.000000\n",
       "Name: adr, dtype: float64"
      ]
     },
     "execution_count": 100,
     "metadata": {},
     "output_type": "execute_result"
    }
   ],
   "source": [
    "df.loc[df[\"is_canceled\"] == True, \"adr\"].describe()"
   ]
  },
  {
   "cell_type": "markdown",
   "id": "8180b3a3",
   "metadata": {},
   "source": [
    "Podemos evidenciar que las cancelaciones se dan en su mayoria dentro de un rango de precios de 0 a 130 unidades monetarias. Podemos intuir que las cancelaciones no tienen relación con el precio promedio por noche dado que su distribución comparte el rango de precios e incluso incluye atipicos para ambos casos, evidenciando que hubo cancelaciones en precios altos como también reservas efectivas asociadas a precios altos."
   ]
  },
  {
   "cell_type": "markdown",
   "id": "e96aa369",
   "metadata": {},
   "source": [
    "* Comportamiento de la variable adr por tipo de hotel"
   ]
  },
  {
   "cell_type": "code",
   "execution_count": 103,
   "id": "ab25f3e1",
   "metadata": {},
   "outputs": [
    {
     "data": {
      "text/plain": [
       "<Axes: xlabel='hotel', ylabel='adr'>"
      ]
     },
     "execution_count": 103,
     "metadata": {},
     "output_type": "execute_result"
    },
    {
     "data": {
      "image/png": "[encoded data removed]",
      "text/plain": [
       "<Figure size 640x480 with 1 Axes>"
      ]
     },
     "metadata": {},
     "output_type": "display_data"
    }
   ],
   "source": [
    "sns.boxplot(x='hotel', y='adr', data=df.loc[df['adr'] < 500])"
   ]
  },
  {
   "cell_type": "code",
   "execution_count": 110,
   "id": "0e66e41a",
   "metadata": {},
   "outputs": [
    {
     "data": {
      "text/plain": [
       "count    18627.000000\n",
       "mean        99.810555\n",
       "std         33.080064\n",
       "min          0.500000\n",
       "1%          51.970000\n",
       "25%         75.000000\n",
       "50%         95.030000\n",
       "75%        119.000000\n",
       "90%        140.400000\n",
       "95%        161.330000\n",
       "99%        201.859000\n",
       "max        306.000000\n",
       "Name: adr, dtype: float64"
      ]
     },
     "execution_count": 110,
     "metadata": {},
     "output_type": "execute_result"
    }
   ],
   "source": [
    "df.loc[df['hotel'] =='City Hotel', 'adr'].describe(percentiles=[0.01,0.25,0.50,0.75,0.90, 0.95, 0.99])"
   ]
  },
  {
   "cell_type": "code",
   "execution_count": 112,
   "id": "c65170b6",
   "metadata": {},
   "outputs": [
    {
     "data": {
      "text/plain": [
       "(189, 39)"
      ]
     },
     "execution_count": 112,
     "metadata": {},
     "output_type": "execute_result"
    }
   ],
   "source": [
    "df.loc[(df['hotel'] =='City Hotel') & (df['adr'] <= 52)].shape"
   ]
  },
  {
   "cell_type": "markdown",
   "id": "b751460a",
   "metadata": {},
   "source": [
    "Se pueden evidenciar atipicos dentro del adr del hotel tipo ciudad. Los valores menores a 52 unidades monetarias corresponden a un 1% de la muestra."
   ]
  },
  {
   "cell_type": "markdown",
   "id": "2d352a0a",
   "metadata": {},
   "source": [
    "\n",
    "* Existe relación entre el precio promedio por noche y la temporada del año? "
   ]
  },
  {
   "cell_type": "code",
   "execution_count": 50,
   "id": "7ca42e95",
   "metadata": {},
   "outputs": [
    {
     "data": {
      "image/png": "[encoded data removed]",
      "text/plain": [
       "<Figure size 1000x600 with 2 Axes>"
      ]
     },
     "metadata": {},
     "output_type": "display_data"
    }
   ],
   "source": [
    "\n",
    "# Crear tabla dinámica: promedio de ADR por hotel y estación\n",
    "tabla = df.pivot_table(\n",
    "    index='hotel',\n",
    "    columns='estacion_anio',\n",
    "    values='adr',\n",
    "    aggfunc='mean'  # Puedes usar 'sum', 'count', etc.\n",
    ")\n",
    "\n",
    "# Graficar el mapa de calor\n",
    "plt.figure(figsize=(10, 6))\n",
    "sns.heatmap(tabla, annot=True, fmt=\".1f\", cmap=\"RdYlGn_r\")\n",
    "plt.title(\"Mapa de calor: ADR por hotel y estación del año\")\n",
    "plt.show()"
   ]
  },
  {
   "cell_type": "markdown",
   "id": "34b80bb1",
   "metadata": {},
   "source": [
    "Podemos evidenciar que existe mayor valor para hoteles tipo resort en verano como era de esperarse. El grafico anterior también nos permite ver cómo la brecha de precios entre los diferentes tipos de hotel por temporada del año es mas grande en verano y menor en primavera."
   ]
  },
  {
   "cell_type": "markdown",
   "id": "09e2d2f8",
   "metadata": {},
   "source": [
    "  <span style=\"color:red\">Teniendo en cuenta lo anterior vamos a revisar si existe un comportamiento que permita relacionar la brecha entre los precios promedio de hotel tipo resort por temporada del año vs hotel de ciudad con la cancelación.</span>"
   ]
  },
  {
   "cell_type": "code",
   "execution_count": null,
   "id": "3c1aa358",
   "metadata": {},
   "outputs": [],
   "source": [
    "#df = df.drop(columns=['resort_mean_adr',''], errors='ignore')\n"
   ]
  },
  {
   "cell_type": "code",
   "execution_count": 76,
   "id": "01d1ffc6",
   "metadata": {},
   "outputs": [],
   "source": [
    "resort_means = (\n",
    "    df[df['hotel'] == 'Resort Hotel']\n",
    "    .groupby('estacion_anio')['adr']\n",
    "    .mean()\n",
    "    .reset_index()\n",
    "    .rename(columns={'adr': 'resort_mean_adr'})\n",
    ")\n",
    "\n",
    "df = df.merge(resort_means, on='estacion_anio', how='left')\n",
    "df['price_gap_vs_resort'] =   df['adr'] - df['resort_mean_adr']\n"
   ]
  },
  {
   "cell_type": "code",
   "execution_count": 77,
   "id": "bdbda188",
   "metadata": {},
   "outputs": [
    {
     "data": {
      "text/html": [
       "<div>\n",
       "<style scoped>\n",
       "    .dataframe tbody tr th:only-of-type {\n",
       "        vertical-align: middle;\n",
       "    }\n",
       "\n",
       "    .dataframe tbody tr th {\n",
       "        vertical-align: top;\n",
       "    }\n",
       "\n",
       "    .dataframe thead th {\n",
       "        text-align: right;\n",
       "    }\n",
       "</style>\n",
       "<table border=\"1\" class=\"dataframe\">\n",
       "  <thead>\n",
       "    <tr style=\"text-align: right;\">\n",
       "      <th></th>\n",
       "      <th>is_canceled</th>\n",
       "      <th>hotel</th>\n",
       "      <th>estacion_anio</th>\n",
       "      <th>adr</th>\n",
       "      <th>resort_mean_adr</th>\n",
       "      <th>price_gap_vs_resort</th>\n",
       "    </tr>\n",
       "  </thead>\n",
       "  <tbody>\n",
       "    <tr>\n",
       "      <th>9565</th>\n",
       "      <td>True</td>\n",
       "      <td>Resort Hotel</td>\n",
       "      <td>Otoño</td>\n",
       "      <td>384.0</td>\n",
       "      <td>62.104516</td>\n",
       "      <td>321.895484</td>\n",
       "    </tr>\n",
       "    <tr>\n",
       "      <th>9604</th>\n",
       "      <td>True</td>\n",
       "      <td>Resort Hotel</td>\n",
       "      <td>Otoño</td>\n",
       "      <td>382.0</td>\n",
       "      <td>62.104516</td>\n",
       "      <td>319.895484</td>\n",
       "    </tr>\n",
       "    <tr>\n",
       "      <th>12956</th>\n",
       "      <td>True</td>\n",
       "      <td>Resort Hotel</td>\n",
       "      <td>Verano</td>\n",
       "      <td>450.0</td>\n",
       "      <td>153.952088</td>\n",
       "      <td>296.047912</td>\n",
       "    </tr>\n",
       "    <tr>\n",
       "      <th>13205</th>\n",
       "      <td>True</td>\n",
       "      <td>Resort Hotel</td>\n",
       "      <td>Verano</td>\n",
       "      <td>437.0</td>\n",
       "      <td>153.952088</td>\n",
       "      <td>283.047912</td>\n",
       "    </tr>\n",
       "    <tr>\n",
       "      <th>9564</th>\n",
       "      <td>True</td>\n",
       "      <td>Resort Hotel</td>\n",
       "      <td>Otoño</td>\n",
       "      <td>340.0</td>\n",
       "      <td>62.104516</td>\n",
       "      <td>277.895484</td>\n",
       "    </tr>\n",
       "    <tr>\n",
       "      <th>...</th>\n",
       "      <td>...</td>\n",
       "      <td>...</td>\n",
       "      <td>...</td>\n",
       "      <td>...</td>\n",
       "      <td>...</td>\n",
       "      <td>...</td>\n",
       "    </tr>\n",
       "    <tr>\n",
       "      <th>41622</th>\n",
       "      <td>True</td>\n",
       "      <td>City Hotel</td>\n",
       "      <td>Verano</td>\n",
       "      <td>6.0</td>\n",
       "      <td>153.952088</td>\n",
       "      <td>-147.952088</td>\n",
       "    </tr>\n",
       "    <tr>\n",
       "      <th>41643</th>\n",
       "      <td>True</td>\n",
       "      <td>City Hotel</td>\n",
       "      <td>Verano</td>\n",
       "      <td>6.0</td>\n",
       "      <td>153.952088</td>\n",
       "      <td>-147.952088</td>\n",
       "    </tr>\n",
       "    <tr>\n",
       "      <th>41651</th>\n",
       "      <td>True</td>\n",
       "      <td>City Hotel</td>\n",
       "      <td>Verano</td>\n",
       "      <td>6.0</td>\n",
       "      <td>153.952088</td>\n",
       "      <td>-147.952088</td>\n",
       "    </tr>\n",
       "    <tr>\n",
       "      <th>56478</th>\n",
       "      <td>True</td>\n",
       "      <td>City Hotel</td>\n",
       "      <td>Verano</td>\n",
       "      <td>2.0</td>\n",
       "      <td>153.952088</td>\n",
       "      <td>-151.952088</td>\n",
       "    </tr>\n",
       "    <tr>\n",
       "      <th>56558</th>\n",
       "      <td>True</td>\n",
       "      <td>City Hotel</td>\n",
       "      <td>Verano</td>\n",
       "      <td>2.0</td>\n",
       "      <td>153.952088</td>\n",
       "      <td>-151.952088</td>\n",
       "    </tr>\n",
       "  </tbody>\n",
       "</table>\n",
       "<p>24099 rows × 6 columns</p>\n",
       "</div>"
      ],
      "text/plain": [
       "       is_canceled         hotel estacion_anio    adr  resort_mean_adr  \\\n",
       "9565          True  Resort Hotel         Otoño  384.0        62.104516   \n",
       "9604          True  Resort Hotel         Otoño  382.0        62.104516   \n",
       "12956         True  Resort Hotel        Verano  450.0       153.952088   \n",
       "13205         True  Resort Hotel        Verano  437.0       153.952088   \n",
       "9564          True  Resort Hotel         Otoño  340.0        62.104516   \n",
       "...            ...           ...           ...    ...              ...   \n",
       "41622         True    City Hotel        Verano    6.0       153.952088   \n",
       "41643         True    City Hotel        Verano    6.0       153.952088   \n",
       "41651         True    City Hotel        Verano    6.0       153.952088   \n",
       "56478         True    City Hotel        Verano    2.0       153.952088   \n",
       "56558         True    City Hotel        Verano    2.0       153.952088   \n",
       "\n",
       "       price_gap_vs_resort  \n",
       "9565            321.895484  \n",
       "9604            319.895484  \n",
       "12956           296.047912  \n",
       "13205           283.047912  \n",
       "9564            277.895484  \n",
       "...                    ...  \n",
       "41622          -147.952088  \n",
       "41643          -147.952088  \n",
       "41651          -147.952088  \n",
       "56478          -151.952088  \n",
       "56558          -151.952088  \n",
       "\n",
       "[24099 rows x 6 columns]"
      ]
     },
     "execution_count": 77,
     "metadata": {},
     "output_type": "execute_result"
    }
   ],
   "source": [
    "df[[\"is_canceled\",\"hotel\",\"estacion_anio\",\"adr\",\"resort_mean_adr\",\"price_gap_vs_resort\"]].loc[df[\"is_canceled\"]==True].sort_values(by=\"price_gap_vs_resort\", ascending=False).sort_values(by=\"price_gap_vs_resort\", ascending=False)"
   ]
  },
  {
   "cell_type": "code",
   "execution_count": 116,
   "id": "70fb0fe3",
   "metadata": {},
   "outputs": [
    {
     "data": {
      "image/png": "[encoded data removed]",
      "text/plain": [
       "<Figure size 800x500 with 1 Axes>"
      ]
     },
     "metadata": {},
     "output_type": "display_data"
    }
   ],
   "source": [
    "plt.figure(figsize=(8,5))\n",
    "sns.boxplot(\n",
    "    data=df[(df['hotel'] == 'City Hotel') ],\n",
    "    x='is_canceled',\n",
    "    y='price_gap_vs_resort'\n",
    ")\n",
    "plt.title(\"Brecha de precio (Ciudad - Resort) vs Cancelación\")\n",
    "plt.ylabel(\"Brecha de precio\")\n",
    "plt.show()"
   ]
  },
  {
   "cell_type": "code",
   "execution_count": 115,
   "id": "44d6c798",
   "metadata": {},
   "outputs": [
    {
     "data": {
      "text/plain": [
       "count    21824.000000\n",
       "mean         4.970932\n",
       "std         48.501055\n",
       "min       -101.592088\n",
       "25%        -27.394776\n",
       "50%          6.611698\n",
       "75%         33.605224\n",
       "max        321.895484\n",
       "Name: price_gap_vs_resort, dtype: float64"
      ]
     },
     "execution_count": 115,
     "metadata": {},
     "output_type": "execute_result"
    }
   ],
   "source": [
    "df.loc[(df[\"is_canceled\"] == True) & (df['adr'] >= 52), \"price_gap_vs_resort\"].describe()"
   ]
  },
  {
   "cell_type": "markdown",
   "id": "43bf0cd5",
   "metadata": {},
   "source": [
    "En el analisis de la variable price_gap_vs_resort se puede evidenciar en el grafico boxplot que las cancelaciones se encuentran concentradas cercanas al cero lo que puede decirnos que las cancelaciones estan propiciadas por el hecho de tener preferencia por hoteles tipo resort sobre los de ciudad y encontrar que lso precios son parecidos lo que pueda llevarlos a cancelar reservas realizadas en hoteles de ciudad para elegir reservas realizadas de ultimo minuto en hoteles resort."
   ]
  },
  {
   "cell_type": "markdown",
   "id": "a42c01a6",
   "metadata": {},
   "source": [
    "* ADR por estacion del año"
   ]
  },
  {
   "cell_type": "code",
   "execution_count": null,
   "id": "8c1472df",
   "metadata": {},
   "outputs": [
    {
     "data": {
      "image/png": "[encoded data removed]",
      "text/plain": [
       "<Figure size 700x700 with 1 Axes>"
      ]
     },
     "metadata": {},
     "output_type": "display_data"
    }
   ],
   "source": [
    "# Análisis de la variable adr por estación del año\n",
    "\n",
    "plt.figure(figsize=(7, 7))\n",
    "sns.boxplot(\n",
    "    data=df,\n",
    "    x='estacion_anio',\n",
    "    y='adr',\n",
    "    showmeans=True\n",
    ")\n",
    "plt.show()"
   ]
  },
  {
   "cell_type": "markdown",
   "id": "8b3014b3",
   "metadata": {},
   "source": [
    "Podemos observar que los precios promedio por noche son mayores para la epoca de verano. Tambien identificamos que existen valores altos en todas las etapas que puedn correspondera al tipo de hotel en lugar de estar relacionados con la estación del año."
   ]
  },
  {
   "cell_type": "markdown",
   "id": "e9b611a5",
   "metadata": {},
   "source": [
    "* ADR por tipo de reserva"
   ]
  },
  {
   "cell_type": "code",
   "execution_count": 120,
   "id": "c8f4b377",
   "metadata": {},
   "outputs": [
    {
     "data": {
      "image/png": "[encoded data removed]",
      "text/plain": [
       "<Figure size 700x700 with 1 Axes>"
      ]
     },
     "metadata": {},
     "output_type": "display_data"
    }
   ],
   "source": [
    "# Análisis de la variable adr por estación del año\n",
    "\n",
    "plt.figure(figsize=(7, 7))\n",
    "sns.boxplot(\n",
    "    data=df,\n",
    "    x='tipo_reserva',\n",
    "    y='adr',\n",
    "    showmeans=True\n",
    ")\n",
    "plt.show()"
   ]
  },
  {
   "cell_type": "markdown",
   "id": "641278d6",
   "metadata": {},
   "source": [
    "Podemos evideniar que el precio promedio por noche es mas bajo para las reservas de ultimo minuto, esta evidencia parece alinearse para propiciar un ajuste en la politica de precios dado que las reservas de ultimo minuto representan un porcentaje considerable de la muestra dado que la moda es de 0 dias de reserva. Y que estos precios sean bajos puede propiciar las cancelaciones realizadas a largo plazo."
   ]
  },
  {
   "cell_type": "markdown",
   "id": "9018955e",
   "metadata": {},
   "source": [
    "* Cancelacion vs Estacion del anio vs tipo de reserva"
   ]
  },
  {
   "cell_type": "code",
   "execution_count": 124,
   "id": "049e4855",
   "metadata": {},
   "outputs": [
    {
     "name": "stderr",
     "output_type": "stream",
     "text": [
      "C:\\Users\\jarat\\AppData\\Local\\Temp\\ipykernel_2132\\1659041553.py:2: FutureWarning: The default value of observed=False is deprecated and will change to observed=True in a future version of pandas. Specify observed=False to silence this warning and retain the current behavior\n",
      "  tabla = df.pivot_table(\n"
     ]
    },
    {
     "data": {
      "image/png": "[encoded data removed]",
      "text/plain": [
       "<Figure size 1000x600 with 2 Axes>"
      ]
     },
     "metadata": {},
     "output_type": "display_data"
    }
   ],
   "source": [
    "# Tabla de cancelaciones (suma de is_canceled)\n",
    "tabla = df.pivot_table(\n",
    "    index='tipo_reserva',\n",
    "    columns='estacion_anio',\n",
    "    values='is_canceled',\n",
    "    aggfunc='sum'  # suma de cancelaciones\n",
    ")\n",
    "\n",
    "# Normalizar por fila (cada tipo de reserva suma 100%)\n",
    "tabla_relativa = tabla.div(tabla.sum(axis=1), axis=0) * 100\n",
    "tabla_relativa = tabla_relativa.round(1)\n",
    "\n",
    "# Graficar\n",
    "plt.figure(figsize=(10, 6))\n",
    "sns.heatmap(tabla_relativa, annot=True, fmt=\".1f\", cmap=\"RdYlGn_r\")\n",
    "plt.title(\"Distribución porcentual de cancelaciones por tipo y estación\")\n",
    "plt.xlabel(\"Estación del año\")\n",
    "plt.ylabel(\"Tipo de reserva\")\n",
    "plt.show()\n"
   ]
  },
  {
   "cell_type": "markdown",
   "id": "6e073238",
   "metadata": {},
   "source": [
    "En el grafico anterior podemos identificar que en verano de manera general existe mayor numero de cancelaciones, lo que se alinea con la interpretación de la demanada como unos usuarios que preferirian pasar sus vacaciones en un hotel de tipo resort.\n",
    "\n",
    "En este punto también surge una alera al encontrarlas reservas de ultimo minuto con un porcentaje alto de cancelacion en el invierno, lo cual podria deberse también a la interpretación que se le dió a las estaciones del año ignorando el hemisferio del pais.\n",
    "\n",
    "\n"
   ]
  },
  {
   "cell_type": "markdown",
   "id": "5f5578a7",
   "metadata": {},
   "source": [
    "## Etapa 5: Validación de Hipotesis y Conclusiones"
   ]
  },
  {
   "cell_type": "markdown",
   "id": "feeb1007",
   "metadata": {},
   "source": [
    "H0: la media de la brecha de precios es igual para canceladas y no canceladas.\n",
    "H1: la media de la brecha de precios es distinta para reservas canceladas y no canceladas\n"
   ]
  },
  {
   "cell_type": "code",
   "execution_count": 135,
   "id": "ea38d86b",
   "metadata": {},
   "outputs": [
    {
     "name": "stdout",
     "output_type": "stream",
     "text": [
      "T-test: 27.110533124721382 p-value: 1.371630574239274e-156\n"
     ]
    }
   ],
   "source": [
    "# prueba t de student para diferencia de medias ### \n",
    "\n",
    "from scipy.stats import ttest_ind\n",
    "\n",
    "city = df[df['hotel'] == 'City Hotel']\n",
    "gap_canceled = city[city['is_canceled'] == True]['price_gap_vs_resort']\n",
    "gap_not_canceled = city[city['is_canceled'] == False]['price_gap_vs_resort']\n",
    "\n",
    "t_stat, p_val = ttest_ind(gap_canceled, gap_not_canceled, equal_var=False)\n",
    "print(\"T-test:\", t_stat, \"p-value:\", p_val)\n",
    "\n",
    "# T-test: 27.110533124721382 p-value: 1.371630574239274e-156\n"
   ]
  },
  {
   "cell_type": "markdown",
   "id": "c8bc45c5",
   "metadata": {},
   "source": [
    "p-value ≪ 0.05 → rechazas la hipótesis nula (H₀: la media de la brecha de precios es igual para canceladas y no canceladas).\n",
    "\n",
    "Conclusión: existe una diferencia estadísticamente significativa en el price_gap_vs_resort entre reservas canceladas y no canceladas en hoteles de ciudad.\n",
    "\n",
    "El valor tan bajo del p-value indica que la diferencia no es producto del azar.\n",
    "\n",
    "Si el precio del hotel de ciudad se acerca demasiado (o supera) al promedio de un resort en el mismo mes, los clientes tienden a cancelar más.\n",
    "\n",
    "Esto respalda tu hipótesis de que la política de precios en ciudad debería ajustarse en verano para mantener una diferencia clara respecto a los resorts."
   ]
  },
  {
   "cell_type": "markdown",
   "id": "a53a5cf9",
   "metadata": {},
   "source": []
  },
  {
   "cell_type": "markdown",
   "id": "ed361d3e",
   "metadata": {},
   "source": [
    "* la proporcion de cancelaciones en reservas de largo plazo es mas alta que la proporcion de cancelaciones en corto plazo?"
   ]
  }
 ],
 "metadata": {
  "kernelspec": {
   "display_name": "Python (venv_ciencia_datos)",
   "language": "python",
   "name": "ciencia_datos"
  },
  "language_info": {
   "codemirror_mode": {
    "name": "ipython",
    "version": 3
   },
   "file_extension": ".py",
   "mimetype": "text/x-python",
   "name": "python",
   "nbconvert_exporter": "python",
   "pygments_lexer": "ipython3",
   "version": "3.12.1"
  }
 },
 "nbformat": 4,
 "nbformat_minor": 5
}
