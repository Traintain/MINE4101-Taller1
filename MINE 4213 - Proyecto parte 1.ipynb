{
 "cells": [
  {
   "cell_type": "markdown",
   "metadata": {
    "application/vnd.databricks.v1+cell": {
     "cellMetadata": {
      "byteLimit": 2048000,
      "rowLimit": 10000
     },
     "inputWidgets": {},
     "nuid": "580990fb-3613-44fb-864e-94a2613e89fc",
     "showTitle": false,
     "tableResultSettingsMap": {},
     "title": ""
    }
   },
   "source": [
    "# MINE 4213 - Proyecto parte 1\n",
    "Elaborado por Juan Manuel Rivera"
   ]
  },
  {
   "cell_type": "code",
   "execution_count": 0,
   "metadata": {
    "application/vnd.databricks.v1+cell": {
     "cellMetadata": {
      "byteLimit": 2048000,
      "rowLimit": 10000
     },
     "inputWidgets": {},
     "nuid": "e8974910-1517-4f98-bfe6-49824749a8d7",
     "showTitle": false,
     "tableResultSettingsMap": {},
     "title": ""
    }
   },
   "outputs": [],
   "source": [
    "from pyspark.sql import functions as f\n",
    "from pyspark.sql.window import Window\n",
    "from pyspark.ml.feature import StopWordsRemover\n",
    "from pyspark.sql import SparkSession"
   ]
  },
  {
   "cell_type": "markdown",
   "metadata": {
    "application/vnd.databricks.v1+cell": {
     "cellMetadata": {
      "byteLimit": 2048000,
      "rowLimit": 10000
     },
     "inputWidgets": {},
     "nuid": "88633bf2-0d6e-4426-b73f-6e9b06b50876",
     "showTitle": false,
     "tableResultSettingsMap": {},
     "title": ""
    }
   },
   "source": [
    "## 1. Carga de datos"
   ]
  },
  {
   "cell_type": "markdown",
   "metadata": {
    "application/vnd.databricks.v1+cell": {
     "cellMetadata": {
      "byteLimit": 2048000,
      "rowLimit": 10000
     },
     "inputWidgets": {},
     "nuid": "c149f81b-11fb-4170-8f1b-03c84a02806e",
     "showTitle": false,
     "tableResultSettingsMap": {},
     "title": ""
    }
   },
   "source": [
    "### 1.1 Datos de proyectos de inversión\n",
    "Los datos tienen la siguiente estructura:\n",
    "\n",
    "    +---bpin\n",
    "    |   *.csv.gz "
   ]
  },
  {
   "cell_type": "code",
   "execution_count": 0,
   "metadata": {
    "application/vnd.databricks.v1+cell": {
     "cellMetadata": {
      "byteLimit": 2048000,
      "rowLimit": 10000
     },
     "inputWidgets": {},
     "nuid": "7b1c1359-07c7-4185-9180-f86f6211d44f",
     "showTitle": false,
     "tableResultSettingsMap": {},
     "title": ""
    }
   },
   "outputs": [],
   "source": [
    "proyectos_inversion = (spark\n",
    "      .read\n",
    "      .option(\"header\", \"true\")\n",
    "      .option(\"inferSchema\", \"true\")\n",
    "      .csv(\"wasbs://sid@uniandesyjt.blob.core.windows.net/bpin\")\n",
    "      )\n",
    "\n",
    "proyectos_inversion.printSchema()"
   ]
  },
  {
   "cell_type": "code",
   "execution_count": 0,
   "metadata": {
    "application/vnd.databricks.v1+cell": {
     "cellMetadata": {
      "byteLimit": 2048000,
      "rowLimit": 10000
     },
     "inputWidgets": {},
     "nuid": "c7acd899-80a2-43fb-8ac0-c0eaf05147fe",
     "showTitle": false,
     "tableResultSettingsMap": {},
     "title": ""
    }
   },
   "outputs": [],
   "source": [
    "proyectos_inversion.show()"
   ]
  },
  {
   "cell_type": "code",
   "execution_count": 0,
   "metadata": {
    "application/vnd.databricks.v1+cell": {
     "cellMetadata": {
      "byteLimit": 2048000,
      "rowLimit": 10000
     },
     "inputWidgets": {},
     "nuid": "f646fa63-e95c-4a8f-a770-8ecb72c1d65e",
     "showTitle": false,
     "tableResultSettingsMap": {},
     "title": ""
    }
   },
   "outputs": [],
   "source": [
    "display(proyectos_inversion)"
   ]
  },
  {
   "cell_type": "code",
   "execution_count": 0,
   "metadata": {
    "application/vnd.databricks.v1+cell": {
     "cellMetadata": {
      "byteLimit": 2048000,
      "rowLimit": 10000
     },
     "inputWidgets": {},
     "nuid": "103645d9-c2e7-4aca-83fa-e5061f0baf43",
     "showTitle": false,
     "tableResultSettingsMap": {},
     "title": ""
    }
   },
   "outputs": [],
   "source": [
    "proyectos_inversion.count()"
   ]
  },
  {
   "cell_type": "markdown",
   "metadata": {
    "application/vnd.databricks.v1+cell": {
     "cellMetadata": {
      "byteLimit": 2048000,
      "rowLimit": 10000
     },
     "inputWidgets": {},
     "nuid": "2e96e853-75c7-4d34-8816-f28403f76161",
     "showTitle": false,
     "tableResultSettingsMap": {},
     "title": ""
    }
   },
   "source": [
    "### 1.2 Datos contratos electrónicos\n",
    "Los datos tienen la siguiente estructura:\n",
    "\n",
    "    +---anno_firma=2015 \n",
    "    |       \n",
    "    *.json.gz \n",
    "    | \n",
    "    +---anno_firma=2016 \n",
    "    |       \n",
    "    *. json.gz \n",
    "    | \n",
    "    +---anno_firma=2017 \n",
    "    |       \n",
    "    *. json.gz  \n",
    "    | \n",
    "    +--- … "
   ]
  },
  {
   "cell_type": "code",
   "execution_count": 0,
   "metadata": {
    "application/vnd.databricks.v1+cell": {
     "cellMetadata": {
      "byteLimit": 2048000,
      "rowLimit": 10000
     },
     "inputWidgets": {},
     "nuid": "b85150f1-df00-415a-85fd-89890cf14e52",
     "showTitle": false,
     "tableResultSettingsMap": {},
     "title": ""
    }
   },
   "outputs": [],
   "source": [
    "secop = (spark\n",
    "      .read\n",
    "      .json(\"wasbs://sid@uniandesyjt.blob.core.windows.net/secop\")\n",
    "      )"
   ]
  },
  {
   "cell_type": "code",
   "execution_count": 0,
   "metadata": {
    "application/vnd.databricks.v1+cell": {
     "cellMetadata": {
      "byteLimit": 2048000,
      "rowLimit": 10000
     },
     "inputWidgets": {},
     "nuid": "2bb6a8fc-4668-4162-b45f-33867b43e120",
     "showTitle": false,
     "tableResultSettingsMap": {},
     "title": ""
    }
   },
   "outputs": [],
   "source": [
    "secop.printSchema()"
   ]
  },
  {
   "cell_type": "code",
   "execution_count": 0,
   "metadata": {
    "application/vnd.databricks.v1+cell": {
     "cellMetadata": {
      "byteLimit": 2048000,
      "rowLimit": 10000
     },
     "inputWidgets": {},
     "nuid": "f3e645f0-668d-4f9c-aa23-924b749fb8d5",
     "showTitle": false,
     "tableResultSettingsMap": {},
     "title": ""
    }
   },
   "outputs": [],
   "source": [
    "display(secop)"
   ]
  },
  {
   "cell_type": "code",
   "execution_count": 0,
   "metadata": {
    "application/vnd.databricks.v1+cell": {
     "cellMetadata": {
      "byteLimit": 2048000,
      "rowLimit": 10000
     },
     "inputWidgets": {},
     "nuid": "414849b1-aa98-46fb-b7e2-60fd97e8d635",
     "showTitle": false,
     "tableResultSettingsMap": {},
     "title": ""
    }
   },
   "outputs": [],
   "source": [
    "secop.count()"
   ]
  },
  {
   "cell_type": "markdown",
   "metadata": {
    "application/vnd.databricks.v1+cell": {
     "cellMetadata": {
      "byteLimit": 2048000,
      "rowLimit": 10000
     },
     "inputWidgets": {},
     "nuid": "c4765a3e-f7a5-4235-9e73-1f57a3476053",
     "showTitle": false,
     "tableResultSettingsMap": {},
     "title": ""
    }
   },
   "source": [
    "## 2. Top 10 proveedores con mayor valor de contratos en el 2024\n",
    "Identifique los 10 proveedores que han tenido el mayor valor de contratos durante el año 2024"
   ]
  },
  {
   "cell_type": "markdown",
   "metadata": {
    "application/vnd.databricks.v1+cell": {
     "cellMetadata": {
      "byteLimit": 2048000,
      "rowLimit": 10000
     },
     "inputWidgets": {},
     "nuid": "445871ad-4a79-4ea2-a04b-8a038cdf06f8",
     "showTitle": false,
     "tableResultSettingsMap": {},
     "title": ""
    }
   },
   "source": [
    "Se aprovechará que los datos del SECOP están particionados por el año de la firma para filtrarlos al momento de leerlos."
   ]
  },
  {
   "cell_type": "code",
   "execution_count": 0,
   "metadata": {
    "application/vnd.databricks.v1+cell": {
     "cellMetadata": {
      "byteLimit": 2048000,
      "rowLimit": 10000
     },
     "inputWidgets": {},
     "nuid": "9ec6dc29-6884-4703-ad6c-8caa0450c01d",
     "showTitle": false,
     "tableResultSettingsMap": {
      "0": {
       "dataGridStateBlob": "{\"version\":1,\"tableState\":{\"columnPinning\":{\"left\":[\"#row_number#\"],\"right\":[]},\"columnSizing\":{},\"columnVisibility\":{}},\"settings\":{\"columns\":{}},\"syncTimestamp\":1758308122987}",
       "filterBlob": null,
       "queryPlanFiltersBlob": null,
       "tableResultIndex": 0
      }
     },
     "title": ""
    }
   },
   "outputs": [],
   "source": [
    "# Se selecciona un sub cojnunto con las columnas a utilizar\n",
    "secop_2024 = (\n",
    "  secop\n",
    "    .filter(secop.anno_firma == 2024)\n",
    "    .select(\"documento_proveedor\", \"proveedor_adjudicado\", \"valor_del_contrato\")\n",
    "    .groupBy(\"documento_proveedor\", \"proveedor_adjudicado\")\n",
    "    .agg(f.sum(\"valor_del_contrato\")\n",
    "    .alias(\"valor_total_de_contratos\"))\n",
    "    .orderBy(f.desc(\"valor_total_de_contratos\"))\n",
    "    .limit(10)\n",
    "  )\n",
    "display(secop_2024)"
   ]
  },
  {
   "cell_type": "markdown",
   "metadata": {
    "application/vnd.databricks.v1+cell": {
     "cellMetadata": {
      "byteLimit": 2048000,
      "rowLimit": 10000
     },
     "inputWidgets": {},
     "nuid": "03f7ba19-bfdf-459d-90b2-a6abd7042649",
     "showTitle": false,
     "tableResultSettingsMap": {},
     "title": ""
    }
   },
   "source": [
    "## 3. Top 10 proyectos con mayor valor por pagar\n",
    "Identifique los 10 Proyectos de inversión que han tenido el mayor valor de contratos sin pagar (valor del contrato menos el valor pagado). La respuesta debe incluir el nombre de los proyectos y el valor sin pagar."
   ]
  },
  {
   "cell_type": "code",
   "execution_count": 0,
   "metadata": {
    "application/vnd.databricks.v1+cell": {
     "cellMetadata": {
      "byteLimit": 2048000,
      "rowLimit": 10000
     },
     "inputWidgets": {},
     "nuid": "6358268f-3845-41f6-bdbc-8fca98b21355",
     "showTitle": false,
     "tableResultSettingsMap": {},
     "title": ""
    }
   },
   "outputs": [],
   "source": [
    "proyectos_valor_por_pagar = (\n",
    "    proyectos_inversion\n",
    "        .withColumn(\n",
    "            \"ValorPorPagar\",\n",
    "            f.round(proyectos_inversion[\"ValorTotalProyecto\"] - proyectos_inversion[\"ValorPagoProyecto\"], 2)\n",
    "            )\n",
    "        .select(\"NombreProyecto\", \"ValorPorPagar\")\n",
    ")\n",
    "\n",
    "top_10_valor_por_pagar = (\n",
    "    proyectos_valor_por_pagar\n",
    "    .orderBy(f.desc(\"ValorPorPagar\"))\n",
    "    .limit(10)\n",
    "    )\n",
    "display(top_10_valor_por_pagar)"
   ]
  },
  {
   "cell_type": "markdown",
   "metadata": {
    "application/vnd.databricks.v1+cell": {
     "cellMetadata": {
      "byteLimit": 2048000,
      "rowLimit": 10000
     },
     "inputWidgets": {},
     "nuid": "6092f1ec-4297-49fd-89da-6c24e1a27941",
     "showTitle": false,
     "tableResultSettingsMap": {},
     "title": ""
    }
   },
   "source": [
    "## 4. Top 5 proveedores con mayor valor de contratos cada año\n",
    "Identifique para cada año el top 5 de los proveedores con mayor valor de contratos. La respuesta debe incluir el nombre de los proveedores, el valor de sus contratos y su posición en el top."
   ]
  },
  {
   "cell_type": "markdown",
   "metadata": {
    "application/vnd.databricks.v1+cell": {
     "cellMetadata": {
      "byteLimit": 2048000,
      "rowLimit": 10000
     },
     "inputWidgets": {},
     "nuid": "815ba55f-883f-4994-926b-d58961ed5b32",
     "showTitle": false,
     "tableResultSettingsMap": {},
     "title": ""
    }
   },
   "source": [
    "Crearemos una ventana para evaluar el valor total del contrato por año"
   ]
  },
  {
   "cell_type": "code",
   "execution_count": 0,
   "metadata": {
    "application/vnd.databricks.v1+cell": {
     "cellMetadata": {
      "byteLimit": 2048000,
      "rowLimit": 10000
     },
     "inputWidgets": {},
     "nuid": "1d505fab-a1f6-4792-aba7-a879c188e3d7",
     "showTitle": false,
     "tableResultSettingsMap": {},
     "title": ""
    },
    "jupyter": {
     "outputs_hidden": true
    }
   },
   "outputs": [],
   "source": [
    "ventas_por_anno = (\n",
    "    secop\n",
    "        .groupBy(\"proveedor_adjudicado\", \"anno_firma\")\n",
    "        .agg(f.sum(\"valor_del_contrato\").alias(\"valor_total_anno\"))\n",
    "    )"
   ]
  },
  {
   "cell_type": "code",
   "execution_count": 0,
   "metadata": {
    "application/vnd.databricks.v1+cell": {
     "cellMetadata": {
      "byteLimit": 2048000,
      "rowLimit": 10000
     },
     "inputWidgets": {},
     "nuid": "a26dc1af-909b-4d08-af6f-3fa34f303206",
     "showTitle": false,
     "tableResultSettingsMap": {},
     "title": ""
    }
   },
   "outputs": [],
   "source": [
    "ventana_por_anno = (\n",
    "    Window\n",
    "    .partitionBy(\"anno_firma\")\n",
    "    .orderBy(f.desc(\"valor_total_anno\"))\n",
    "    )"
   ]
  },
  {
   "cell_type": "code",
   "execution_count": 0,
   "metadata": {
    "application/vnd.databricks.v1+cell": {
     "cellMetadata": {
      "byteLimit": 2048000,
      "rowLimit": 10000
     },
     "inputWidgets": {},
     "nuid": "ed1d854c-d24c-495f-adea-3f329e6daac3",
     "showTitle": false,
     "tableResultSettingsMap": {
      "0": {
       "dataGridStateBlob": "{\"version\":1,\"tableState\":{\"columnPinning\":{\"left\":[\"#row_number#\"],\"right\":[]},\"columnSizing\":{},\"columnVisibility\":{}},\"settings\":{\"columns\":{}},\"syncTimestamp\":1758313852352}",
       "filterBlob": null,
       "queryPlanFiltersBlob": null,
       "tableResultIndex": 0
      }
     },
     "title": ""
    }
   },
   "outputs": [],
   "source": [
    "top_proveedores_por_anno = (\n",
    "  ventas_por_anno\n",
    "    .withColumn(\"rank\", f.row_number().over(ventana_por_anno))\n",
    "    .filter(f.col(\"rank\") <= 5)\n",
    "  )\n",
    "display(top_proveedores_por_anno)"
   ]
  },
  {
   "cell_type": "markdown",
   "metadata": {
    "application/vnd.databricks.v1+cell": {
     "cellMetadata": {
      "byteLimit": 2048000,
      "rowLimit": 10000
     },
     "inputWidgets": {},
     "nuid": "9e52478d-7315-4773-8478-6bf944f44f9a",
     "showTitle": false,
     "tableResultSettingsMap": {},
     "title": ""
    }
   },
   "source": [
    "## 5. Proveedores que firmaron contratos en 2024 pero no en 2020\n",
    "Identifique el número de proveedores que firmaron contratos en el 2024 y NO firmaron \n",
    "contratos en el 2020."
   ]
  },
  {
   "cell_type": "code",
   "execution_count": 0,
   "metadata": {
    "application/vnd.databricks.v1+cell": {
     "cellMetadata": {
      "byteLimit": 2048000,
      "rowLimit": 10000
     },
     "inputWidgets": {},
     "nuid": "d0a90f4c-49fb-4ef6-949e-fad7dc1dd9b4",
     "showTitle": false,
     "tableResultSettingsMap": {},
     "title": ""
    }
   },
   "outputs": [],
   "source": [
    "proveedores_2024 = (\n",
    "    secop.\n",
    "        filter(secop.anno_firma == 2024)\n",
    "        .select(\"documento_proveedor\")\n",
    "        .distinct()\n",
    ")\n",
    "proveedores_2020 = (\n",
    "    secop.\n",
    "        filter(secop.anno_firma == 2020)\n",
    "        .select(\"documento_proveedor\")\n",
    "        .distinct()\n",
    ")"
   ]
  },
  {
   "cell_type": "code",
   "execution_count": 0,
   "metadata": {
    "application/vnd.databricks.v1+cell": {
     "cellMetadata": {
      "byteLimit": 2048000,
      "rowLimit": 10000
     },
     "inputWidgets": {},
     "nuid": "22cf2c5a-f6bb-4664-a105-5127ece06a8c",
     "showTitle": false,
     "tableResultSettingsMap": {},
     "title": ""
    }
   },
   "outputs": [],
   "source": [
    "proveedores_solo_2024 = (\n",
    "    proveedores_2024\n",
    "    .join(proveedores_2020, on=\"documento_proveedor\", how=\"leftanti\")\n",
    "    .agg(f.count(\"documento_proveedor\").alias(\"proveedores_solo_2024\"))\n",
    ")\n",
    "\n",
    "display(proveedores_solo_2024)"
   ]
  },
  {
   "cell_type": "markdown",
   "metadata": {
    "application/vnd.databricks.v1+cell": {
     "cellMetadata": {
      "byteLimit": 2048000,
      "rowLimit": 10000
     },
     "inputWidgets": {},
     "nuid": "1168b398-934c-4802-9b53-b51054f12f03",
     "showTitle": false,
     "tableResultSettingsMap": {},
     "title": ""
    }
   },
   "source": [
    "## 6. Media y mediana de los contratos por \"Prestación de servicios\"\n",
    "Calcule el valor promedio de los contratos de “Prestación de servicios” y una aproximación de la mediana (el percentil 50). Construya esta respuesta de manera que se minimice el tiempo de cálculo, aunque se sacrifique precisión."
   ]
  },
  {
   "cell_type": "code",
   "execution_count": 0,
   "metadata": {
    "application/vnd.databricks.v1+cell": {
     "cellMetadata": {
      "byteLimit": 2048000,
      "rowLimit": 10000
     },
     "inputWidgets": {},
     "nuid": "959ccc75-a193-413e-81d1-0990e6e123e8",
     "showTitle": false,
     "tableResultSettingsMap": {},
     "title": ""
    }
   },
   "outputs": [],
   "source": [
    "# Primero veremos los datos únicos de la columna tipo de contrato\n",
    "display(secop.select(f.col(\"tipo_de_contrato\")).distinct())"
   ]
  },
  {
   "cell_type": "code",
   "execution_count": 0,
   "metadata": {
    "application/vnd.databricks.v1+cell": {
     "cellMetadata": {
      "byteLimit": 2048000,
      "rowLimit": 10000
     },
     "inputWidgets": {},
     "nuid": "36bcb29d-82dd-4a95-be69-1217af093793",
     "showTitle": false,
     "tableResultSettingsMap": {},
     "title": ""
    }
   },
   "outputs": [],
   "source": [
    "# Se mostrará la media de valor del tipo de contrato\n",
    "display(\n",
    "    secop\n",
    "        .filter(f.col(\"tipo_de_contrato\") == \"Prestación de servicios\")\n",
    "        .select(f.avg(\"valor_del_contrato\").alias(\"Valor_promedio_prestacion_servicios\"))\n",
    ")"
   ]
  },
  {
   "cell_type": "code",
   "execution_count": 0,
   "metadata": {
    "application/vnd.databricks.v1+cell": {
     "cellMetadata": {
      "byteLimit": 2048000,
      "rowLimit": 10000
     },
     "inputWidgets": {},
     "nuid": "c4d68981-e1f7-4234-b934-2d154d86b066",
     "showTitle": false,
     "tableResultSettingsMap": {},
     "title": ""
    }
   },
   "outputs": [],
   "source": [
    "# Se calculará la mediana aproximada\n",
    "# Se mostrará la mediana para los contratos de tipo prestación de servicio, con un error del 5%\n",
    "# Exacto median 18702456\n",
    "display(\n",
    "    secop\n",
    "        .filter(f.col(\"tipo_de_contrato\") == \"Prestación de servicios\")\n",
    "        .approxQuantile(\"valor_del_contrato\", [0.5], 0.05))\n",
    "\n"
   ]
  },
  {
   "cell_type": "markdown",
   "metadata": {
    "application/vnd.databricks.v1+cell": {
     "cellMetadata": {
      "byteLimit": 2048000,
      "rowLimit": 10000
     },
     "inputWidgets": {},
     "nuid": "62f936f5-282f-44a2-bffd-7c503bcf48f9",
     "showTitle": false,
     "tableResultSettingsMap": {},
     "title": ""
    }
   },
   "source": [
    "La diferencia marcada entre la mediana y la media sugiere que la distribución podría estar sesgada hacia valores de contrato más bajos. Otra posible explicación sería que hay algunos contratos con valores excepcionalmente altos, lo cuál afecta el promedio."
   ]
  },
  {
   "cell_type": "markdown",
   "metadata": {
    "application/vnd.databricks.v1+cell": {
     "cellMetadata": {
      "byteLimit": 2048000,
      "rowLimit": 10000
     },
     "inputWidgets": {},
     "nuid": "1a85acc1-4029-4f0e-a039-b2b8e31475ac",
     "showTitle": false,
     "tableResultSettingsMap": {},
     "title": ""
    }
   },
   "source": [
    "## 7. Año con mayor número de proveedores distintos\n",
    "Cuál fue el año en el que firmaron contratos un mayor número de proveedores distintos. Construya esta respuesta de manera que se minimice el tiempo de cálculo, aunque se sacrifique precisión."
   ]
  },
  {
   "cell_type": "code",
   "execution_count": 0,
   "metadata": {
    "application/vnd.databricks.v1+cell": {
     "cellMetadata": {
      "byteLimit": 2048000,
      "rowLimit": 10000
     },
     "inputWidgets": {},
     "nuid": "5bb7b9c3-65de-4fea-b9dd-28d1c5c67a03",
     "showTitle": false,
     "tableResultSettingsMap": {},
     "title": ""
    }
   },
   "outputs": [],
   "source": [
    "# Se usará la función de conteo aproximado\n",
    "display(\n",
    "  secop\n",
    "    .groupBy(\"anno_firma\")\n",
    "    .agg(f.approx_count_distinct(\"documento_proveedor\").alias(\"num_proveedores\"))\n",
    "    .orderBy(\"num_proveedores\", ascending=False)\n",
    ")"
   ]
  },
  {
   "cell_type": "markdown",
   "metadata": {
    "application/vnd.databricks.v1+cell": {
     "cellMetadata": {
      "byteLimit": 2048000,
      "rowLimit": 10000
     },
     "inputWidgets": {},
     "nuid": "0a5e618c-b7d9-4cd1-ae6d-c0b106a49990",
     "showTitle": false,
     "tableResultSettingsMap": {},
     "title": ""
    }
   },
   "source": [
    "## 8. Las 20 palabras más comunes en los objetos contractuales\n",
    "Cuáles son las 20 palabras más comunes en los objetos contractuales del 20% de los contratos más altos del 2020. Para esta respuesta omita stopwords (https://en.wikipedia.org/wiki/Stop_word, https://pypi.org/project/stop-words/), puntuaciones y no diferencie entre mayúsculas y minúsculas."
   ]
  },
  {
   "cell_type": "code",
   "execution_count": 0,
   "metadata": {
    "application/vnd.databricks.v1+cell": {
     "cellMetadata": {
      "byteLimit": 2048000,
      "rowLimit": 10000
     },
     "collapsed": true,
     "inputWidgets": {},
     "nuid": "c66ccbb3-feec-4186-b04d-dc7d5d7109f5",
     "showTitle": false,
     "tableResultSettingsMap": {},
     "title": ""
    }
   },
   "outputs": [],
   "source": [
    "# Se tomó la lista de stopwords de la librería NLTK (Natural Language Toolkit).\n",
    "stopwords = ['fuéramos', 'sí', 'fuésemos', 'yo', 'hayas', 'tenías', 'habrán', 'habían', 'suya', 'estamos', 'tiene', 'al', 'hubisteis', 'tendremos', 'os', 'estás', 'hubiese', 'habríamos', 'estoy', 'estarás', 'hay', 'tuyas', 'contra', 'de', 'tuvieses', 'estáis', 'habéis', 'habremos', 'esa', 'nuestras', 'fueseis', 'tendrían', 'estada', 'esos', 'estaban', 'estuve', 'habrían', 'sentido', 'más', 'eran', 'ti', 'estad', 'hubimos', 'esté', 'tienen', 'tenían', 'estaría', 'hubierais', 'mía', 'sois', 'estuvieseis', 'te', 'qué', 'tengas', 'tendríamos', 'eres', 'para', 'algunas', 'han', 'has', 'estaréis', 'nuestra', 'las', 'habríais', 'serías', 'fuisteis', 'estado', 'como', 'tengáis', 'será', 'sobre', 'ese', 'una', 'hubo', 'otro', 'estuvieron', 'fuera', 'estabais', 'estuviesen', 'esto', 'hubieseis', 'ni', 'vuestras', 'habidos', 'estadas', 'sus', 'hubiste', 'vuestros', 'estuvieses', 'seríais', 'estaríamos', 'nos', 'tú', 'estaríais', 'donde', 'estemos', 'hubiésemos', 'tuvieseis', 'del', 'estaremos', 'teníamos', 'estuvo', 'sentid', 'suyas', 'entre', 'eras', 'tuvierais', 'hayan', 'tuviéramos', 'también', 'he', 'tuviésemos', 'estuviéramos', 'tenido', 'y', 'tendría', 'otra', 'me', 'haya', 'vuestro', 'es', 'hube', 'e', 'tuviera', 'vuestra', 'o', 'el', 'habrás', 'tendrías', 'tenida', 'somos', 'fui', 'hubieses', 'estés', 'su', 'fuese', 'tendrás', 'nosotros', 'tenéis', 'antes', 'ellos', 'estaba', 'estarán', 'seas', 'estar', 'fue', 'tendré', 'tanto', 'se', 'estuviera', 'serán', 'habido', 'tuya', 'tendrá', 'seáis', 'sean', 'otros', 'con', 'fuerais', 'seréis', 'fueron', 'tendréis', 'hubiesen', 'estuvierais', 'teníais', 'todo', 'tienes', 'hayamos', 'no', 'fuimos', 'habida', 'ante', 'sentidos', 'tendrán', 'los', 'tuviste', 'estas', 'fueran', 'algunos', 'le', 'esas', 'a', 'tus', 'hubieran', 'míos', 'serían', 'estaré', 'hemos', 'tuvisteis', 'estados', 'sería', 'sin', 'cuando', 'erais', 'habíamos', 'sentida', 'tuyos', 'tengan', 'la', 'mis', 'tenidas', 'nuestros', 'tuvieran', 'era', 'durante', 'habías', 'vosotros', 'estarían', 'hasta', 'estén', 'ha', 'tuvieras', 'serás', 'tenemos', 'son', 'quien', 'estuviese', 'estabas', 'vosotras', 'hubieron', 'mucho', 'estarías', 'por', 'tuve', 'poco', 'estéis', 'tendríais', 'tenidos', 'soy', 'quienes', 'muy', 'había', 'tuviesen', 'habré', 'habrá', 'unos', 'habrías', 'tuvimos', 'nosotras', 'suyo', 'ya', 'muchos', 'estuviésemos', 'estos', 'tuyo', 'todos', 'está', 'hayáis', 'ella', 'siente', 'mías', 'estará', 'tu', 'tenga', 'tuvieron', 'eso', 'fueras', 'seremos', 'hubieras', 'estuvieras', 'estuviste', 'tened', 'seamos', 'tuvo', 'nada', 'habidas', 'seríamos', 'sentidas', 'tenía', 'están', 'estuvieran', 'estábamos', 'un', 'suyos', 'tuviese', 'otras', 'nuestro', 'que', 'tengamos', 'habréis', 'mío', 'mi', 'hubiéramos', 'habíais', 'pero', 'ellas', 'en', 'uno', 'estuvimos', 'algo', 'les', 'cual', 'estuvisteis', 'estando', 'porque', 'desde', 'habría', 'esta', 'hubiera', 'tengo', 'teniendo', 'fuiste', 'sea', 'mí', 'él', 'fuesen', 'seré', 'lo', 'habiendo', 'este', 'éramos', 'sintiendo', 'fueses']"
   ]
  },
  {
   "cell_type": "code",
   "execution_count": 0,
   "metadata": {
    "application/vnd.databricks.v1+cell": {
     "cellMetadata": {
      "byteLimit": 2048000,
      "rowLimit": 10000
     },
     "inputWidgets": {},
     "nuid": "a500625a-fa96-430a-8317-831a901f0359",
     "showTitle": false,
     "tableResultSettingsMap": {},
     "title": ""
    }
   },
   "outputs": [],
   "source": [
    "# Se calculará el valor aproximado de corte para el valor del contrato\n",
    "q_80 = (\n",
    "    secop\n",
    "        .filter(f.col(\"anno_firma\") == 2020)\n",
    "        .approxQuantile(\"valor_del_contrato\", [0.8], 0.01)\n",
    "        )\n",
    "display(q_80)"
   ]
  },
  {
   "cell_type": "code",
   "execution_count": 0,
   "metadata": {
    "application/vnd.databricks.v1+cell": {
     "cellMetadata": {
      "byteLimit": 2048000,
      "rowLimit": 10000
     },
     "inputWidgets": {},
     "nuid": "77438222-a14b-49e0-aef8-8a06ffbfa0af",
     "showTitle": false,
     "tableResultSettingsMap": {
      "0": {
       "dataGridStateBlob": "{\"version\":1,\"tableState\":{\"columnPinning\":{\"left\":[\"#row_number#\"],\"right\":[]},\"columnSizing\":{},\"columnVisibility\":{}},\"settings\":{\"columns\":{}},\"syncTimestamp\":1758318931128}",
       "filterBlob": null,
       "queryPlanFiltersBlob": null,
       "tableResultIndex": 0
      }
     },
     "title": ""
    }
   },
   "outputs": [],
   "source": [
    "top_objetos_2020 = (\n",
    "    secop\n",
    "        .filter(\n",
    "            (secop.anno_firma == 2020) & \n",
    "            (secop.valor_del_contrato >= q_80[0]))\n",
    "        .select(\"objeto_del_contrato\")\n",
    "                      )\n",
    "display(top_objetos_2020)"
   ]
  },
  {
   "cell_type": "code",
   "execution_count": 0,
   "metadata": {
    "application/vnd.databricks.v1+cell": {
     "cellMetadata": {
      "byteLimit": 2048000,
      "rowLimit": 10000
     },
     "inputWidgets": {},
     "nuid": "8bb89caa-28be-4035-a3a1-dcdbbfd20acb",
     "showTitle": false,
     "tableResultSettingsMap": {},
     "title": ""
    }
   },
   "outputs": [],
   "source": [
    "top_objetos_2020 = top_objetos_2020.withColumn(\n",
    "    \"word\",\n",
    "    f.explode(f.split(f.col(\"objeto_del_contrato\"), r\"[^a-zA-Z0-9áéíóúÁÉÍÓÚñÑ]+\"))\n",
    ")\n",
    "\n",
    "display(top_objetos_2020)"
   ]
  },
  {
   "cell_type": "code",
   "execution_count": 0,
   "metadata": {
    "application/vnd.databricks.v1+cell": {
     "cellMetadata": {
      "byteLimit": 2048000,
      "rowLimit": 10000
     },
     "inputWidgets": {},
     "nuid": "1e1defa8-a4cb-4ffa-90c5-e192ed6dc7c4",
     "showTitle": false,
     "tableResultSettingsMap": {},
     "title": ""
    }
   },
   "outputs": [],
   "source": [
    "top_objetos_2020=top_objetos_2020.withColumn(\"word\", f.lower(f.col(\"word\")))\n",
    "top_objetos_2020 = top_objetos_2020.filter(f.col(\"word\") != \"\")\n",
    "top_objetos_2020 = top_objetos_2020.filter((f.length(\"word\") > 1) & (~f.col(\"word\").isin(stopwords) ))\n",
    "display(top_objetos_2020)"
   ]
  },
  {
   "cell_type": "code",
   "execution_count": 0,
   "metadata": {
    "application/vnd.databricks.v1+cell": {
     "cellMetadata": {
      "byteLimit": 2048000,
      "rowLimit": 10000
     },
     "inputWidgets": {},
     "nuid": "873d4e7b-d7d1-433e-bb1d-89f5795c92be",
     "showTitle": false,
     "tableResultSettingsMap": {
      "0": {
       "dataGridStateBlob": "{\"version\":1,\"tableState\":{\"columnPinning\":{\"left\":[\"#row_number#\"],\"right\":[]},\"columnSizing\":{\"word\":122},\"columnVisibility\":{}},\"settings\":{\"columns\":{}},\"syncTimestamp\":1758327050344}",
       "filterBlob": null,
       "queryPlanFiltersBlob": null,
       "tableResultIndex": 0
      }
     },
     "title": ""
    }
   },
   "outputs": [],
   "source": [
    "# Count frequencies\n",
    "word_counts = (\n",
    "    top_objetos_2020.groupBy(\"word\")\n",
    "    .count()\n",
    "    .orderBy(f.desc(\"count\"))\n",
    ")\n",
    "\n",
    "display(word_counts)"
   ]
  }
 ],
 "metadata": {
  "application/vnd.databricks.v1+notebook": {
   "computePreferences": null,
   "dashboards": [],
   "environmentMetadata": {
    "base_environment": "",
    "environment_version": "3"
   },
   "inputWidgetPreferences": null,
   "language": "python",
   "notebookMetadata": {
    "pythonIndentUnit": 4
   },
   "notebookName": "MINE 4213 - Proyecto parte 1",
   "widgets": {}
  },
  "language_info": {
   "name": "python"
  }
 },
 "nbformat": 4,
 "nbformat_minor": 0
}
